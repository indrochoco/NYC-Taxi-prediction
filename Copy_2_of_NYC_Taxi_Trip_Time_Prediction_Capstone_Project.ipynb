{
  "nbformat": 4,
  "nbformat_minor": 0,
  "metadata": {
    "colab": {
      "name": "Copy 2 of NYC Taxi Trip Time Prediction - Capstone Project.ipynb",
      "provenance": [],
      "collapsed_sections": [],
      "include_colab_link": true
    },
    "kernelspec": {
      "display_name": "Python 3",
      "language": "python",
      "name": "python3"
    },
    "language_info": {
      "codemirror_mode": {
        "name": "ipython",
        "version": 3
      },
      "file_extension": ".py",
      "mimetype": "text/x-python",
      "name": "python",
      "nbconvert_exporter": "python",
      "pygments_lexer": "ipython3",
      "version": "3.6.6"
    }
  },
  "cells": [
    {
      "cell_type": "markdown",
      "metadata": {
        "id": "view-in-github",
        "colab_type": "text"
      },
      "source": [
        "<a href=\"https://colab.research.google.com/github/indrochoco/NYC-Taxi-prediction/blob/main/Copy_2_of_NYC_Taxi_Trip_Time_Prediction_Capstone_Project.ipynb\" target=\"_parent\"><img src=\"https://colab.research.google.com/assets/colab-badge.svg\" alt=\"Open In Colab\"/></a>"
      ]
    },
    {
      "cell_type": "markdown",
      "metadata": {
        "id": "tOGC-qoyhJeX"
      },
      "source": [
        "# <b><u> Project Title : Taxi trip time Prediction : Predicting total ride duration of taxi trips in New York City</u></b>"
      ]
    },
    {
      "cell_type": "markdown",
      "metadata": {
        "id": "Y06xIdG26kRF"
      },
      "source": [
        "## <b> Problem Description </b>\n",
        "\n",
        "### Your task is to build a model that predicts the total ride duration of taxi trips in New York City. Your primary dataset is one released by the NYC Taxi and Limousine Commission, which includes pickup time, geo-coordinates, number of passengers, and several other variables."
      ]
    },
    {
      "cell_type": "markdown",
      "metadata": {
        "id": "WWeU1f9bwqQq"
      },
      "source": [
        "## <b> Data Description </b>\n",
        "\n",
        "### The dataset is based on the 2016 NYC Yellow Cab trip record data made available in Big Query on Google Cloud Platform. The data was originally published by the NYC Taxi and Limousine Commission (TLC). The data was sampled and cleaned for the purposes of this project. Based on individual trip attributes, you should predict the duration of each trip in the test set.\n",
        "\n",
        "### <b>NYC Taxi Data.csv</b> - the training set (contains 1458644 trip records)\n",
        "\n",
        "\n",
        "### Data fields\n",
        "* #### id - a unique identifier for each trip\n",
        "* #### vendor_id - a code indicating the provider associated with the trip record\n",
        "* #### pickup_datetime - date and time when the meter was engaged\n",
        "* #### dropoff_datetime - date and time when the meter was disengaged\n",
        "* #### passenger_count - the number of passengers in the vehicle (driver entered value)\n",
        "* #### pickup_longitude - the longitude where the meter was engaged\n",
        "* #### pickup_latitude - the latitude where the meter was engaged\n",
        "* #### dropoff_longitude - the longitude where the meter was disengaged\n",
        "* #### dropoff_latitude - the latitude where the meter was disengaged\n",
        "* #### store_and_fwd_flag - This flag indicates whether the trip record was held in vehicle memory before sending to the vendor because the vehicle did not have a connection to the server - Y=store and forward; N=not a store and forward trip\n",
        "* #### trip_duration - duration of the trip in seconds"
      ]
    },
    {
      "cell_type": "code",
      "metadata": {
        "id": "dByMsuzT8Tnw"
      },
      "source": [
        "import pandas as pd\n",
        "import numpy as np\n",
        "import matplotlib.pyplot as plt\n",
        "%matplotlib inline\n",
        "import seaborn as sns"
      ],
      "execution_count": 3,
      "outputs": []
    },
    {
      "cell_type": "code",
      "metadata": {
        "colab": {
          "base_uri": "https://localhost:8080/"
        },
        "id": "kZPSlfxASS-A",
        "outputId": "a6dd69f0-3983-4384-918c-95bba6be51a8"
      },
      "source": [
        "from google.colab import drive\n",
        "drive.mount('/content/drive')"
      ],
      "execution_count": 4,
      "outputs": [
        {
          "output_type": "stream",
          "name": "stdout",
          "text": [
            "Drive already mounted at /content/drive; to attempt to forcibly remount, call drive.mount(\"/content/drive\", force_remount=True).\n"
          ]
        }
      ]
    },
    {
      "cell_type": "code",
      "metadata": {
        "id": "TGAZhrWrSLlz"
      },
      "source": [
        "path= '/content/drive/MyDrive/almabetter/Copy of NYC Taxi Data.csv'\n",
        "taxi_data= pd.read_csv(path)"
      ],
      "execution_count": 5,
      "outputs": []
    },
    {
      "cell_type": "code",
      "metadata": {
        "colab": {
          "base_uri": "https://localhost:8080/",
          "height": 357
        },
        "id": "IpY12xx1Sml7",
        "outputId": "467ad935-0c0b-424f-8551-7853b8bab24b"
      },
      "source": [
        "taxi_data.head(6)"
      ],
      "execution_count": 34,
      "outputs": [
        {
          "output_type": "execute_result",
          "data": {
            "text/html": [
              "<div>\n",
              "<style scoped>\n",
              "    .dataframe tbody tr th:only-of-type {\n",
              "        vertical-align: middle;\n",
              "    }\n",
              "\n",
              "    .dataframe tbody tr th {\n",
              "        vertical-align: top;\n",
              "    }\n",
              "\n",
              "    .dataframe thead th {\n",
              "        text-align: right;\n",
              "    }\n",
              "</style>\n",
              "<table border=\"1\" class=\"dataframe\">\n",
              "  <thead>\n",
              "    <tr style=\"text-align: right;\">\n",
              "      <th></th>\n",
              "      <th>id</th>\n",
              "      <th>vendor_id</th>\n",
              "      <th>pickup_datetime</th>\n",
              "      <th>dropoff_datetime</th>\n",
              "      <th>passenger_count</th>\n",
              "      <th>pickup_longitude</th>\n",
              "      <th>pickup_latitude</th>\n",
              "      <th>dropoff_longitude</th>\n",
              "      <th>dropoff_latitude</th>\n",
              "      <th>store_and_fwd_flag</th>\n",
              "      <th>trip_duration</th>\n",
              "      <th>distance</th>\n",
              "      <th>pickup_year</th>\n",
              "      <th>pickup_month</th>\n",
              "      <th>pickup_day</th>\n",
              "      <th>pickup_hour</th>\n",
              "      <th>pickup_minute</th>\n",
              "      <th>pickup_second</th>\n",
              "      <th>pickup_day_name</th>\n",
              "      <th>dropoff_year</th>\n",
              "      <th>dropoff_month</th>\n",
              "      <th>dropoff_day</th>\n",
              "      <th>dropoff_hour</th>\n",
              "      <th>dropoff_minute</th>\n",
              "      <th>dropoff_second</th>\n",
              "      <th>dropoff_day_name</th>\n",
              "      <th>avg_speed(km/hr)</th>\n",
              "    </tr>\n",
              "  </thead>\n",
              "  <tbody>\n",
              "    <tr>\n",
              "      <th>0</th>\n",
              "      <td>id2875421</td>\n",
              "      <td>2</td>\n",
              "      <td>2016-03-14 17:24:55</td>\n",
              "      <td>2016-03-14 17:32:30</td>\n",
              "      <td>1</td>\n",
              "      <td>-73.982155</td>\n",
              "      <td>40.767937</td>\n",
              "      <td>-73.964630</td>\n",
              "      <td>40.765602</td>\n",
              "      <td>0</td>\n",
              "      <td>455</td>\n",
              "      <td>1.502172</td>\n",
              "      <td>2016</td>\n",
              "      <td>3</td>\n",
              "      <td>14</td>\n",
              "      <td>17</td>\n",
              "      <td>24</td>\n",
              "      <td>55</td>\n",
              "      <td>1</td>\n",
              "      <td>2016</td>\n",
              "      <td>3</td>\n",
              "      <td>14</td>\n",
              "      <td>17</td>\n",
              "      <td>32</td>\n",
              "      <td>30</td>\n",
              "      <td>Monday</td>\n",
              "      <td>11.89</td>\n",
              "    </tr>\n",
              "    <tr>\n",
              "      <th>1</th>\n",
              "      <td>id2377394</td>\n",
              "      <td>1</td>\n",
              "      <td>2016-06-12 00:43:35</td>\n",
              "      <td>2016-06-12 00:54:38</td>\n",
              "      <td>1</td>\n",
              "      <td>-73.980415</td>\n",
              "      <td>40.738564</td>\n",
              "      <td>-73.999481</td>\n",
              "      <td>40.731152</td>\n",
              "      <td>0</td>\n",
              "      <td>663</td>\n",
              "      <td>1.808660</td>\n",
              "      <td>2016</td>\n",
              "      <td>6</td>\n",
              "      <td>12</td>\n",
              "      <td>0</td>\n",
              "      <td>43</td>\n",
              "      <td>35</td>\n",
              "      <td>7</td>\n",
              "      <td>2016</td>\n",
              "      <td>6</td>\n",
              "      <td>12</td>\n",
              "      <td>0</td>\n",
              "      <td>54</td>\n",
              "      <td>38</td>\n",
              "      <td>Sunday</td>\n",
              "      <td>9.82</td>\n",
              "    </tr>\n",
              "    <tr>\n",
              "      <th>2</th>\n",
              "      <td>id3858529</td>\n",
              "      <td>2</td>\n",
              "      <td>2016-01-19 11:35:24</td>\n",
              "      <td>2016-01-19 12:10:48</td>\n",
              "      <td>1</td>\n",
              "      <td>-73.979027</td>\n",
              "      <td>40.763939</td>\n",
              "      <td>-74.005333</td>\n",
              "      <td>40.710087</td>\n",
              "      <td>0</td>\n",
              "      <td>2124</td>\n",
              "      <td>6.379687</td>\n",
              "      <td>2016</td>\n",
              "      <td>1</td>\n",
              "      <td>19</td>\n",
              "      <td>11</td>\n",
              "      <td>35</td>\n",
              "      <td>24</td>\n",
              "      <td>4</td>\n",
              "      <td>2016</td>\n",
              "      <td>1</td>\n",
              "      <td>19</td>\n",
              "      <td>12</td>\n",
              "      <td>10</td>\n",
              "      <td>48</td>\n",
              "      <td>Tuesday</td>\n",
              "      <td>10.81</td>\n",
              "    </tr>\n",
              "    <tr>\n",
              "      <th>3</th>\n",
              "      <td>id3504673</td>\n",
              "      <td>2</td>\n",
              "      <td>2016-04-06 19:32:31</td>\n",
              "      <td>2016-04-06 19:39:40</td>\n",
              "      <td>1</td>\n",
              "      <td>-74.010040</td>\n",
              "      <td>40.719971</td>\n",
              "      <td>-74.012268</td>\n",
              "      <td>40.706718</td>\n",
              "      <td>0</td>\n",
              "      <td>429</td>\n",
              "      <td>1.483632</td>\n",
              "      <td>2016</td>\n",
              "      <td>4</td>\n",
              "      <td>6</td>\n",
              "      <td>19</td>\n",
              "      <td>32</td>\n",
              "      <td>31</td>\n",
              "      <td>3</td>\n",
              "      <td>2016</td>\n",
              "      <td>4</td>\n",
              "      <td>6</td>\n",
              "      <td>19</td>\n",
              "      <td>39</td>\n",
              "      <td>40</td>\n",
              "      <td>Wednesday</td>\n",
              "      <td>12.45</td>\n",
              "    </tr>\n",
              "    <tr>\n",
              "      <th>4</th>\n",
              "      <td>id2181028</td>\n",
              "      <td>2</td>\n",
              "      <td>2016-03-26 13:30:55</td>\n",
              "      <td>2016-03-26 13:38:10</td>\n",
              "      <td>1</td>\n",
              "      <td>-73.973053</td>\n",
              "      <td>40.793209</td>\n",
              "      <td>-73.972923</td>\n",
              "      <td>40.782520</td>\n",
              "      <td>0</td>\n",
              "      <td>435</td>\n",
              "      <td>1.187038</td>\n",
              "      <td>2016</td>\n",
              "      <td>3</td>\n",
              "      <td>26</td>\n",
              "      <td>13</td>\n",
              "      <td>30</td>\n",
              "      <td>55</td>\n",
              "      <td>6</td>\n",
              "      <td>2016</td>\n",
              "      <td>3</td>\n",
              "      <td>26</td>\n",
              "      <td>13</td>\n",
              "      <td>38</td>\n",
              "      <td>10</td>\n",
              "      <td>Saturday</td>\n",
              "      <td>9.82</td>\n",
              "    </tr>\n",
              "    <tr>\n",
              "      <th>5</th>\n",
              "      <td>id0801584</td>\n",
              "      <td>2</td>\n",
              "      <td>2016-01-30 22:01:40</td>\n",
              "      <td>2016-01-30 22:09:03</td>\n",
              "      <td>6</td>\n",
              "      <td>-73.982857</td>\n",
              "      <td>40.742195</td>\n",
              "      <td>-73.992081</td>\n",
              "      <td>40.749184</td>\n",
              "      <td>0</td>\n",
              "      <td>443</td>\n",
              "      <td>1.099625</td>\n",
              "      <td>2016</td>\n",
              "      <td>1</td>\n",
              "      <td>30</td>\n",
              "      <td>22</td>\n",
              "      <td>1</td>\n",
              "      <td>40</td>\n",
              "      <td>6</td>\n",
              "      <td>2016</td>\n",
              "      <td>1</td>\n",
              "      <td>30</td>\n",
              "      <td>22</td>\n",
              "      <td>9</td>\n",
              "      <td>3</td>\n",
              "      <td>Saturday</td>\n",
              "      <td>8.94</td>\n",
              "    </tr>\n",
              "  </tbody>\n",
              "</table>\n",
              "</div>"
            ],
            "text/plain": [
              "          id  vendor_id  ... dropoff_day_name avg_speed(km/hr)\n",
              "0  id2875421          2  ...           Monday            11.89\n",
              "1  id2377394          1  ...           Sunday             9.82\n",
              "2  id3858529          2  ...          Tuesday            10.81\n",
              "3  id3504673          2  ...        Wednesday            12.45\n",
              "4  id2181028          2  ...         Saturday             9.82\n",
              "5  id0801584          2  ...         Saturday             8.94\n",
              "\n",
              "[6 rows x 27 columns]"
            ]
          },
          "metadata": {},
          "execution_count": 34
        }
      ]
    },
    {
      "cell_type": "code",
      "metadata": {
        "colab": {
          "base_uri": "https://localhost:8080/"
        },
        "id": "xb0xeio4TGwH",
        "outputId": "3d3bbe2c-c4c2-47b8-98bc-ac95b575ade5"
      },
      "source": [
        "taxi_data.shape"
      ],
      "execution_count": 7,
      "outputs": [
        {
          "output_type": "execute_result",
          "data": {
            "text/plain": [
              "(1458644, 11)"
            ]
          },
          "metadata": {},
          "execution_count": 7
        }
      ]
    },
    {
      "cell_type": "code",
      "metadata": {
        "colab": {
          "base_uri": "https://localhost:8080/"
        },
        "id": "55hRPv7Jbnge",
        "outputId": "db348de8-9e14-4e8d-c1bd-280614a957bd"
      },
      "source": [
        "taxi_data.columns"
      ],
      "execution_count": 8,
      "outputs": [
        {
          "output_type": "execute_result",
          "data": {
            "text/plain": [
              "Index(['id', 'vendor_id', 'pickup_datetime', 'dropoff_datetime',\n",
              "       'passenger_count', 'pickup_longitude', 'pickup_latitude',\n",
              "       'dropoff_longitude', 'dropoff_latitude', 'store_and_fwd_flag',\n",
              "       'trip_duration'],\n",
              "      dtype='object')"
            ]
          },
          "metadata": {},
          "execution_count": 8
        }
      ]
    },
    {
      "cell_type": "code",
      "metadata": {
        "colab": {
          "base_uri": "https://localhost:8080/"
        },
        "id": "_Ee9uj4USw6Y",
        "outputId": "03b904cb-142c-4dc2-a8e7-e36e63aacbdd"
      },
      "source": [
        "taxi_data.info()"
      ],
      "execution_count": 9,
      "outputs": [
        {
          "output_type": "stream",
          "name": "stdout",
          "text": [
            "<class 'pandas.core.frame.DataFrame'>\n",
            "RangeIndex: 1458644 entries, 0 to 1458643\n",
            "Data columns (total 11 columns):\n",
            " #   Column              Non-Null Count    Dtype  \n",
            "---  ------              --------------    -----  \n",
            " 0   id                  1458644 non-null  object \n",
            " 1   vendor_id           1458644 non-null  int64  \n",
            " 2   pickup_datetime     1458644 non-null  object \n",
            " 3   dropoff_datetime    1458644 non-null  object \n",
            " 4   passenger_count     1458644 non-null  int64  \n",
            " 5   pickup_longitude    1458644 non-null  float64\n",
            " 6   pickup_latitude     1458644 non-null  float64\n",
            " 7   dropoff_longitude   1458644 non-null  float64\n",
            " 8   dropoff_latitude    1458644 non-null  float64\n",
            " 9   store_and_fwd_flag  1458644 non-null  object \n",
            " 10  trip_duration       1458644 non-null  int64  \n",
            "dtypes: float64(4), int64(3), object(4)\n",
            "memory usage: 122.4+ MB\n"
          ]
        }
      ]
    },
    {
      "cell_type": "code",
      "metadata": {
        "colab": {
          "base_uri": "https://localhost:8080/",
          "height": 69
        },
        "id": "3X5RhbvFSrH8",
        "outputId": "d3c6d990-1782-458c-b786-96c9a8b85666"
      },
      "source": [
        "taxi_data[taxi_data.duplicated() == True]"
      ],
      "execution_count": 10,
      "outputs": [
        {
          "output_type": "execute_result",
          "data": {
            "text/html": [
              "<div>\n",
              "<style scoped>\n",
              "    .dataframe tbody tr th:only-of-type {\n",
              "        vertical-align: middle;\n",
              "    }\n",
              "\n",
              "    .dataframe tbody tr th {\n",
              "        vertical-align: top;\n",
              "    }\n",
              "\n",
              "    .dataframe thead th {\n",
              "        text-align: right;\n",
              "    }\n",
              "</style>\n",
              "<table border=\"1\" class=\"dataframe\">\n",
              "  <thead>\n",
              "    <tr style=\"text-align: right;\">\n",
              "      <th></th>\n",
              "      <th>id</th>\n",
              "      <th>vendor_id</th>\n",
              "      <th>pickup_datetime</th>\n",
              "      <th>dropoff_datetime</th>\n",
              "      <th>passenger_count</th>\n",
              "      <th>pickup_longitude</th>\n",
              "      <th>pickup_latitude</th>\n",
              "      <th>dropoff_longitude</th>\n",
              "      <th>dropoff_latitude</th>\n",
              "      <th>store_and_fwd_flag</th>\n",
              "      <th>trip_duration</th>\n",
              "    </tr>\n",
              "  </thead>\n",
              "  <tbody>\n",
              "  </tbody>\n",
              "</table>\n",
              "</div>"
            ],
            "text/plain": [
              "Empty DataFrame\n",
              "Columns: [id, vendor_id, pickup_datetime, dropoff_datetime, passenger_count, pickup_longitude, pickup_latitude, dropoff_longitude, dropoff_latitude, store_and_fwd_flag, trip_duration]\n",
              "Index: []"
            ]
          },
          "metadata": {},
          "execution_count": 10
        }
      ]
    },
    {
      "cell_type": "code",
      "metadata": {
        "colab": {
          "base_uri": "https://localhost:8080/"
        },
        "id": "Fjkgwr36TDVT",
        "outputId": "903d7a7a-b980-4f3d-9d0a-287d122c320d"
      },
      "source": [
        "taxi_data.store_and_fwd_flag.unique()"
      ],
      "execution_count": 11,
      "outputs": [
        {
          "output_type": "execute_result",
          "data": {
            "text/plain": [
              "array(['N', 'Y'], dtype=object)"
            ]
          },
          "metadata": {},
          "execution_count": 11
        }
      ]
    },
    {
      "cell_type": "code",
      "metadata": {
        "colab": {
          "base_uri": "https://localhost:8080/"
        },
        "id": "V4gZlODgx5KS",
        "outputId": "019c1150-c974-4d24-a9c5-8343d51983f6"
      },
      "source": [
        "taxi_data.passenger_count.unique()"
      ],
      "execution_count": 12,
      "outputs": [
        {
          "output_type": "execute_result",
          "data": {
            "text/plain": [
              "array([1, 6, 4, 2, 3, 5, 0, 7, 9, 8])"
            ]
          },
          "metadata": {},
          "execution_count": 12
        }
      ]
    },
    {
      "cell_type": "code",
      "metadata": {
        "colab": {
          "base_uri": "https://localhost:8080/",
          "height": 297
        },
        "id": "U-GidLXsWEop",
        "outputId": "13e29770-7075-4cc9-8d6b-46ca6c16e3a1"
      },
      "source": [
        "taxi_data.describe()"
      ],
      "execution_count": 13,
      "outputs": [
        {
          "output_type": "execute_result",
          "data": {
            "text/html": [
              "<div>\n",
              "<style scoped>\n",
              "    .dataframe tbody tr th:only-of-type {\n",
              "        vertical-align: middle;\n",
              "    }\n",
              "\n",
              "    .dataframe tbody tr th {\n",
              "        vertical-align: top;\n",
              "    }\n",
              "\n",
              "    .dataframe thead th {\n",
              "        text-align: right;\n",
              "    }\n",
              "</style>\n",
              "<table border=\"1\" class=\"dataframe\">\n",
              "  <thead>\n",
              "    <tr style=\"text-align: right;\">\n",
              "      <th></th>\n",
              "      <th>vendor_id</th>\n",
              "      <th>passenger_count</th>\n",
              "      <th>pickup_longitude</th>\n",
              "      <th>pickup_latitude</th>\n",
              "      <th>dropoff_longitude</th>\n",
              "      <th>dropoff_latitude</th>\n",
              "      <th>trip_duration</th>\n",
              "    </tr>\n",
              "  </thead>\n",
              "  <tbody>\n",
              "    <tr>\n",
              "      <th>count</th>\n",
              "      <td>1.458644e+06</td>\n",
              "      <td>1.458644e+06</td>\n",
              "      <td>1.458644e+06</td>\n",
              "      <td>1.458644e+06</td>\n",
              "      <td>1.458644e+06</td>\n",
              "      <td>1.458644e+06</td>\n",
              "      <td>1.458644e+06</td>\n",
              "    </tr>\n",
              "    <tr>\n",
              "      <th>mean</th>\n",
              "      <td>1.534950e+00</td>\n",
              "      <td>1.664530e+00</td>\n",
              "      <td>-7.397349e+01</td>\n",
              "      <td>4.075092e+01</td>\n",
              "      <td>-7.397342e+01</td>\n",
              "      <td>4.075180e+01</td>\n",
              "      <td>9.594923e+02</td>\n",
              "    </tr>\n",
              "    <tr>\n",
              "      <th>std</th>\n",
              "      <td>4.987772e-01</td>\n",
              "      <td>1.314242e+00</td>\n",
              "      <td>7.090186e-02</td>\n",
              "      <td>3.288119e-02</td>\n",
              "      <td>7.064327e-02</td>\n",
              "      <td>3.589056e-02</td>\n",
              "      <td>5.237432e+03</td>\n",
              "    </tr>\n",
              "    <tr>\n",
              "      <th>min</th>\n",
              "      <td>1.000000e+00</td>\n",
              "      <td>0.000000e+00</td>\n",
              "      <td>-1.219333e+02</td>\n",
              "      <td>3.435970e+01</td>\n",
              "      <td>-1.219333e+02</td>\n",
              "      <td>3.218114e+01</td>\n",
              "      <td>1.000000e+00</td>\n",
              "    </tr>\n",
              "    <tr>\n",
              "      <th>25%</th>\n",
              "      <td>1.000000e+00</td>\n",
              "      <td>1.000000e+00</td>\n",
              "      <td>-7.399187e+01</td>\n",
              "      <td>4.073735e+01</td>\n",
              "      <td>-7.399133e+01</td>\n",
              "      <td>4.073588e+01</td>\n",
              "      <td>3.970000e+02</td>\n",
              "    </tr>\n",
              "    <tr>\n",
              "      <th>50%</th>\n",
              "      <td>2.000000e+00</td>\n",
              "      <td>1.000000e+00</td>\n",
              "      <td>-7.398174e+01</td>\n",
              "      <td>4.075410e+01</td>\n",
              "      <td>-7.397975e+01</td>\n",
              "      <td>4.075452e+01</td>\n",
              "      <td>6.620000e+02</td>\n",
              "    </tr>\n",
              "    <tr>\n",
              "      <th>75%</th>\n",
              "      <td>2.000000e+00</td>\n",
              "      <td>2.000000e+00</td>\n",
              "      <td>-7.396733e+01</td>\n",
              "      <td>4.076836e+01</td>\n",
              "      <td>-7.396301e+01</td>\n",
              "      <td>4.076981e+01</td>\n",
              "      <td>1.075000e+03</td>\n",
              "    </tr>\n",
              "    <tr>\n",
              "      <th>max</th>\n",
              "      <td>2.000000e+00</td>\n",
              "      <td>9.000000e+00</td>\n",
              "      <td>-6.133553e+01</td>\n",
              "      <td>5.188108e+01</td>\n",
              "      <td>-6.133553e+01</td>\n",
              "      <td>4.392103e+01</td>\n",
              "      <td>3.526282e+06</td>\n",
              "    </tr>\n",
              "  </tbody>\n",
              "</table>\n",
              "</div>"
            ],
            "text/plain": [
              "          vendor_id  passenger_count  ...  dropoff_latitude  trip_duration\n",
              "count  1.458644e+06     1.458644e+06  ...      1.458644e+06   1.458644e+06\n",
              "mean   1.534950e+00     1.664530e+00  ...      4.075180e+01   9.594923e+02\n",
              "std    4.987772e-01     1.314242e+00  ...      3.589056e-02   5.237432e+03\n",
              "min    1.000000e+00     0.000000e+00  ...      3.218114e+01   1.000000e+00\n",
              "25%    1.000000e+00     1.000000e+00  ...      4.073588e+01   3.970000e+02\n",
              "50%    2.000000e+00     1.000000e+00  ...      4.075452e+01   6.620000e+02\n",
              "75%    2.000000e+00     2.000000e+00  ...      4.076981e+01   1.075000e+03\n",
              "max    2.000000e+00     9.000000e+00  ...      4.392103e+01   3.526282e+06\n",
              "\n",
              "[8 rows x 7 columns]"
            ]
          },
          "metadata": {},
          "execution_count": 13
        }
      ]
    },
    {
      "cell_type": "code",
      "metadata": {
        "id": "vU67TLqDYmcV"
      },
      "source": [
        "taxi_data['dropoff_datetime']= pd.to_datetime(taxi_data['dropoff_datetime'])\n",
        "taxi_data['pickup_datetime']= pd.to_datetime(taxi_data['pickup_datetime'])"
      ],
      "execution_count": 14,
      "outputs": []
    },
    {
      "cell_type": "code",
      "metadata": {
        "id": "xweBdM95bboc"
      },
      "source": [
        "value= {'store_and_fwd_flag':{'N':0,'Y':1}}\n",
        "taxi_data= taxi_data.replace(value)"
      ],
      "execution_count": 15,
      "outputs": []
    },
    {
      "cell_type": "code",
      "metadata": {
        "colab": {
          "base_uri": "https://localhost:8080/",
          "height": 69
        },
        "id": "QIiCYpnQTvHI",
        "outputId": "56f910db-b28d-46c7-9c67-26e8cd8d362a"
      },
      "source": [
        "taxi_data[taxi_data.dropoff_longitude==0]"
      ],
      "execution_count": 16,
      "outputs": [
        {
          "output_type": "execute_result",
          "data": {
            "text/html": [
              "<div>\n",
              "<style scoped>\n",
              "    .dataframe tbody tr th:only-of-type {\n",
              "        vertical-align: middle;\n",
              "    }\n",
              "\n",
              "    .dataframe tbody tr th {\n",
              "        vertical-align: top;\n",
              "    }\n",
              "\n",
              "    .dataframe thead th {\n",
              "        text-align: right;\n",
              "    }\n",
              "</style>\n",
              "<table border=\"1\" class=\"dataframe\">\n",
              "  <thead>\n",
              "    <tr style=\"text-align: right;\">\n",
              "      <th></th>\n",
              "      <th>id</th>\n",
              "      <th>vendor_id</th>\n",
              "      <th>pickup_datetime</th>\n",
              "      <th>dropoff_datetime</th>\n",
              "      <th>passenger_count</th>\n",
              "      <th>pickup_longitude</th>\n",
              "      <th>pickup_latitude</th>\n",
              "      <th>dropoff_longitude</th>\n",
              "      <th>dropoff_latitude</th>\n",
              "      <th>store_and_fwd_flag</th>\n",
              "      <th>trip_duration</th>\n",
              "    </tr>\n",
              "  </thead>\n",
              "  <tbody>\n",
              "  </tbody>\n",
              "</table>\n",
              "</div>"
            ],
            "text/plain": [
              "Empty DataFrame\n",
              "Columns: [id, vendor_id, pickup_datetime, dropoff_datetime, passenger_count, pickup_longitude, pickup_latitude, dropoff_longitude, dropoff_latitude, store_and_fwd_flag, trip_duration]\n",
              "Index: []"
            ]
          },
          "metadata": {},
          "execution_count": 16
        }
      ]
    },
    {
      "cell_type": "code",
      "metadata": {
        "id": "wMIw6e6xh5uf"
      },
      "source": [
        "import geopy.distance"
      ],
      "execution_count": 17,
      "outputs": []
    },
    {
      "cell_type": "code",
      "metadata": {
        "id": "jECs_9VMbzq-"
      },
      "source": [
        "def calculate_distance(df):\n",
        "#dist_list= []\n",
        "  for k in range(taxi_data.shape[0]):\n",
        "\n",
        "      # Point one\n",
        "      lat1 = taxi_data.pickup_latitude[k]\n",
        "      lon1 = taxi_data.pickup_longitude[k]\n",
        "\n",
        "      # Point two\n",
        "      lat2 = taxi_data.dropoff_latitude[k]\n",
        "      lon2 = taxi_data.dropoff_longitude[k]\n",
        "\n",
        "      # calculate distance between two points\n",
        "      coords_1 = (lat1,lon1)\n",
        "      coords_2 = (lat2,lon2)\n",
        "      return geopy.distance.vincenty(coords_1, coords_2).km  # gives distance\n",
        "      #dist_list.append(distance)\n",
        "\n",
        "# adding distance column to the dataset \n",
        "#taxi_data['distance']= dist_list"
      ],
      "execution_count": 53,
      "outputs": []
    },
    {
      "cell_type": "code",
      "metadata": {
        "id": "y8f1AnV2vl-m"
      },
      "source": [
        "taxi_data['distance'] = taxi_data.apply(lambda df : calculate_distance(df), axis =1)\n"
      ],
      "execution_count": 55,
      "outputs": []
    },
    {
      "cell_type": "code",
      "metadata": {
        "colab": {
          "base_uri": "https://localhost:8080/",
          "height": 421
        },
        "id": "1k-MHKgvjuse",
        "outputId": "c3213a80-006f-46da-8fe1-4d56c9d091ea"
      },
      "source": [
        "f, ax = plt.subplots(figsize=(10, 5))\n",
        "sns.despine(f)\n",
        "sns.distplot(\n",
        "    taxi_data['passenger_count'].value_counts()\n",
        "    )\n"
      ],
      "execution_count": 56,
      "outputs": [
        {
          "output_type": "stream",
          "name": "stderr",
          "text": [
            "/usr/local/lib/python3.7/dist-packages/seaborn/distributions.py:2619: FutureWarning: `distplot` is a deprecated function and will be removed in a future version. Please adapt your code to use either `displot` (a figure-level function with similar flexibility) or `histplot` (an axes-level function for histograms).\n",
            "  warnings.warn(msg, FutureWarning)\n"
          ]
        },
        {
          "output_type": "execute_result",
          "data": {
            "text/plain": [
              "<matplotlib.axes._subplots.AxesSubplot at 0x7f10fa6fb390>"
            ]
          },
          "metadata": {},
          "execution_count": 56
        },
        {
          "output_type": "display_data",
          "data": {
            "image/png": "[encoded data removed]",
            "text/plain": [
              "<Figure size 720x360 with 1 Axes>"
            ]
          },
          "metadata": {}
        }
      ]
    },
    {
      "cell_type": "code",
      "metadata": {
        "colab": {
          "base_uri": "https://localhost:8080/"
        },
        "id": "4GHTpL0s3Rbw",
        "outputId": "1e3b598f-56ec-495d-fd5b-a5a9a929702c"
      },
      "source": [
        "taxi_data['passenger_count'].value_counts()"
      ],
      "execution_count": 20,
      "outputs": [
        {
          "output_type": "execute_result",
          "data": {
            "text/plain": [
              "1    1033540\n",
              "2     210318\n",
              "5      78088\n",
              "3      59896\n",
              "6      48333\n",
              "4      28404\n",
              "0         60\n",
              "7          3\n",
              "9          1\n",
              "8          1\n",
              "Name: passenger_count, dtype: int64"
            ]
          },
          "metadata": {},
          "execution_count": 20
        }
      ]
    },
    {
      "cell_type": "code",
      "metadata": {
        "id": "zF4mJDmKrlmA"
      },
      "source": [
        "import datetime\n",
        "taxi_data['pickup_year'] = taxi_data['pickup_datetime'].dt.year\n",
        "taxi_data['pickup_month'] = taxi_data['pickup_datetime'].dt.month\n",
        "taxi_data['pickup_day'] = taxi_data['pickup_datetime'].dt.day\n",
        "taxi_data['pickup_hour'] = taxi_data['pickup_datetime'].dt.hour\n",
        "taxi_data['pickup_minute'] = taxi_data['pickup_datetime'].dt.minute\n",
        "taxi_data['pickup_second'] = taxi_data['pickup_datetime'].dt.second\n",
        "taxi_data['pickup_day_name'] = taxi_data['pickup_datetime'].dt.day_name()"
      ],
      "execution_count": 23,
      "outputs": []
    },
    {
      "cell_type": "code",
      "metadata": {
        "id": "gUjZ4EZ_U-kQ"
      },
      "source": [
        "taxi_data['dropoff_year'] = taxi_data['dropoff_datetime'].dt.year\n",
        "taxi_data['dropoff_month'] = taxi_data['dropoff_datetime'].dt.month\n",
        "taxi_data['dropoff_day'] = taxi_data['dropoff_datetime'].dt.day\n",
        "taxi_data['dropoff_hour'] = taxi_data['dropoff_datetime'].dt.hour\n",
        "taxi_data['dropoff_minute'] = taxi_data['dropoff_datetime'].dt.minute\n",
        "taxi_data['dropoff_second'] = taxi_data['dropoff_datetime'].dt.second\n",
        "taxi_data['dropoff_day_name'] = taxi_data['dropoff_datetime'].dt.day_name()"
      ],
      "execution_count": 24,
      "outputs": []
    },
    {
      "cell_type": "markdown",
      "metadata": {
        "id": "q1fE4Y7vdYpw"
      },
      "source": [
        "Number of Trips count by week days"
      ]
    },
    {
      "cell_type": "code",
      "metadata": {
        "colab": {
          "base_uri": "https://localhost:8080/",
          "height": 367
        },
        "id": "nv-D6cl6TAxJ",
        "outputId": "656b6741-79e3-423d-8702-f8b1deebb799"
      },
      "source": [
        "weekdays_number= taxi_data.pickup_day_name.value_counts().reset_index()\n",
        "# Plotting graph\n",
        "f, ax = plt.subplots(figsize=(10, 5))\n",
        "sns.despine(f)\n",
        "sns.set_theme(style=\"whitegrid\")\n",
        "ax= sns.barplot(x='index',y='pickup_day_name',data=weekdays_number )\n",
        "ax.set_ylabel(\"Trip_number\")\n",
        "ax.set_xlabel(\"Week days name\")\n",
        "plt.title(\"Number of trips in week days\")"
      ],
      "execution_count": 25,
      "outputs": [
        {
          "output_type": "execute_result",
          "data": {
            "text/plain": [
              "Text(0.5, 1.0, 'Number of trips in week days')"
            ]
          },
          "metadata": {},
          "execution_count": 25
        },
        {
          "output_type": "display_data",
          "data": {
            "image/png": "[encoded data removed]",
            "text/plain": [
              "<Figure size 720x360 with 1 Axes>"
            ]
          },
          "metadata": {
            "needs_background": "light"
          }
        }
      ]
    },
    {
      "cell_type": "markdown",
      "metadata": {
        "id": "sXtpPyUzddZB"
      },
      "source": [
        "Avg duration of trips by week days"
      ]
    },
    {
      "cell_type": "code",
      "metadata": {
        "id": "oo733VH5jOY7"
      },
      "source": [
        "avg_duration_day= taxi_data.groupby(['pickup_day_name'])['trip_duration'].mean().reset_index().rename(columns={'trip_duration':'avg_trip_duration'}).sort_values(by = \"avg_trip_duration\" , ascending=False ,ignore_index=True)\n"
      ],
      "execution_count": 26,
      "outputs": []
    },
    {
      "cell_type": "code",
      "metadata": {
        "colab": {
          "base_uri": "https://localhost:8080/",
          "height": 266
        },
        "id": "qm4Tx7PkjaYg",
        "outputId": "c4ce0bab-f9ba-477d-e34a-1184aedfddb4"
      },
      "source": [
        "avg_duration_day"
      ],
      "execution_count": 27,
      "outputs": [
        {
          "output_type": "execute_result",
          "data": {
            "text/html": [
              "<div>\n",
              "<style scoped>\n",
              "    .dataframe tbody tr th:only-of-type {\n",
              "        vertical-align: middle;\n",
              "    }\n",
              "\n",
              "    .dataframe tbody tr th {\n",
              "        vertical-align: top;\n",
              "    }\n",
              "\n",
              "    .dataframe thead th {\n",
              "        text-align: right;\n",
              "    }\n",
              "</style>\n",
              "<table border=\"1\" class=\"dataframe\">\n",
              "  <thead>\n",
              "    <tr style=\"text-align: right;\">\n",
              "      <th></th>\n",
              "      <th>pickup_day_name</th>\n",
              "      <th>avg_trip_duration</th>\n",
              "    </tr>\n",
              "  </thead>\n",
              "  <tbody>\n",
              "    <tr>\n",
              "      <th>0</th>\n",
              "      <td>Thursday</td>\n",
              "      <td>1006.528654</td>\n",
              "    </tr>\n",
              "    <tr>\n",
              "      <th>1</th>\n",
              "      <td>Friday</td>\n",
              "      <td>990.224200</td>\n",
              "    </tr>\n",
              "    <tr>\n",
              "      <th>2</th>\n",
              "      <td>Tuesday</td>\n",
              "      <td>983.463124</td>\n",
              "    </tr>\n",
              "    <tr>\n",
              "      <th>3</th>\n",
              "      <td>Wednesday</td>\n",
              "      <td>975.450494</td>\n",
              "    </tr>\n",
              "    <tr>\n",
              "      <th>4</th>\n",
              "      <td>Saturday</td>\n",
              "      <td>948.051175</td>\n",
              "    </tr>\n",
              "    <tr>\n",
              "      <th>5</th>\n",
              "      <td>Sunday</td>\n",
              "      <td>901.639395</td>\n",
              "    </tr>\n",
              "    <tr>\n",
              "      <th>6</th>\n",
              "      <td>Monday</td>\n",
              "      <td>897.947839</td>\n",
              "    </tr>\n",
              "  </tbody>\n",
              "</table>\n",
              "</div>"
            ],
            "text/plain": [
              "  pickup_day_name  avg_trip_duration\n",
              "0        Thursday        1006.528654\n",
              "1          Friday         990.224200\n",
              "2         Tuesday         983.463124\n",
              "3       Wednesday         975.450494\n",
              "4        Saturday         948.051175\n",
              "5          Sunday         901.639395\n",
              "6          Monday         897.947839"
            ]
          },
          "metadata": {},
          "execution_count": 27
        }
      ]
    },
    {
      "cell_type": "code",
      "metadata": {
        "colab": {
          "base_uri": "https://localhost:8080/",
          "height": 509
        },
        "id": "Xiq63yHWjfvj",
        "outputId": "8d41e752-38ab-4d75-930b-d7070bd75d00"
      },
      "source": [
        "fig_1 = plt.figure(figsize=(8,5),dpi=100)\n",
        "axes_1 = fig_1.add_axes([0.1,0.1,0.9,0.9])\n",
        "\n",
        "explode = [0]*7\n",
        "explode[0] = 0.2\n",
        "colors = sns.color_palette('bright')[0:6]\n",
        "z= avg_duration_day['pickup_day_name'].to_list()\n",
        "plt.rcParams['text.color'] = 'black'\n",
        "plt.pie(x=avg_duration_day['avg_trip_duration'],explode=explode,labels=z,labeldistance=1.1,colors=colors,shadow=True,textprops=dict(color=\"black\"),autopct='%1.0f%%')\n",
        "plt.title(\"Percentage of trips taken in each day of week \")\n",
        "plt.show()"
      ],
      "execution_count": 28,
      "outputs": [
        {
          "output_type": "display_data",
          "data": {
            "image/png": "[encoded data removed]",
            "text/plain": [
              "<Figure size 800x500 with 1 Axes>"
            ]
          },
          "metadata": {}
        }
      ]
    },
    {
      "cell_type": "markdown",
      "metadata": {
        "id": "J7OPSeDbBnT9"
      },
      "source": [
        "we will use number of to replace these days."
      ]
    },
    {
      "cell_type": "code",
      "metadata": {
        "id": "Fk_osuW0Bm8a"
      },
      "source": [
        "# one Hot encoding\n",
        "encode_day= {'pickup_day_name':{'Monday':1,'Tuesday':2,'Wednesday':3,'Tuesday':4,'Thursday':4,'Friday':5,'Saturday':6,'Sunday':7},}\n",
        "# replacing the date name with number\n",
        "taxi_data=taxi_data.replace(encode_day)"
      ],
      "execution_count": 29,
      "outputs": []
    },
    {
      "cell_type": "code",
      "metadata": {
        "colab": {
          "base_uri": "https://localhost:8080/",
          "height": 372
        },
        "id": "x-a7n1VTdlRo",
        "outputId": "06e89d40-b501-4d0a-c312-9b66a58b033e"
      },
      "source": [
        "plt.figure(figsize=(10,5))\n",
        "ax=sns.countplot(x=taxi_data['pickup_hour'])\n",
        "ax.set_title(\"Pickup Hours Distribution\")"
      ],
      "execution_count": 30,
      "outputs": [
        {
          "output_type": "execute_result",
          "data": {
            "text/plain": [
              "Text(0.5, 1.0, 'Pickup Hours Distribution')"
            ]
          },
          "metadata": {},
          "execution_count": 30
        },
        {
          "output_type": "display_data",
          "data": {
            "image/png": "[encoded data removed]",
            "text/plain": [
              "<Figure size 720x360 with 1 Axes>"
            ]
          },
          "metadata": {}
        }
      ]
    },
    {
      "cell_type": "code",
      "metadata": {
        "id": "rBWTIKYYPNsx"
      },
      "source": [
        "taxi_data['avg_speed(km/hr)']= round((((taxi_data['distance']*1000)/taxi_data['trip_duration'])*3600)/1000,2)"
      ],
      "execution_count": 31,
      "outputs": []
    },
    {
      "cell_type": "code",
      "metadata": {
        "colab": {
          "base_uri": "https://localhost:8080/"
        },
        "id": "jMLWPNwg1LNq",
        "outputId": "f95a7324-a2f1-4416-c8b9-9ab8ad6a7df8"
      },
      "source": [
        "taxi_data.columns"
      ],
      "execution_count": 32,
      "outputs": [
        {
          "output_type": "execute_result",
          "data": {
            "text/plain": [
              "Index(['id', 'vendor_id', 'pickup_datetime', 'dropoff_datetime',\n",
              "       'passenger_count', 'pickup_longitude', 'pickup_latitude',\n",
              "       'dropoff_longitude', 'dropoff_latitude', 'store_and_fwd_flag',\n",
              "       'trip_duration', 'distance', 'pickup_year', 'pickup_month',\n",
              "       'pickup_day', 'pickup_hour', 'pickup_minute', 'pickup_second',\n",
              "       'pickup_day_name', 'dropoff_year', 'dropoff_month', 'dropoff_day',\n",
              "       'dropoff_hour', 'dropoff_minute', 'dropoff_second', 'dropoff_day_name',\n",
              "       'avg_speed(km/hr)'],\n",
              "      dtype='object')"
            ]
          },
          "metadata": {},
          "execution_count": 32
        }
      ]
    },
    {
      "cell_type": "code",
      "metadata": {
        "colab": {
          "base_uri": "https://localhost:8080/",
          "height": 609
        },
        "id": "_nGq0M74Zvof",
        "outputId": "27002e1a-b5fb-46b4-f6df-750a6049f64f"
      },
      "source": [
        "taxi_data[taxi_data['avg_speed(km/hr)']>180] "
      ],
      "execution_count": 33,
      "outputs": [
        {
          "output_type": "execute_result",
          "data": {
            "text/html": [
              "<div>\n",
              "<style scoped>\n",
              "    .dataframe tbody tr th:only-of-type {\n",
              "        vertical-align: middle;\n",
              "    }\n",
              "\n",
              "    .dataframe tbody tr th {\n",
              "        vertical-align: top;\n",
              "    }\n",
              "\n",
              "    .dataframe thead th {\n",
              "        text-align: right;\n",
              "    }\n",
              "</style>\n",
              "<table border=\"1\" class=\"dataframe\">\n",
              "  <thead>\n",
              "    <tr style=\"text-align: right;\">\n",
              "      <th></th>\n",
              "      <th>id</th>\n",
              "      <th>vendor_id</th>\n",
              "      <th>pickup_datetime</th>\n",
              "      <th>dropoff_datetime</th>\n",
              "      <th>passenger_count</th>\n",
              "      <th>pickup_longitude</th>\n",
              "      <th>pickup_latitude</th>\n",
              "      <th>dropoff_longitude</th>\n",
              "      <th>dropoff_latitude</th>\n",
              "      <th>store_and_fwd_flag</th>\n",
              "      <th>trip_duration</th>\n",
              "      <th>distance</th>\n",
              "      <th>pickup_year</th>\n",
              "      <th>pickup_month</th>\n",
              "      <th>pickup_day</th>\n",
              "      <th>pickup_hour</th>\n",
              "      <th>pickup_minute</th>\n",
              "      <th>pickup_second</th>\n",
              "      <th>pickup_day_name</th>\n",
              "      <th>dropoff_year</th>\n",
              "      <th>dropoff_month</th>\n",
              "      <th>dropoff_day</th>\n",
              "      <th>dropoff_hour</th>\n",
              "      <th>dropoff_minute</th>\n",
              "      <th>dropoff_second</th>\n",
              "      <th>dropoff_day_name</th>\n",
              "      <th>avg_speed(km/hr)</th>\n",
              "    </tr>\n",
              "  </thead>\n",
              "  <tbody>\n",
              "    <tr>\n",
              "      <th>1107</th>\n",
              "      <td>id0729156</td>\n",
              "      <td>2</td>\n",
              "      <td>2016-06-23 13:36:48</td>\n",
              "      <td>2016-06-23 13:36:50</td>\n",
              "      <td>3</td>\n",
              "      <td>-73.827660</td>\n",
              "      <td>40.716175</td>\n",
              "      <td>-73.822113</td>\n",
              "      <td>40.711452</td>\n",
              "      <td>0</td>\n",
              "      <td>2</td>\n",
              "      <td>0.703342</td>\n",
              "      <td>2016</td>\n",
              "      <td>6</td>\n",
              "      <td>23</td>\n",
              "      <td>13</td>\n",
              "      <td>36</td>\n",
              "      <td>48</td>\n",
              "      <td>4</td>\n",
              "      <td>2016</td>\n",
              "      <td>6</td>\n",
              "      <td>23</td>\n",
              "      <td>13</td>\n",
              "      <td>36</td>\n",
              "      <td>50</td>\n",
              "      <td>Thursday</td>\n",
              "      <td>1266.01</td>\n",
              "    </tr>\n",
              "    <tr>\n",
              "      <th>107171</th>\n",
              "      <td>id1656254</td>\n",
              "      <td>2</td>\n",
              "      <td>2016-01-18 00:35:38</td>\n",
              "      <td>2016-01-18 00:35:54</td>\n",
              "      <td>1</td>\n",
              "      <td>-73.805527</td>\n",
              "      <td>40.651360</td>\n",
              "      <td>-73.804230</td>\n",
              "      <td>40.661629</td>\n",
              "      <td>0</td>\n",
              "      <td>16</td>\n",
              "      <td>1.145626</td>\n",
              "      <td>2016</td>\n",
              "      <td>1</td>\n",
              "      <td>18</td>\n",
              "      <td>0</td>\n",
              "      <td>35</td>\n",
              "      <td>38</td>\n",
              "      <td>1</td>\n",
              "      <td>2016</td>\n",
              "      <td>1</td>\n",
              "      <td>18</td>\n",
              "      <td>0</td>\n",
              "      <td>35</td>\n",
              "      <td>54</td>\n",
              "      <td>Monday</td>\n",
              "      <td>257.77</td>\n",
              "    </tr>\n",
              "    <tr>\n",
              "      <th>133641</th>\n",
              "      <td>id2362780</td>\n",
              "      <td>2</td>\n",
              "      <td>2016-06-30 05:01:03</td>\n",
              "      <td>2016-06-30 05:01:11</td>\n",
              "      <td>1</td>\n",
              "      <td>-74.164268</td>\n",
              "      <td>40.711639</td>\n",
              "      <td>-74.179352</td>\n",
              "      <td>40.711342</td>\n",
              "      <td>0</td>\n",
              "      <td>8</td>\n",
              "      <td>1.274983</td>\n",
              "      <td>2016</td>\n",
              "      <td>6</td>\n",
              "      <td>30</td>\n",
              "      <td>5</td>\n",
              "      <td>1</td>\n",
              "      <td>3</td>\n",
              "      <td>4</td>\n",
              "      <td>2016</td>\n",
              "      <td>6</td>\n",
              "      <td>30</td>\n",
              "      <td>5</td>\n",
              "      <td>1</td>\n",
              "      <td>11</td>\n",
              "      <td>Thursday</td>\n",
              "      <td>573.74</td>\n",
              "    </tr>\n",
              "    <tr>\n",
              "      <th>171801</th>\n",
              "      <td>id1733307</td>\n",
              "      <td>2</td>\n",
              "      <td>2016-06-26 18:02:38</td>\n",
              "      <td>2016-06-26 18:02:50</td>\n",
              "      <td>1</td>\n",
              "      <td>-73.792725</td>\n",
              "      <td>40.656902</td>\n",
              "      <td>-73.788948</td>\n",
              "      <td>40.647270</td>\n",
              "      <td>0</td>\n",
              "      <td>12</td>\n",
              "      <td>1.116290</td>\n",
              "      <td>2016</td>\n",
              "      <td>6</td>\n",
              "      <td>26</td>\n",
              "      <td>18</td>\n",
              "      <td>2</td>\n",
              "      <td>38</td>\n",
              "      <td>7</td>\n",
              "      <td>2016</td>\n",
              "      <td>6</td>\n",
              "      <td>26</td>\n",
              "      <td>18</td>\n",
              "      <td>2</td>\n",
              "      <td>50</td>\n",
              "      <td>Sunday</td>\n",
              "      <td>334.89</td>\n",
              "    </tr>\n",
              "    <tr>\n",
              "      <th>176589</th>\n",
              "      <td>id1724402</td>\n",
              "      <td>1</td>\n",
              "      <td>2016-05-17 06:34:59</td>\n",
              "      <td>2016-05-17 06:36:27</td>\n",
              "      <td>1</td>\n",
              "      <td>-73.969231</td>\n",
              "      <td>40.798122</td>\n",
              "      <td>-73.999260</td>\n",
              "      <td>40.753773</td>\n",
              "      <td>0</td>\n",
              "      <td>88</td>\n",
              "      <td>5.539157</td>\n",
              "      <td>2016</td>\n",
              "      <td>5</td>\n",
              "      <td>17</td>\n",
              "      <td>6</td>\n",
              "      <td>34</td>\n",
              "      <td>59</td>\n",
              "      <td>4</td>\n",
              "      <td>2016</td>\n",
              "      <td>5</td>\n",
              "      <td>17</td>\n",
              "      <td>6</td>\n",
              "      <td>36</td>\n",
              "      <td>27</td>\n",
              "      <td>Tuesday</td>\n",
              "      <td>226.60</td>\n",
              "    </tr>\n",
              "    <tr>\n",
              "      <th>...</th>\n",
              "      <td>...</td>\n",
              "      <td>...</td>\n",
              "      <td>...</td>\n",
              "      <td>...</td>\n",
              "      <td>...</td>\n",
              "      <td>...</td>\n",
              "      <td>...</td>\n",
              "      <td>...</td>\n",
              "      <td>...</td>\n",
              "      <td>...</td>\n",
              "      <td>...</td>\n",
              "      <td>...</td>\n",
              "      <td>...</td>\n",
              "      <td>...</td>\n",
              "      <td>...</td>\n",
              "      <td>...</td>\n",
              "      <td>...</td>\n",
              "      <td>...</td>\n",
              "      <td>...</td>\n",
              "      <td>...</td>\n",
              "      <td>...</td>\n",
              "      <td>...</td>\n",
              "      <td>...</td>\n",
              "      <td>...</td>\n",
              "      <td>...</td>\n",
              "      <td>...</td>\n",
              "      <td>...</td>\n",
              "    </tr>\n",
              "    <tr>\n",
              "      <th>1328401</th>\n",
              "      <td>id1644758</td>\n",
              "      <td>2</td>\n",
              "      <td>2016-01-03 14:41:12</td>\n",
              "      <td>2016-01-03 14:44:19</td>\n",
              "      <td>1</td>\n",
              "      <td>-73.999992</td>\n",
              "      <td>40.689610</td>\n",
              "      <td>-73.965492</td>\n",
              "      <td>40.806030</td>\n",
              "      <td>0</td>\n",
              "      <td>187</td>\n",
              "      <td>13.252680</td>\n",
              "      <td>2016</td>\n",
              "      <td>1</td>\n",
              "      <td>3</td>\n",
              "      <td>14</td>\n",
              "      <td>41</td>\n",
              "      <td>12</td>\n",
              "      <td>7</td>\n",
              "      <td>2016</td>\n",
              "      <td>1</td>\n",
              "      <td>3</td>\n",
              "      <td>14</td>\n",
              "      <td>44</td>\n",
              "      <td>19</td>\n",
              "      <td>Sunday</td>\n",
              "      <td>255.13</td>\n",
              "    </tr>\n",
              "    <tr>\n",
              "      <th>1359910</th>\n",
              "      <td>id3628988</td>\n",
              "      <td>1</td>\n",
              "      <td>2016-05-05 18:21:37</td>\n",
              "      <td>2016-05-05 18:30:45</td>\n",
              "      <td>1</td>\n",
              "      <td>-79.569733</td>\n",
              "      <td>41.586273</td>\n",
              "      <td>-80.355431</td>\n",
              "      <td>42.090183</td>\n",
              "      <td>0</td>\n",
              "      <td>548</td>\n",
              "      <td>85.972969</td>\n",
              "      <td>2016</td>\n",
              "      <td>5</td>\n",
              "      <td>5</td>\n",
              "      <td>18</td>\n",
              "      <td>21</td>\n",
              "      <td>37</td>\n",
              "      <td>4</td>\n",
              "      <td>2016</td>\n",
              "      <td>5</td>\n",
              "      <td>5</td>\n",
              "      <td>18</td>\n",
              "      <td>30</td>\n",
              "      <td>45</td>\n",
              "      <td>Thursday</td>\n",
              "      <td>564.79</td>\n",
              "    </tr>\n",
              "    <tr>\n",
              "      <th>1390507</th>\n",
              "      <td>id3141426</td>\n",
              "      <td>2</td>\n",
              "      <td>2016-05-06 18:29:00</td>\n",
              "      <td>2016-05-06 18:29:05</td>\n",
              "      <td>1</td>\n",
              "      <td>-73.874718</td>\n",
              "      <td>40.730610</td>\n",
              "      <td>-73.867432</td>\n",
              "      <td>40.732868</td>\n",
              "      <td>0</td>\n",
              "      <td>5</td>\n",
              "      <td>0.664623</td>\n",
              "      <td>2016</td>\n",
              "      <td>5</td>\n",
              "      <td>6</td>\n",
              "      <td>18</td>\n",
              "      <td>29</td>\n",
              "      <td>0</td>\n",
              "      <td>5</td>\n",
              "      <td>2016</td>\n",
              "      <td>5</td>\n",
              "      <td>6</td>\n",
              "      <td>18</td>\n",
              "      <td>29</td>\n",
              "      <td>5</td>\n",
              "      <td>Friday</td>\n",
              "      <td>478.53</td>\n",
              "    </tr>\n",
              "    <tr>\n",
              "      <th>1398157</th>\n",
              "      <td>id2905190</td>\n",
              "      <td>2</td>\n",
              "      <td>2016-03-05 00:17:29</td>\n",
              "      <td>2016-03-05 00:17:32</td>\n",
              "      <td>1</td>\n",
              "      <td>-74.003487</td>\n",
              "      <td>40.732609</td>\n",
              "      <td>-74.004189</td>\n",
              "      <td>40.731274</td>\n",
              "      <td>0</td>\n",
              "      <td>3</td>\n",
              "      <td>0.159683</td>\n",
              "      <td>2016</td>\n",
              "      <td>3</td>\n",
              "      <td>5</td>\n",
              "      <td>0</td>\n",
              "      <td>17</td>\n",
              "      <td>29</td>\n",
              "      <td>6</td>\n",
              "      <td>2016</td>\n",
              "      <td>3</td>\n",
              "      <td>5</td>\n",
              "      <td>0</td>\n",
              "      <td>17</td>\n",
              "      <td>32</td>\n",
              "      <td>Saturday</td>\n",
              "      <td>191.62</td>\n",
              "    </tr>\n",
              "    <tr>\n",
              "      <th>1439166</th>\n",
              "      <td>id2943073</td>\n",
              "      <td>2</td>\n",
              "      <td>2016-01-03 16:55:44</td>\n",
              "      <td>2016-01-03 16:55:45</td>\n",
              "      <td>1</td>\n",
              "      <td>-73.975677</td>\n",
              "      <td>40.785488</td>\n",
              "      <td>-73.976372</td>\n",
              "      <td>40.785831</td>\n",
              "      <td>0</td>\n",
              "      <td>1</td>\n",
              "      <td>0.069912</td>\n",
              "      <td>2016</td>\n",
              "      <td>1</td>\n",
              "      <td>3</td>\n",
              "      <td>16</td>\n",
              "      <td>55</td>\n",
              "      <td>44</td>\n",
              "      <td>7</td>\n",
              "      <td>2016</td>\n",
              "      <td>1</td>\n",
              "      <td>3</td>\n",
              "      <td>16</td>\n",
              "      <td>55</td>\n",
              "      <td>45</td>\n",
              "      <td>Sunday</td>\n",
              "      <td>251.68</td>\n",
              "    </tr>\n",
              "  </tbody>\n",
              "</table>\n",
              "<p>78 rows × 27 columns</p>\n",
              "</div>"
            ],
            "text/plain": [
              "                id  vendor_id  ... dropoff_day_name avg_speed(km/hr)\n",
              "1107     id0729156          2  ...         Thursday          1266.01\n",
              "107171   id1656254          2  ...           Monday           257.77\n",
              "133641   id2362780          2  ...         Thursday           573.74\n",
              "171801   id1733307          2  ...           Sunday           334.89\n",
              "176589   id1724402          1  ...          Tuesday           226.60\n",
              "...            ...        ...  ...              ...              ...\n",
              "1328401  id1644758          2  ...           Sunday           255.13\n",
              "1359910  id3628988          1  ...         Thursday           564.79\n",
              "1390507  id3141426          2  ...           Friday           478.53\n",
              "1398157  id2905190          2  ...         Saturday           191.62\n",
              "1439166  id2943073          2  ...           Sunday           251.68\n",
              "\n",
              "[78 rows x 27 columns]"
            ]
          },
          "metadata": {},
          "execution_count": 33
        }
      ]
    },
    {
      "cell_type": "markdown",
      "metadata": {
        "id": "1INBN2K6yk1p"
      },
      "source": [
        "some average speed was too much , like 250 km/hour, which was practically impossible , we will analyse the trip duration. "
      ]
    },
    {
      "cell_type": "markdown",
      "metadata": {
        "id": "vYubUag9yFFX"
      },
      "source": [
        "we can see here that trip duration was so small , which was practically impossible, so we exclude rows of those, whose trip duration which was less than 30 seconds and which average speed was more than 180 km"
      ]
    },
    {
      "cell_type": "code",
      "metadata": {
        "id": "u507H7IEyg_p"
      },
      "source": [
        "taxi_data= taxi_data[taxi_data['avg_speed(km/hr)']<180]"
      ],
      "execution_count": 57,
      "outputs": []
    },
    {
      "cell_type": "code",
      "metadata": {
        "id": "_KdjMgSVe8BY"
      },
      "source": [
        "taxi_data=taxi_data[taxi_data['trip_duration']<30]"
      ],
      "execution_count": 58,
      "outputs": []
    },
    {
      "cell_type": "code",
      "metadata": {
        "colab": {
          "base_uri": "https://localhost:8080/",
          "height": 309
        },
        "id": "zJa7Xuxf1mrk",
        "outputId": "b2924360-bdf3-4e44-f5c8-121a808f8495"
      },
      "source": [
        "taxi_data.head()"
      ],
      "execution_count": 37,
      "outputs": [
        {
          "output_type": "execute_result",
          "data": {
            "text/html": [
              "<div>\n",
              "<style scoped>\n",
              "    .dataframe tbody tr th:only-of-type {\n",
              "        vertical-align: middle;\n",
              "    }\n",
              "\n",
              "    .dataframe tbody tr th {\n",
              "        vertical-align: top;\n",
              "    }\n",
              "\n",
              "    .dataframe thead th {\n",
              "        text-align: right;\n",
              "    }\n",
              "</style>\n",
              "<table border=\"1\" class=\"dataframe\">\n",
              "  <thead>\n",
              "    <tr style=\"text-align: right;\">\n",
              "      <th></th>\n",
              "      <th>id</th>\n",
              "      <th>vendor_id</th>\n",
              "      <th>pickup_datetime</th>\n",
              "      <th>dropoff_datetime</th>\n",
              "      <th>passenger_count</th>\n",
              "      <th>pickup_longitude</th>\n",
              "      <th>pickup_latitude</th>\n",
              "      <th>dropoff_longitude</th>\n",
              "      <th>dropoff_latitude</th>\n",
              "      <th>store_and_fwd_flag</th>\n",
              "      <th>trip_duration</th>\n",
              "      <th>distance</th>\n",
              "      <th>pickup_year</th>\n",
              "      <th>pickup_month</th>\n",
              "      <th>pickup_day</th>\n",
              "      <th>pickup_hour</th>\n",
              "      <th>pickup_minute</th>\n",
              "      <th>pickup_second</th>\n",
              "      <th>pickup_day_name</th>\n",
              "      <th>dropoff_year</th>\n",
              "      <th>dropoff_month</th>\n",
              "      <th>dropoff_day</th>\n",
              "      <th>dropoff_hour</th>\n",
              "      <th>dropoff_minute</th>\n",
              "      <th>dropoff_second</th>\n",
              "      <th>dropoff_day_name</th>\n",
              "      <th>avg_speed(km/hr)</th>\n",
              "    </tr>\n",
              "  </thead>\n",
              "  <tbody>\n",
              "    <tr>\n",
              "      <th>0</th>\n",
              "      <td>id2875421</td>\n",
              "      <td>2</td>\n",
              "      <td>2016-03-14 17:24:55</td>\n",
              "      <td>2016-03-14 17:32:30</td>\n",
              "      <td>1</td>\n",
              "      <td>-73.982155</td>\n",
              "      <td>40.767937</td>\n",
              "      <td>-73.964630</td>\n",
              "      <td>40.765602</td>\n",
              "      <td>0</td>\n",
              "      <td>455</td>\n",
              "      <td>1.502172</td>\n",
              "      <td>2016</td>\n",
              "      <td>3</td>\n",
              "      <td>14</td>\n",
              "      <td>17</td>\n",
              "      <td>24</td>\n",
              "      <td>55</td>\n",
              "      <td>1</td>\n",
              "      <td>2016</td>\n",
              "      <td>3</td>\n",
              "      <td>14</td>\n",
              "      <td>17</td>\n",
              "      <td>32</td>\n",
              "      <td>30</td>\n",
              "      <td>Monday</td>\n",
              "      <td>11.89</td>\n",
              "    </tr>\n",
              "    <tr>\n",
              "      <th>1</th>\n",
              "      <td>id2377394</td>\n",
              "      <td>1</td>\n",
              "      <td>2016-06-12 00:43:35</td>\n",
              "      <td>2016-06-12 00:54:38</td>\n",
              "      <td>1</td>\n",
              "      <td>-73.980415</td>\n",
              "      <td>40.738564</td>\n",
              "      <td>-73.999481</td>\n",
              "      <td>40.731152</td>\n",
              "      <td>0</td>\n",
              "      <td>663</td>\n",
              "      <td>1.808660</td>\n",
              "      <td>2016</td>\n",
              "      <td>6</td>\n",
              "      <td>12</td>\n",
              "      <td>0</td>\n",
              "      <td>43</td>\n",
              "      <td>35</td>\n",
              "      <td>7</td>\n",
              "      <td>2016</td>\n",
              "      <td>6</td>\n",
              "      <td>12</td>\n",
              "      <td>0</td>\n",
              "      <td>54</td>\n",
              "      <td>38</td>\n",
              "      <td>Sunday</td>\n",
              "      <td>9.82</td>\n",
              "    </tr>\n",
              "    <tr>\n",
              "      <th>2</th>\n",
              "      <td>id3858529</td>\n",
              "      <td>2</td>\n",
              "      <td>2016-01-19 11:35:24</td>\n",
              "      <td>2016-01-19 12:10:48</td>\n",
              "      <td>1</td>\n",
              "      <td>-73.979027</td>\n",
              "      <td>40.763939</td>\n",
              "      <td>-74.005333</td>\n",
              "      <td>40.710087</td>\n",
              "      <td>0</td>\n",
              "      <td>2124</td>\n",
              "      <td>6.379687</td>\n",
              "      <td>2016</td>\n",
              "      <td>1</td>\n",
              "      <td>19</td>\n",
              "      <td>11</td>\n",
              "      <td>35</td>\n",
              "      <td>24</td>\n",
              "      <td>4</td>\n",
              "      <td>2016</td>\n",
              "      <td>1</td>\n",
              "      <td>19</td>\n",
              "      <td>12</td>\n",
              "      <td>10</td>\n",
              "      <td>48</td>\n",
              "      <td>Tuesday</td>\n",
              "      <td>10.81</td>\n",
              "    </tr>\n",
              "    <tr>\n",
              "      <th>3</th>\n",
              "      <td>id3504673</td>\n",
              "      <td>2</td>\n",
              "      <td>2016-04-06 19:32:31</td>\n",
              "      <td>2016-04-06 19:39:40</td>\n",
              "      <td>1</td>\n",
              "      <td>-74.010040</td>\n",
              "      <td>40.719971</td>\n",
              "      <td>-74.012268</td>\n",
              "      <td>40.706718</td>\n",
              "      <td>0</td>\n",
              "      <td>429</td>\n",
              "      <td>1.483632</td>\n",
              "      <td>2016</td>\n",
              "      <td>4</td>\n",
              "      <td>6</td>\n",
              "      <td>19</td>\n",
              "      <td>32</td>\n",
              "      <td>31</td>\n",
              "      <td>3</td>\n",
              "      <td>2016</td>\n",
              "      <td>4</td>\n",
              "      <td>6</td>\n",
              "      <td>19</td>\n",
              "      <td>39</td>\n",
              "      <td>40</td>\n",
              "      <td>Wednesday</td>\n",
              "      <td>12.45</td>\n",
              "    </tr>\n",
              "    <tr>\n",
              "      <th>4</th>\n",
              "      <td>id2181028</td>\n",
              "      <td>2</td>\n",
              "      <td>2016-03-26 13:30:55</td>\n",
              "      <td>2016-03-26 13:38:10</td>\n",
              "      <td>1</td>\n",
              "      <td>-73.973053</td>\n",
              "      <td>40.793209</td>\n",
              "      <td>-73.972923</td>\n",
              "      <td>40.782520</td>\n",
              "      <td>0</td>\n",
              "      <td>435</td>\n",
              "      <td>1.187038</td>\n",
              "      <td>2016</td>\n",
              "      <td>3</td>\n",
              "      <td>26</td>\n",
              "      <td>13</td>\n",
              "      <td>30</td>\n",
              "      <td>55</td>\n",
              "      <td>6</td>\n",
              "      <td>2016</td>\n",
              "      <td>3</td>\n",
              "      <td>26</td>\n",
              "      <td>13</td>\n",
              "      <td>38</td>\n",
              "      <td>10</td>\n",
              "      <td>Saturday</td>\n",
              "      <td>9.82</td>\n",
              "    </tr>\n",
              "  </tbody>\n",
              "</table>\n",
              "</div>"
            ],
            "text/plain": [
              "          id  vendor_id  ... dropoff_day_name avg_speed(km/hr)\n",
              "0  id2875421          2  ...           Monday            11.89\n",
              "1  id2377394          1  ...           Sunday             9.82\n",
              "2  id3858529          2  ...          Tuesday            10.81\n",
              "3  id3504673          2  ...        Wednesday            12.45\n",
              "4  id2181028          2  ...         Saturday             9.82\n",
              "\n",
              "[5 rows x 27 columns]"
            ]
          },
          "metadata": {},
          "execution_count": 37
        }
      ]
    },
    {
      "cell_type": "code",
      "metadata": {
        "id": "l8gWP5OlZLYv",
        "colab": {
          "base_uri": "https://localhost:8080/",
          "height": 394
        },
        "outputId": "2cd14ef7-932b-45df-e494-4b1902ac0ebc"
      },
      "source": [
        "plt.figure(figsize=(12, 6))\n",
        "taxi_data.boxplot(column='avg_speed(km/hr)')"
      ],
      "execution_count": 38,
      "outputs": [
        {
          "output_type": "execute_result",
          "data": {
            "text/plain": [
              "<matplotlib.axes._subplots.AxesSubplot at 0x7f10fb2d7150>"
            ]
          },
          "metadata": {},
          "execution_count": 38
        },
        {
          "output_type": "display_data",
          "data": {
            "image/png": "[encoded data removed]",
            "text/plain": [
              "<Figure size 864x432 with 1 Axes>"
            ]
          },
          "metadata": {}
        }
      ]
    },
    {
      "cell_type": "markdown",
      "metadata": {
        "id": "nuoGz3Rv8vaU"
      },
      "source": [
        "outlier detection, "
      ]
    },
    {
      "cell_type": "code",
      "metadata": {
        "id": "AC5B2tdf8est",
        "colab": {
          "base_uri": "https://localhost:8080/",
          "height": 405
        },
        "outputId": "fda0e3d2-049d-4cba-9021-24f10ad34188"
      },
      "source": [
        "plt.figure(figsize=(12, 6))\n",
        "taxi_data.boxplot(column='trip_duration')"
      ],
      "execution_count": 39,
      "outputs": [
        {
          "output_type": "execute_result",
          "data": {
            "text/plain": [
              "<matplotlib.axes._subplots.AxesSubplot at 0x7f10fb24ff90>"
            ]
          },
          "metadata": {},
          "execution_count": 39
        },
        {
          "output_type": "display_data",
          "data": {
            "image/png": "[encoded data removed]",
            "text/plain": [
              "<Figure size 864x432 with 1 Axes>"
            ]
          },
          "metadata": {}
        }
      ]
    },
    {
      "cell_type": "markdown",
      "metadata": {
        "id": "gdgD1Z8782DT"
      },
      "source": [
        "In trip duration, there are some of the outliers. so we will see which of duration is more than one day. "
      ]
    },
    {
      "cell_type": "code",
      "metadata": {
        "colab": {
          "base_uri": "https://localhost:8080/",
          "height": 362
        },
        "id": "09BANJGliljg",
        "outputId": "cabc567e-e544-47cc-95fe-3735e29e00a4"
      },
      "source": [
        "sns.distplot(\n",
        "    taxi_data['trip_duration']\n",
        "    )"
      ],
      "execution_count": 21,
      "outputs": [
        {
          "output_type": "stream",
          "name": "stderr",
          "text": [
            "/usr/local/lib/python3.7/dist-packages/seaborn/distributions.py:2619: FutureWarning: `distplot` is a deprecated function and will be removed in a future version. Please adapt your code to use either `displot` (a figure-level function with similar flexibility) or `histplot` (an axes-level function for histograms).\n",
            "  warnings.warn(msg, FutureWarning)\n"
          ]
        },
        {
          "output_type": "execute_result",
          "data": {
            "text/plain": [
              "<matplotlib.axes._subplots.AxesSubplot at 0x7f1108b28150>"
            ]
          },
          "metadata": {},
          "execution_count": 21
        },
        {
          "output_type": "display_data",
          "data": {
            "image/png": "[encoded data removed]",
            "text/plain": [
              "<Figure size 432x288 with 1 Axes>"
            ]
          },
          "metadata": {
            "needs_background": "light"
          }
        }
      ]
    },
    {
      "cell_type": "code",
      "metadata": {
        "id": "rUiGlBAv96Zo",
        "colab": {
          "base_uri": "https://localhost:8080/",
          "height": 261
        },
        "outputId": "c0ff1725-4972-42ce-c1b3-d5a56fcea4b3"
      },
      "source": [
        "# Outliers detection \n",
        "taxi_data[taxi_data.trip_duration>86400]"
      ],
      "execution_count": 40,
      "outputs": [
        {
          "output_type": "execute_result",
          "data": {
            "text/html": [
              "<div>\n",
              "<style scoped>\n",
              "    .dataframe tbody tr th:only-of-type {\n",
              "        vertical-align: middle;\n",
              "    }\n",
              "\n",
              "    .dataframe tbody tr th {\n",
              "        vertical-align: top;\n",
              "    }\n",
              "\n",
              "    .dataframe thead th {\n",
              "        text-align: right;\n",
              "    }\n",
              "</style>\n",
              "<table border=\"1\" class=\"dataframe\">\n",
              "  <thead>\n",
              "    <tr style=\"text-align: right;\">\n",
              "      <th></th>\n",
              "      <th>id</th>\n",
              "      <th>vendor_id</th>\n",
              "      <th>pickup_datetime</th>\n",
              "      <th>dropoff_datetime</th>\n",
              "      <th>passenger_count</th>\n",
              "      <th>pickup_longitude</th>\n",
              "      <th>pickup_latitude</th>\n",
              "      <th>dropoff_longitude</th>\n",
              "      <th>dropoff_latitude</th>\n",
              "      <th>store_and_fwd_flag</th>\n",
              "      <th>trip_duration</th>\n",
              "      <th>distance</th>\n",
              "      <th>pickup_year</th>\n",
              "      <th>pickup_month</th>\n",
              "      <th>pickup_day</th>\n",
              "      <th>pickup_hour</th>\n",
              "      <th>pickup_minute</th>\n",
              "      <th>pickup_second</th>\n",
              "      <th>pickup_day_name</th>\n",
              "      <th>dropoff_year</th>\n",
              "      <th>dropoff_month</th>\n",
              "      <th>dropoff_day</th>\n",
              "      <th>dropoff_hour</th>\n",
              "      <th>dropoff_minute</th>\n",
              "      <th>dropoff_second</th>\n",
              "      <th>dropoff_day_name</th>\n",
              "      <th>avg_speed(km/hr)</th>\n",
              "    </tr>\n",
              "  </thead>\n",
              "  <tbody>\n",
              "    <tr>\n",
              "      <th>355003</th>\n",
              "      <td>id1864733</td>\n",
              "      <td>1</td>\n",
              "      <td>2016-01-05 00:19:42</td>\n",
              "      <td>2016-01-27 11:08:38</td>\n",
              "      <td>1</td>\n",
              "      <td>-73.789650</td>\n",
              "      <td>40.643559</td>\n",
              "      <td>-73.956810</td>\n",
              "      <td>40.773087</td>\n",
              "      <td>0</td>\n",
              "      <td>1939736</td>\n",
              "      <td>20.160235</td>\n",
              "      <td>2016</td>\n",
              "      <td>1</td>\n",
              "      <td>5</td>\n",
              "      <td>0</td>\n",
              "      <td>19</td>\n",
              "      <td>42</td>\n",
              "      <td>4</td>\n",
              "      <td>2016</td>\n",
              "      <td>1</td>\n",
              "      <td>27</td>\n",
              "      <td>11</td>\n",
              "      <td>8</td>\n",
              "      <td>38</td>\n",
              "      <td>Wednesday</td>\n",
              "      <td>0.04</td>\n",
              "    </tr>\n",
              "    <tr>\n",
              "      <th>680594</th>\n",
              "      <td>id0369307</td>\n",
              "      <td>1</td>\n",
              "      <td>2016-02-13 22:38:00</td>\n",
              "      <td>2016-03-08 15:57:38</td>\n",
              "      <td>2</td>\n",
              "      <td>-73.921677</td>\n",
              "      <td>40.735252</td>\n",
              "      <td>-73.984749</td>\n",
              "      <td>40.759979</td>\n",
              "      <td>0</td>\n",
              "      <td>2049578</td>\n",
              "      <td>5.992874</td>\n",
              "      <td>2016</td>\n",
              "      <td>2</td>\n",
              "      <td>13</td>\n",
              "      <td>22</td>\n",
              "      <td>38</td>\n",
              "      <td>0</td>\n",
              "      <td>6</td>\n",
              "      <td>2016</td>\n",
              "      <td>3</td>\n",
              "      <td>8</td>\n",
              "      <td>15</td>\n",
              "      <td>57</td>\n",
              "      <td>38</td>\n",
              "      <td>Tuesday</td>\n",
              "      <td>0.01</td>\n",
              "    </tr>\n",
              "    <tr>\n",
              "      <th>924150</th>\n",
              "      <td>id1325766</td>\n",
              "      <td>1</td>\n",
              "      <td>2016-01-05 06:14:15</td>\n",
              "      <td>2016-01-31 01:01:07</td>\n",
              "      <td>1</td>\n",
              "      <td>-73.983788</td>\n",
              "      <td>40.742325</td>\n",
              "      <td>-73.985489</td>\n",
              "      <td>40.727676</td>\n",
              "      <td>0</td>\n",
              "      <td>2227612</td>\n",
              "      <td>1.633027</td>\n",
              "      <td>2016</td>\n",
              "      <td>1</td>\n",
              "      <td>5</td>\n",
              "      <td>6</td>\n",
              "      <td>14</td>\n",
              "      <td>15</td>\n",
              "      <td>4</td>\n",
              "      <td>2016</td>\n",
              "      <td>1</td>\n",
              "      <td>31</td>\n",
              "      <td>1</td>\n",
              "      <td>1</td>\n",
              "      <td>7</td>\n",
              "      <td>Sunday</td>\n",
              "      <td>0.00</td>\n",
              "    </tr>\n",
              "    <tr>\n",
              "      <th>978383</th>\n",
              "      <td>id0053347</td>\n",
              "      <td>1</td>\n",
              "      <td>2016-02-13 22:46:52</td>\n",
              "      <td>2016-03-25 18:18:14</td>\n",
              "      <td>1</td>\n",
              "      <td>-73.783905</td>\n",
              "      <td>40.648632</td>\n",
              "      <td>-73.978271</td>\n",
              "      <td>40.750202</td>\n",
              "      <td>0</td>\n",
              "      <td>3526282</td>\n",
              "      <td>19.926608</td>\n",
              "      <td>2016</td>\n",
              "      <td>2</td>\n",
              "      <td>13</td>\n",
              "      <td>22</td>\n",
              "      <td>46</td>\n",
              "      <td>52</td>\n",
              "      <td>6</td>\n",
              "      <td>2016</td>\n",
              "      <td>3</td>\n",
              "      <td>25</td>\n",
              "      <td>18</td>\n",
              "      <td>18</td>\n",
              "      <td>14</td>\n",
              "      <td>Friday</td>\n",
              "      <td>0.02</td>\n",
              "    </tr>\n",
              "  </tbody>\n",
              "</table>\n",
              "</div>"
            ],
            "text/plain": [
              "               id  vendor_id  ... dropoff_day_name avg_speed(km/hr)\n",
              "355003  id1864733          1  ...        Wednesday             0.04\n",
              "680594  id0369307          1  ...          Tuesday             0.01\n",
              "924150  id1325766          1  ...           Sunday             0.00\n",
              "978383  id0053347          1  ...           Friday             0.02\n",
              "\n",
              "[4 rows x 27 columns]"
            ]
          },
          "metadata": {},
          "execution_count": 40
        }
      ]
    },
    {
      "cell_type": "markdown",
      "metadata": {
        "id": "zJjsQMnv-QCw"
      },
      "source": [
        "we can see some of these duratin are several days , so we use Log transformation of the trip duration results in a normal distribution."
      ]
    },
    {
      "cell_type": "code",
      "metadata": {
        "colab": {
          "base_uri": "https://localhost:8080/",
          "height": 394
        },
        "id": "O5LKC4ECAO8a",
        "outputId": "98fcefd4-2290-4c88-e219-fced3a2ab3e0"
      },
      "source": [
        "plt.figure(figsize=(12, 6))\n",
        "taxi_data.boxplot(column='trip_duration')"
      ],
      "execution_count": 43,
      "outputs": [
        {
          "output_type": "execute_result",
          "data": {
            "text/plain": [
              "<matplotlib.axes._subplots.AxesSubplot at 0x7f10fb1d1350>"
            ]
          },
          "metadata": {},
          "execution_count": 43
        },
        {
          "output_type": "display_data",
          "data": {
            "image/png": "[encoded data removed]",
            "text/plain": [
              "<Figure size 864x432 with 1 Axes>"
            ]
          },
          "metadata": {}
        }
      ]
    },
    {
      "cell_type": "code",
      "metadata": {
        "colab": {
          "base_uri": "https://localhost:8080/",
          "height": 422
        },
        "id": "Mk2b7ugN197d",
        "outputId": "1010065c-6212-42df-db2f-7c745cd11e57"
      },
      "source": [
        "#log transformation\n",
        "f, ax = plt.subplots(figsize=(10, 5))\n",
        "sns.despine(f)\n",
        "sns.distplot(\n",
        "    np.log10(taxi_data['trip_duration']))\n",
        "plt.title(\"Distribution of trip duration (sec) in Log Scale\")"
      ],
      "execution_count": 22,
      "outputs": [
        {
          "output_type": "stream",
          "name": "stderr",
          "text": [
            "/usr/local/lib/python3.7/dist-packages/seaborn/distributions.py:2619: FutureWarning: `distplot` is a deprecated function and will be removed in a future version. Please adapt your code to use either `displot` (a figure-level function with similar flexibility) or `histplot` (an axes-level function for histograms).\n",
            "  warnings.warn(msg, FutureWarning)\n"
          ]
        },
        {
          "output_type": "execute_result",
          "data": {
            "text/plain": [
              "Text(0.5, 1.0, 'Distribution of trip duration (sec) in Log Scale')"
            ]
          },
          "metadata": {},
          "execution_count": 22
        },
        {
          "output_type": "display_data",
          "data": {
            "image/png": "[encoded data removed]",
            "text/plain": [
              "<Figure size 720x360 with 1 Axes>"
            ]
          },
          "metadata": {
            "needs_background": "light"
          }
        }
      ]
    },
    {
      "cell_type": "code",
      "metadata": {
        "colab": {
          "base_uri": "https://localhost:8080/",
          "height": 317
        },
        "id": "hvdCXiwUDTSo",
        "outputId": "737c75bf-abf6-4261-fff8-bdb2baf400bd"
      },
      "source": [
        "taxi_data.describe()"
      ],
      "execution_count": 44,
      "outputs": [
        {
          "output_type": "execute_result",
          "data": {
            "text/html": [
              "<div>\n",
              "<style scoped>\n",
              "    .dataframe tbody tr th:only-of-type {\n",
              "        vertical-align: middle;\n",
              "    }\n",
              "\n",
              "    .dataframe tbody tr th {\n",
              "        vertical-align: top;\n",
              "    }\n",
              "\n",
              "    .dataframe thead th {\n",
              "        text-align: right;\n",
              "    }\n",
              "</style>\n",
              "<table border=\"1\" class=\"dataframe\">\n",
              "  <thead>\n",
              "    <tr style=\"text-align: right;\">\n",
              "      <th></th>\n",
              "      <th>vendor_id</th>\n",
              "      <th>passenger_count</th>\n",
              "      <th>pickup_longitude</th>\n",
              "      <th>pickup_latitude</th>\n",
              "      <th>dropoff_longitude</th>\n",
              "      <th>dropoff_latitude</th>\n",
              "      <th>store_and_fwd_flag</th>\n",
              "      <th>trip_duration</th>\n",
              "      <th>distance</th>\n",
              "      <th>pickup_year</th>\n",
              "      <th>pickup_month</th>\n",
              "      <th>pickup_day</th>\n",
              "      <th>pickup_hour</th>\n",
              "      <th>pickup_minute</th>\n",
              "      <th>pickup_second</th>\n",
              "      <th>pickup_day_name</th>\n",
              "      <th>dropoff_year</th>\n",
              "      <th>dropoff_month</th>\n",
              "      <th>dropoff_day</th>\n",
              "      <th>dropoff_hour</th>\n",
              "      <th>dropoff_minute</th>\n",
              "      <th>dropoff_second</th>\n",
              "      <th>avg_speed(km/hr)</th>\n",
              "    </tr>\n",
              "  </thead>\n",
              "  <tbody>\n",
              "    <tr>\n",
              "      <th>count</th>\n",
              "      <td>1.458562e+06</td>\n",
              "      <td>1.458562e+06</td>\n",
              "      <td>1.458562e+06</td>\n",
              "      <td>1.458562e+06</td>\n",
              "      <td>1.458562e+06</td>\n",
              "      <td>1.458562e+06</td>\n",
              "      <td>1.458562e+06</td>\n",
              "      <td>1.458562e+06</td>\n",
              "      <td>1.458562e+06</td>\n",
              "      <td>1458562.0</td>\n",
              "      <td>1.458562e+06</td>\n",
              "      <td>1.458562e+06</td>\n",
              "      <td>1.458562e+06</td>\n",
              "      <td>1.458562e+06</td>\n",
              "      <td>1.458562e+06</td>\n",
              "      <td>1.458562e+06</td>\n",
              "      <td>1458562.0</td>\n",
              "      <td>1.458562e+06</td>\n",
              "      <td>1.458562e+06</td>\n",
              "      <td>1.458562e+06</td>\n",
              "      <td>1.458562e+06</td>\n",
              "      <td>1.458562e+06</td>\n",
              "      <td>1.458562e+06</td>\n",
              "    </tr>\n",
              "    <tr>\n",
              "      <th>mean</th>\n",
              "      <td>1.534938e+00</td>\n",
              "      <td>1.664523e+00</td>\n",
              "      <td>-7.397349e+01</td>\n",
              "      <td>4.075092e+01</td>\n",
              "      <td>-7.397340e+01</td>\n",
              "      <td>4.075181e+01</td>\n",
              "      <td>5.515021e-03</td>\n",
              "      <td>9.528539e+02</td>\n",
              "      <td>3.437826e+00</td>\n",
              "      <td>2016.0</td>\n",
              "      <td>3.516819e+00</td>\n",
              "      <td>1.550404e+01</td>\n",
              "      <td>1.360647e+01</td>\n",
              "      <td>2.959022e+01</td>\n",
              "      <td>2.947354e+01</td>\n",
              "      <td>4.328356e+00</td>\n",
              "      <td>2016.0</td>\n",
              "      <td>3.517178e+00</td>\n",
              "      <td>1.550447e+01</td>\n",
              "      <td>1.359890e+01</td>\n",
              "      <td>2.962860e+01</td>\n",
              "      <td>2.950985e+01</td>\n",
              "      <td>1.437998e+01</td>\n",
              "    </tr>\n",
              "    <tr>\n",
              "      <th>std</th>\n",
              "      <td>4.987780e-01</td>\n",
              "      <td>1.314227e+00</td>\n",
              "      <td>7.034345e-02</td>\n",
              "      <td>3.031155e-02</td>\n",
              "      <td>6.925548e-02</td>\n",
              "      <td>3.430603e-02</td>\n",
              "      <td>7.405815e-02</td>\n",
              "      <td>3.171400e+03</td>\n",
              "      <td>3.957211e+00</td>\n",
              "      <td>0.0</td>\n",
              "      <td>1.681027e+00</td>\n",
              "      <td>8.703160e+00</td>\n",
              "      <td>6.399666e+00</td>\n",
              "      <td>1.732475e+01</td>\n",
              "      <td>1.731990e+01</td>\n",
              "      <td>1.776782e+00</td>\n",
              "      <td>0.0</td>\n",
              "      <td>1.681207e+00</td>\n",
              "      <td>8.703138e+00</td>\n",
              "      <td>6.483663e+00</td>\n",
              "      <td>1.742026e+01</td>\n",
              "      <td>1.731978e+01</td>\n",
              "      <td>7.828642e+00</td>\n",
              "    </tr>\n",
              "    <tr>\n",
              "      <th>min</th>\n",
              "      <td>1.000000e+00</td>\n",
              "      <td>0.000000e+00</td>\n",
              "      <td>-1.219333e+02</td>\n",
              "      <td>3.435970e+01</td>\n",
              "      <td>-1.219333e+02</td>\n",
              "      <td>3.435970e+01</td>\n",
              "      <td>0.000000e+00</td>\n",
              "      <td>1.000000e+00</td>\n",
              "      <td>0.000000e+00</td>\n",
              "      <td>2016.0</td>\n",
              "      <td>1.000000e+00</td>\n",
              "      <td>1.000000e+00</td>\n",
              "      <td>0.000000e+00</td>\n",
              "      <td>0.000000e+00</td>\n",
              "      <td>0.000000e+00</td>\n",
              "      <td>1.000000e+00</td>\n",
              "      <td>2016.0</td>\n",
              "      <td>1.000000e+00</td>\n",
              "      <td>1.000000e+00</td>\n",
              "      <td>0.000000e+00</td>\n",
              "      <td>0.000000e+00</td>\n",
              "      <td>0.000000e+00</td>\n",
              "      <td>0.000000e+00</td>\n",
              "    </tr>\n",
              "    <tr>\n",
              "      <th>25%</th>\n",
              "      <td>1.000000e+00</td>\n",
              "      <td>1.000000e+00</td>\n",
              "      <td>-7.399187e+01</td>\n",
              "      <td>4.073735e+01</td>\n",
              "      <td>-7.399133e+01</td>\n",
              "      <td>4.073589e+01</td>\n",
              "      <td>0.000000e+00</td>\n",
              "      <td>3.970000e+02</td>\n",
              "      <td>1.232288e+00</td>\n",
              "      <td>2016.0</td>\n",
              "      <td>2.000000e+00</td>\n",
              "      <td>8.000000e+00</td>\n",
              "      <td>9.000000e+00</td>\n",
              "      <td>1.500000e+01</td>\n",
              "      <td>1.400000e+01</td>\n",
              "      <td>3.000000e+00</td>\n",
              "      <td>2016.0</td>\n",
              "      <td>2.000000e+00</td>\n",
              "      <td>8.000000e+00</td>\n",
              "      <td>9.000000e+00</td>\n",
              "      <td>1.500000e+01</td>\n",
              "      <td>1.500000e+01</td>\n",
              "      <td>9.120000e+00</td>\n",
              "    </tr>\n",
              "    <tr>\n",
              "      <th>50%</th>\n",
              "      <td>2.000000e+00</td>\n",
              "      <td>1.000000e+00</td>\n",
              "      <td>-7.398174e+01</td>\n",
              "      <td>4.075410e+01</td>\n",
              "      <td>-7.397975e+01</td>\n",
              "      <td>4.075452e+01</td>\n",
              "      <td>0.000000e+00</td>\n",
              "      <td>6.620000e+02</td>\n",
              "      <td>2.094050e+00</td>\n",
              "      <td>2016.0</td>\n",
              "      <td>4.000000e+00</td>\n",
              "      <td>1.500000e+01</td>\n",
              "      <td>1.400000e+01</td>\n",
              "      <td>3.000000e+01</td>\n",
              "      <td>2.900000e+01</td>\n",
              "      <td>4.000000e+00</td>\n",
              "      <td>2016.0</td>\n",
              "      <td>4.000000e+00</td>\n",
              "      <td>1.500000e+01</td>\n",
              "      <td>1.400000e+01</td>\n",
              "      <td>3.000000e+01</td>\n",
              "      <td>2.900000e+01</td>\n",
              "      <td>1.279000e+01</td>\n",
              "    </tr>\n",
              "    <tr>\n",
              "      <th>75%</th>\n",
              "      <td>2.000000e+00</td>\n",
              "      <td>2.000000e+00</td>\n",
              "      <td>-7.396733e+01</td>\n",
              "      <td>4.076836e+01</td>\n",
              "      <td>-7.396302e+01</td>\n",
              "      <td>4.076981e+01</td>\n",
              "      <td>0.000000e+00</td>\n",
              "      <td>1.075000e+03</td>\n",
              "      <td>3.874611e+00</td>\n",
              "      <td>2016.0</td>\n",
              "      <td>5.000000e+00</td>\n",
              "      <td>2.300000e+01</td>\n",
              "      <td>1.900000e+01</td>\n",
              "      <td>4.500000e+01</td>\n",
              "      <td>4.400000e+01</td>\n",
              "      <td>6.000000e+00</td>\n",
              "      <td>2016.0</td>\n",
              "      <td>5.000000e+00</td>\n",
              "      <td>2.300000e+01</td>\n",
              "      <td>1.900000e+01</td>\n",
              "      <td>4.500000e+01</td>\n",
              "      <td>4.500000e+01</td>\n",
              "      <td>1.784000e+01</td>\n",
              "    </tr>\n",
              "    <tr>\n",
              "      <th>max</th>\n",
              "      <td>2.000000e+00</td>\n",
              "      <td>9.000000e+00</td>\n",
              "      <td>-6.133553e+01</td>\n",
              "      <td>4.391176e+01</td>\n",
              "      <td>-6.133553e+01</td>\n",
              "      <td>4.391176e+01</td>\n",
              "      <td>1.000000e+00</td>\n",
              "      <td>8.639200e+04</td>\n",
              "      <td>1.918180e+02</td>\n",
              "      <td>2016.0</td>\n",
              "      <td>6.000000e+00</td>\n",
              "      <td>3.100000e+01</td>\n",
              "      <td>2.300000e+01</td>\n",
              "      <td>5.900000e+01</td>\n",
              "      <td>5.900000e+01</td>\n",
              "      <td>7.000000e+00</td>\n",
              "      <td>2016.0</td>\n",
              "      <td>7.000000e+00</td>\n",
              "      <td>3.100000e+01</td>\n",
              "      <td>2.300000e+01</td>\n",
              "      <td>5.900000e+01</td>\n",
              "      <td>5.900000e+01</td>\n",
              "      <td>1.790900e+02</td>\n",
              "    </tr>\n",
              "  </tbody>\n",
              "</table>\n",
              "</div>"
            ],
            "text/plain": [
              "          vendor_id  passenger_count  ...  dropoff_second  avg_speed(km/hr)\n",
              "count  1.458562e+06     1.458562e+06  ...    1.458562e+06      1.458562e+06\n",
              "mean   1.534938e+00     1.664523e+00  ...    2.950985e+01      1.437998e+01\n",
              "std    4.987780e-01     1.314227e+00  ...    1.731978e+01      7.828642e+00\n",
              "min    1.000000e+00     0.000000e+00  ...    0.000000e+00      0.000000e+00\n",
              "25%    1.000000e+00     1.000000e+00  ...    1.500000e+01      9.120000e+00\n",
              "50%    2.000000e+00     1.000000e+00  ...    2.900000e+01      1.279000e+01\n",
              "75%    2.000000e+00     2.000000e+00  ...    4.500000e+01      1.784000e+01\n",
              "max    2.000000e+00     9.000000e+00  ...    5.900000e+01      1.790900e+02\n",
              "\n",
              "[8 rows x 23 columns]"
            ]
          },
          "metadata": {},
          "execution_count": 44
        }
      ]
    },
    {
      "cell_type": "code",
      "metadata": {
        "id": "-wOIFb8WFfyS"
      },
      "source": [
        "taxi_data['hour_spend']= taxi_data['dropoff_hour'] - taxi_data['pickup_hour']\n",
        "taxi_data['min_spend']= taxi_data['dropoff_minute'] - taxi_data['pickup_minute']"
      ],
      "execution_count": 63,
      "outputs": []
    },
    {
      "cell_type": "code",
      "metadata": {
        "id": "RA_FwzLmDXri"
      },
      "source": [
        "col_to_drop= ['pickup_longitude', 'pickup_latitude','dropoff_longitude',\n",
        "                         'dropoff_latitude','pickup_year','dropoff_year',\n",
        "                         'dropoff_day_name','dropoff_month','dropoff_day','dropoff_hour','pickup_hour','pickup_minute','dropoff_minute']\n",
        "taxi_df= taxi_data.drop(col_to_drop, axis=1)"
      ],
      "execution_count": 64,
      "outputs": []
    },
    {
      "cell_type": "code",
      "metadata": {
        "colab": {
          "base_uri": "https://localhost:8080/",
          "height": 659
        },
        "id": "z_NacSveEvJF",
        "outputId": "b8b3f204-f964-4adb-e149-15ecbdf466d5"
      },
      "source": [
        "taxi_df.corr()"
      ],
      "execution_count": 65,
      "outputs": [
        {
          "output_type": "execute_result",
          "data": {
            "text/html": [
              "<div>\n",
              "<style scoped>\n",
              "    .dataframe tbody tr th:only-of-type {\n",
              "        vertical-align: middle;\n",
              "    }\n",
              "\n",
              "    .dataframe tbody tr th {\n",
              "        vertical-align: top;\n",
              "    }\n",
              "\n",
              "    .dataframe thead th {\n",
              "        text-align: right;\n",
              "    }\n",
              "</style>\n",
              "<table border=\"1\" class=\"dataframe\">\n",
              "  <thead>\n",
              "    <tr style=\"text-align: right;\">\n",
              "      <th></th>\n",
              "      <th>vendor_id</th>\n",
              "      <th>passenger_count</th>\n",
              "      <th>store_and_fwd_flag</th>\n",
              "      <th>trip_duration</th>\n",
              "      <th>distance</th>\n",
              "      <th>pickup_month</th>\n",
              "      <th>pickup_day</th>\n",
              "      <th>pickup_second</th>\n",
              "      <th>pickup_day_name</th>\n",
              "      <th>dropoff_second</th>\n",
              "      <th>avg_speed(km/hr)</th>\n",
              "      <th>hour_spend</th>\n",
              "      <th>min_spend</th>\n",
              "    </tr>\n",
              "  </thead>\n",
              "  <tbody>\n",
              "    <tr>\n",
              "      <th>vendor_id</th>\n",
              "      <td>1.000000e+00</td>\n",
              "      <td>3.007872e-01</td>\n",
              "      <td>-1.071296e-01</td>\n",
              "      <td>5.499572e-02</td>\n",
              "      <td>1.390116e-16</td>\n",
              "      <td>-1.240206e-02</td>\n",
              "      <td>2.993250e-02</td>\n",
              "      <td>2.803384e-04</td>\n",
              "      <td>2.824697e-02</td>\n",
              "      <td>-1.916156e-02</td>\n",
              "      <td>2.371411e-01</td>\n",
              "      <td>5.200402e-03</td>\n",
              "      <td>-1.841062e-03</td>\n",
              "    </tr>\n",
              "    <tr>\n",
              "      <th>passenger_count</th>\n",
              "      <td>3.007872e-01</td>\n",
              "      <td>1.000000e+00</td>\n",
              "      <td>-2.784242e-02</td>\n",
              "      <td>8.983666e-02</td>\n",
              "      <td>5.210646e-16</td>\n",
              "      <td>1.838193e-02</td>\n",
              "      <td>1.734790e-02</td>\n",
              "      <td>-7.733756e-03</td>\n",
              "      <td>2.454722e-02</td>\n",
              "      <td>-1.637614e-02</td>\n",
              "      <td>7.013142e-02</td>\n",
              "      <td>9.323406e-04</td>\n",
              "      <td>2.877117e-03</td>\n",
              "    </tr>\n",
              "    <tr>\n",
              "      <th>store_and_fwd_flag</th>\n",
              "      <td>-1.071296e-01</td>\n",
              "      <td>-2.784242e-02</td>\n",
              "      <td>1.000000e+00</td>\n",
              "      <td>-1.999750e-02</td>\n",
              "      <td>8.683072e-16</td>\n",
              "      <td>9.992786e-03</td>\n",
              "      <td>-1.203415e-02</td>\n",
              "      <td>-1.801573e-02</td>\n",
              "      <td>-2.407846e-02</td>\n",
              "      <td>-4.581277e-04</td>\n",
              "      <td>-3.770087e-02</td>\n",
              "      <td>-9.270969e-03</td>\n",
              "      <td>7.321362e-03</td>\n",
              "    </tr>\n",
              "    <tr>\n",
              "      <th>trip_duration</th>\n",
              "      <td>5.499572e-02</td>\n",
              "      <td>8.983666e-02</td>\n",
              "      <td>-1.999750e-02</td>\n",
              "      <td>1.000000e+00</td>\n",
              "      <td>-1.292543e-15</td>\n",
              "      <td>6.299205e-04</td>\n",
              "      <td>-1.988553e-02</td>\n",
              "      <td>-3.160309e-02</td>\n",
              "      <td>3.784023e-03</td>\n",
              "      <td>-1.545107e-03</td>\n",
              "      <td>-4.139260e-02</td>\n",
              "      <td>3.464101e-02</td>\n",
              "      <td>-1.911936e-03</td>\n",
              "    </tr>\n",
              "    <tr>\n",
              "      <th>distance</th>\n",
              "      <td>1.390116e-16</td>\n",
              "      <td>5.210646e-16</td>\n",
              "      <td>8.683072e-16</td>\n",
              "      <td>-1.292543e-15</td>\n",
              "      <td>1.000000e+00</td>\n",
              "      <td>7.857106e-18</td>\n",
              "      <td>7.000614e-16</td>\n",
              "      <td>6.189500e-16</td>\n",
              "      <td>1.594088e-15</td>\n",
              "      <td>1.557688e-16</td>\n",
              "      <td>3.135559e-16</td>\n",
              "      <td>4.762813e-16</td>\n",
              "      <td>5.364236e-16</td>\n",
              "    </tr>\n",
              "    <tr>\n",
              "      <th>pickup_month</th>\n",
              "      <td>-1.240206e-02</td>\n",
              "      <td>1.838193e-02</td>\n",
              "      <td>9.992786e-03</td>\n",
              "      <td>6.299205e-04</td>\n",
              "      <td>7.857106e-18</td>\n",
              "      <td>1.000000e+00</td>\n",
              "      <td>-8.311325e-03</td>\n",
              "      <td>-2.990057e-02</td>\n",
              "      <td>8.247544e-03</td>\n",
              "      <td>2.266679e-02</td>\n",
              "      <td>-1.269387e-02</td>\n",
              "      <td>1.033096e-03</td>\n",
              "      <td>-4.956380e-03</td>\n",
              "    </tr>\n",
              "    <tr>\n",
              "      <th>pickup_day</th>\n",
              "      <td>2.993250e-02</td>\n",
              "      <td>1.734790e-02</td>\n",
              "      <td>-1.203415e-02</td>\n",
              "      <td>-1.988553e-02</td>\n",
              "      <td>7.000614e-16</td>\n",
              "      <td>-8.311325e-03</td>\n",
              "      <td>1.000000e+00</td>\n",
              "      <td>1.551376e-02</td>\n",
              "      <td>9.629350e-03</td>\n",
              "      <td>9.616940e-03</td>\n",
              "      <td>2.383382e-02</td>\n",
              "      <td>-2.004943e-02</td>\n",
              "      <td>1.993304e-02</td>\n",
              "    </tr>\n",
              "    <tr>\n",
              "      <th>pickup_second</th>\n",
              "      <td>2.803384e-04</td>\n",
              "      <td>-7.733756e-03</td>\n",
              "      <td>-1.801573e-02</td>\n",
              "      <td>-3.160309e-02</td>\n",
              "      <td>6.189500e-16</td>\n",
              "      <td>-2.990057e-02</td>\n",
              "      <td>1.551376e-02</td>\n",
              "      <td>1.000000e+00</td>\n",
              "      <td>-6.833640e-03</td>\n",
              "      <td>5.625640e-02</td>\n",
              "      <td>3.159614e-03</td>\n",
              "      <td>7.596530e-02</td>\n",
              "      <td>-7.080962e-03</td>\n",
              "    </tr>\n",
              "    <tr>\n",
              "      <th>pickup_day_name</th>\n",
              "      <td>2.824697e-02</td>\n",
              "      <td>2.454722e-02</td>\n",
              "      <td>-2.407846e-02</td>\n",
              "      <td>3.784023e-03</td>\n",
              "      <td>1.594088e-15</td>\n",
              "      <td>8.247544e-03</td>\n",
              "      <td>9.629350e-03</td>\n",
              "      <td>-6.833640e-03</td>\n",
              "      <td>1.000000e+00</td>\n",
              "      <td>-5.542306e-03</td>\n",
              "      <td>-2.105544e-03</td>\n",
              "      <td>-1.688524e-02</td>\n",
              "      <td>1.704691e-02</td>\n",
              "    </tr>\n",
              "    <tr>\n",
              "      <th>dropoff_second</th>\n",
              "      <td>-1.916156e-02</td>\n",
              "      <td>-1.637614e-02</td>\n",
              "      <td>-4.581277e-04</td>\n",
              "      <td>-1.545107e-03</td>\n",
              "      <td>1.557688e-16</td>\n",
              "      <td>2.266679e-02</td>\n",
              "      <td>9.616940e-03</td>\n",
              "      <td>5.625640e-02</td>\n",
              "      <td>-5.542306e-03</td>\n",
              "      <td>1.000000e+00</td>\n",
              "      <td>1.336279e-02</td>\n",
              "      <td>-8.211113e-02</td>\n",
              "      <td>1.177062e-02</td>\n",
              "    </tr>\n",
              "    <tr>\n",
              "      <th>avg_speed(km/hr)</th>\n",
              "      <td>2.371411e-01</td>\n",
              "      <td>7.013142e-02</td>\n",
              "      <td>-3.770087e-02</td>\n",
              "      <td>-4.139260e-02</td>\n",
              "      <td>3.135559e-16</td>\n",
              "      <td>-1.269387e-02</td>\n",
              "      <td>2.383382e-02</td>\n",
              "      <td>3.159614e-03</td>\n",
              "      <td>-2.105544e-03</td>\n",
              "      <td>1.336279e-02</td>\n",
              "      <td>1.000000e+00</td>\n",
              "      <td>1.092784e-02</td>\n",
              "      <td>-1.323294e-02</td>\n",
              "    </tr>\n",
              "    <tr>\n",
              "      <th>hour_spend</th>\n",
              "      <td>5.200402e-03</td>\n",
              "      <td>9.323406e-04</td>\n",
              "      <td>-9.270969e-03</td>\n",
              "      <td>3.464101e-02</td>\n",
              "      <td>4.762813e-16</td>\n",
              "      <td>1.033096e-03</td>\n",
              "      <td>-2.004943e-02</td>\n",
              "      <td>7.596530e-02</td>\n",
              "      <td>-1.688524e-02</td>\n",
              "      <td>-8.211113e-02</td>\n",
              "      <td>1.092784e-02</td>\n",
              "      <td>1.000000e+00</td>\n",
              "      <td>-9.942281e-01</td>\n",
              "    </tr>\n",
              "    <tr>\n",
              "      <th>min_spend</th>\n",
              "      <td>-1.841062e-03</td>\n",
              "      <td>2.877117e-03</td>\n",
              "      <td>7.321362e-03</td>\n",
              "      <td>-1.911936e-03</td>\n",
              "      <td>5.364236e-16</td>\n",
              "      <td>-4.956380e-03</td>\n",
              "      <td>1.993304e-02</td>\n",
              "      <td>-7.080962e-03</td>\n",
              "      <td>1.704691e-02</td>\n",
              "      <td>1.177062e-02</td>\n",
              "      <td>-1.323294e-02</td>\n",
              "      <td>-9.942281e-01</td>\n",
              "      <td>1.000000e+00</td>\n",
              "    </tr>\n",
              "  </tbody>\n",
              "</table>\n",
              "</div>"
            ],
            "text/plain": [
              "                       vendor_id  passenger_count  ...    hour_spend     min_spend\n",
              "vendor_id           1.000000e+00     3.007872e-01  ...  5.200402e-03 -1.841062e-03\n",
              "passenger_count     3.007872e-01     1.000000e+00  ...  9.323406e-04  2.877117e-03\n",
              "store_and_fwd_flag -1.071296e-01    -2.784242e-02  ... -9.270969e-03  7.321362e-03\n",
              "trip_duration       5.499572e-02     8.983666e-02  ...  3.464101e-02 -1.911936e-03\n",
              "distance            1.390116e-16     5.210646e-16  ...  4.762813e-16  5.364236e-16\n",
              "pickup_month       -1.240206e-02     1.838193e-02  ...  1.033096e-03 -4.956380e-03\n",
              "pickup_day          2.993250e-02     1.734790e-02  ... -2.004943e-02  1.993304e-02\n",
              "pickup_second       2.803384e-04    -7.733756e-03  ...  7.596530e-02 -7.080962e-03\n",
              "pickup_day_name     2.824697e-02     2.454722e-02  ... -1.688524e-02  1.704691e-02\n",
              "dropoff_second     -1.916156e-02    -1.637614e-02  ... -8.211113e-02  1.177062e-02\n",
              "avg_speed(km/hr)    2.371411e-01     7.013142e-02  ...  1.092784e-02 -1.323294e-02\n",
              "hour_spend          5.200402e-03     9.323406e-04  ...  1.000000e+00 -9.942281e-01\n",
              "min_spend          -1.841062e-03     2.877117e-03  ... -9.942281e-01  1.000000e+00\n",
              "\n",
              "[13 rows x 13 columns]"
            ]
          },
          "metadata": {},
          "execution_count": 65
        }
      ]
    },
    {
      "cell_type": "code",
      "metadata": {
        "id": "VDj5rtoqY921",
        "colab": {
          "base_uri": "https://localhost:8080/",
          "height": 711
        },
        "outputId": "8d4cd855-0b9f-4162-88d2-131cf0b0ff13"
      },
      "source": [
        "plt.figure(figsize=(15,10))\n",
        "sns.heatmap(round(taxi_df.corr(),2),annot=True,cmap='coolwarm')"
      ],
      "execution_count": 66,
      "outputs": [
        {
          "output_type": "execute_result",
          "data": {
            "text/plain": [
              "<matplotlib.axes._subplots.AxesSubplot at 0x7f10bfc45b50>"
            ]
          },
          "metadata": {},
          "execution_count": 66
        },
        {
          "output_type": "display_data",
          "data": {
            "image/png": "[encoded data removed]",
            "text/plain": [
              "<Figure size 1080x720 with 2 Axes>"
            ]
          },
          "metadata": {}
        }
      ]
    },
    {
      "cell_type": "code",
      "metadata": {
        "id": "jGxr92jwa3Yn"
      },
      "source": [
        "from sklearn.preprocessing import MinMaxScaler\n",
        "from sklearn.model_selection import train_test_split\n",
        "from sklearn.linear_model import LinearRegression\n",
        "from sklearn.metrics import r2_score\n",
        "from sklearn.metrics import mean_squared_error"
      ],
      "execution_count": 67,
      "outputs": []
    },
    {
      "cell_type": "code",
      "metadata": {
        "id": "IWGSpaln22vm"
      },
      "source": [
        "X= taxi_df.drop(['trip_duration'],axis=1)"
      ],
      "execution_count": 69,
      "outputs": []
    },
    {
      "cell_type": "code",
      "metadata": {
        "id": "ztgLkWjd22qR"
      },
      "source": [
        "y= np.log10(taxi_df['trip_duration'])"
      ],
      "execution_count": 70,
      "outputs": []
    },
    {
      "cell_type": "code",
      "metadata": {
        "id": "hpwBYHA_22j4"
      },
      "source": [
        "scale = MinMaxScaler()\n"
      ],
      "execution_count": null,
      "outputs": []
    }
  ]
}