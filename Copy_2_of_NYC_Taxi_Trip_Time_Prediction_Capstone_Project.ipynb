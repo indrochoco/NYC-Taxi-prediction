{
  "nbformat": 4,
  "nbformat_minor": 0,
  "metadata": {
    "colab": {
      "name": "Copy 2 of NYC Taxi Trip Time Prediction - Capstone Project.ipynb",
      "provenance": [],
      "collapsed_sections": [],
      "include_colab_link": true
    },
    "kernelspec": {
      "display_name": "Python 3",
      "language": "python",
      "name": "python3"
    },
    "language_info": {
      "codemirror_mode": {
        "name": "ipython",
        "version": 3
      },
      "file_extension": ".py",
      "mimetype": "text/x-python",
      "name": "python",
      "nbconvert_exporter": "python",
      "pygments_lexer": "ipython3",
      "version": "3.6.6"
    }
  },
  "cells": [
    {
      "cell_type": "markdown",
      "metadata": {
        "id": "view-in-github",
        "colab_type": "text"
      },
      "source": [
        "<a href=\"https://colab.research.google.com/github/indrochoco/NYC-Taxi-prediction/blob/main/Copy_2_of_NYC_Taxi_Trip_Time_Prediction_Capstone_Project.ipynb\" target=\"_parent\"><img src=\"https://colab.research.google.com/assets/colab-badge.svg\" alt=\"Open In Colab\"/></a>"
      ]
    },
    {
      "cell_type": "markdown",
      "metadata": {
        "id": "tOGC-qoyhJeX"
      },
      "source": [
        "# <b><u> Project Title : Taxi trip time Prediction : Predicting total ride duration of taxi trips in New York City</u></b>"
      ]
    },
    {
      "cell_type": "markdown",
      "metadata": {
        "id": "Y06xIdG26kRF"
      },
      "source": [
        "## <b> Problem Description </b>\n",
        "\n",
        "### Your task is to build a model that predicts the total ride duration of taxi trips in New York City. Your primary dataset is one released by the NYC Taxi and Limousine Commission, which includes pickup time, geo-coordinates, number of passengers, and several other variables."
      ]
    },
    {
      "cell_type": "markdown",
      "metadata": {
        "id": "WWeU1f9bwqQq"
      },
      "source": [
        "## <b> Data Description </b>\n",
        "\n",
        "### The dataset is based on the 2016 NYC Yellow Cab trip record data made available in Big Query on Google Cloud Platform. The data was originally published by the NYC Taxi and Limousine Commission (TLC). The data was sampled and cleaned for the purposes of this project. Based on individual trip attributes, you should predict the duration of each trip in the test set.\n",
        "\n",
        "### <b>NYC Taxi Data.csv</b> - the training set (contains 1458644 trip records)\n",
        "\n",
        "\n",
        "### Data fields\n",
        "* #### id - a unique identifier for each trip\n",
        "* #### vendor_id - a code indicating the provider associated with the trip record\n",
        "* #### pickup_datetime - date and time when the meter was engaged\n",
        "* #### dropoff_datetime - date and time when the meter was disengaged\n",
        "* #### passenger_count - the number of passengers in the vehicle (driver entered value)\n",
        "* #### pickup_longitude - the longitude where the meter was engaged\n",
        "* #### pickup_latitude - the latitude where the meter was engaged\n",
        "* #### dropoff_longitude - the longitude where the meter was disengaged\n",
        "* #### dropoff_latitude - the latitude where the meter was disengaged\n",
        "* #### store_and_fwd_flag - This flag indicates whether the trip record was held in vehicle memory before sending to the vendor because the vehicle did not have a connection to the server - Y=store and forward; N=not a store and forward trip\n",
        "* #### trip_duration - duration of the trip in seconds"
      ]
    },
    {
      "cell_type": "code",
      "metadata": {
        "id": "dByMsuzT8Tnw"
      },
      "source": [
        "import pandas as pd\n",
        "import numpy as np\n",
        "import matplotlib.pyplot as plt\n",
        "%matplotlib inline\n",
        "import seaborn as sns"
      ],
      "execution_count": null,
      "outputs": []
    },
    {
      "cell_type": "code",
      "metadata": {
        "colab": {
          "base_uri": "https://localhost:8080/"
        },
        "id": "kZPSlfxASS-A",
        "outputId": "3d92b570-3b70-4be3-bef0-d3f4c541b1d9"
      },
      "source": [
        "from google.colab import drive\n",
        "drive.mount('/content/drive')"
      ],
      "execution_count": null,
      "outputs": [
        {
          "output_type": "stream",
          "name": "stdout",
          "text": [
            "Drive already mounted at /content/drive; to attempt to forcibly remount, call drive.mount(\"/content/drive\", force_remount=True).\n"
          ]
        }
      ]
    },
    {
      "cell_type": "code",
      "metadata": {
        "id": "TGAZhrWrSLlz"
      },
      "source": [
        "path= '/content/drive/MyDrive/almabetter/Copy of NYC Taxi Data.csv'\n",
        "taxi_data= pd.read_csv(path)"
      ],
      "execution_count": null,
      "outputs": []
    },
    {
      "cell_type": "code",
      "metadata": {
        "colab": {
          "base_uri": "https://localhost:8080/",
          "height": 357
        },
        "id": "IpY12xx1Sml7",
        "outputId": "f0e1d1e4-3fa6-4763-f17b-2fd612d8ddca"
      },
      "source": [
        "taxi_data.head(6)"
      ],
      "execution_count": null,
      "outputs": [
        {
          "output_type": "execute_result",
          "data": {
            "text/html": [
              "<div>\n",
              "<style scoped>\n",
              "    .dataframe tbody tr th:only-of-type {\n",
              "        vertical-align: middle;\n",
              "    }\n",
              "\n",
              "    .dataframe tbody tr th {\n",
              "        vertical-align: top;\n",
              "    }\n",
              "\n",
              "    .dataframe thead th {\n",
              "        text-align: right;\n",
              "    }\n",
              "</style>\n",
              "<table border=\"1\" class=\"dataframe\">\n",
              "  <thead>\n",
              "    <tr style=\"text-align: right;\">\n",
              "      <th></th>\n",
              "      <th>id</th>\n",
              "      <th>vendor_id</th>\n",
              "      <th>pickup_datetime</th>\n",
              "      <th>dropoff_datetime</th>\n",
              "      <th>passenger_count</th>\n",
              "      <th>pickup_longitude</th>\n",
              "      <th>pickup_latitude</th>\n",
              "      <th>dropoff_longitude</th>\n",
              "      <th>dropoff_latitude</th>\n",
              "      <th>store_and_fwd_flag</th>\n",
              "      <th>trip_duration</th>\n",
              "    </tr>\n",
              "  </thead>\n",
              "  <tbody>\n",
              "    <tr>\n",
              "      <th>0</th>\n",
              "      <td>id2875421</td>\n",
              "      <td>2</td>\n",
              "      <td>2016-03-14 17:24:55</td>\n",
              "      <td>2016-03-14 17:32:30</td>\n",
              "      <td>1</td>\n",
              "      <td>-73.982155</td>\n",
              "      <td>40.767937</td>\n",
              "      <td>-73.964630</td>\n",
              "      <td>40.765602</td>\n",
              "      <td>N</td>\n",
              "      <td>455</td>\n",
              "    </tr>\n",
              "    <tr>\n",
              "      <th>1</th>\n",
              "      <td>id2377394</td>\n",
              "      <td>1</td>\n",
              "      <td>2016-06-12 00:43:35</td>\n",
              "      <td>2016-06-12 00:54:38</td>\n",
              "      <td>1</td>\n",
              "      <td>-73.980415</td>\n",
              "      <td>40.738564</td>\n",
              "      <td>-73.999481</td>\n",
              "      <td>40.731152</td>\n",
              "      <td>N</td>\n",
              "      <td>663</td>\n",
              "    </tr>\n",
              "    <tr>\n",
              "      <th>2</th>\n",
              "      <td>id3858529</td>\n",
              "      <td>2</td>\n",
              "      <td>2016-01-19 11:35:24</td>\n",
              "      <td>2016-01-19 12:10:48</td>\n",
              "      <td>1</td>\n",
              "      <td>-73.979027</td>\n",
              "      <td>40.763939</td>\n",
              "      <td>-74.005333</td>\n",
              "      <td>40.710087</td>\n",
              "      <td>N</td>\n",
              "      <td>2124</td>\n",
              "    </tr>\n",
              "    <tr>\n",
              "      <th>3</th>\n",
              "      <td>id3504673</td>\n",
              "      <td>2</td>\n",
              "      <td>2016-04-06 19:32:31</td>\n",
              "      <td>2016-04-06 19:39:40</td>\n",
              "      <td>1</td>\n",
              "      <td>-74.010040</td>\n",
              "      <td>40.719971</td>\n",
              "      <td>-74.012268</td>\n",
              "      <td>40.706718</td>\n",
              "      <td>N</td>\n",
              "      <td>429</td>\n",
              "    </tr>\n",
              "    <tr>\n",
              "      <th>4</th>\n",
              "      <td>id2181028</td>\n",
              "      <td>2</td>\n",
              "      <td>2016-03-26 13:30:55</td>\n",
              "      <td>2016-03-26 13:38:10</td>\n",
              "      <td>1</td>\n",
              "      <td>-73.973053</td>\n",
              "      <td>40.793209</td>\n",
              "      <td>-73.972923</td>\n",
              "      <td>40.782520</td>\n",
              "      <td>N</td>\n",
              "      <td>435</td>\n",
              "    </tr>\n",
              "    <tr>\n",
              "      <th>5</th>\n",
              "      <td>id0801584</td>\n",
              "      <td>2</td>\n",
              "      <td>2016-01-30 22:01:40</td>\n",
              "      <td>2016-01-30 22:09:03</td>\n",
              "      <td>6</td>\n",
              "      <td>-73.982857</td>\n",
              "      <td>40.742195</td>\n",
              "      <td>-73.992081</td>\n",
              "      <td>40.749184</td>\n",
              "      <td>N</td>\n",
              "      <td>443</td>\n",
              "    </tr>\n",
              "  </tbody>\n",
              "</table>\n",
              "</div>"
            ],
            "text/plain": [
              "          id  vendor_id  ... store_and_fwd_flag trip_duration\n",
              "0  id2875421          2  ...                  N           455\n",
              "1  id2377394          1  ...                  N           663\n",
              "2  id3858529          2  ...                  N          2124\n",
              "3  id3504673          2  ...                  N           429\n",
              "4  id2181028          2  ...                  N           435\n",
              "5  id0801584          2  ...                  N           443\n",
              "\n",
              "[6 rows x 11 columns]"
            ]
          },
          "metadata": {},
          "execution_count": 4
        }
      ]
    },
    {
      "cell_type": "code",
      "metadata": {
        "colab": {
          "base_uri": "https://localhost:8080/"
        },
        "id": "xb0xeio4TGwH",
        "outputId": "fb479c01-aa92-440f-967b-4ceec810f237"
      },
      "source": [
        "taxi_data.shape"
      ],
      "execution_count": null,
      "outputs": [
        {
          "output_type": "execute_result",
          "data": {
            "text/plain": [
              "(1458644, 11)"
            ]
          },
          "metadata": {},
          "execution_count": 5
        }
      ]
    },
    {
      "cell_type": "code",
      "metadata": {
        "colab": {
          "base_uri": "https://localhost:8080/"
        },
        "id": "55hRPv7Jbnge",
        "outputId": "cf11dcfb-64d9-42d5-9d0c-6192678878e3"
      },
      "source": [
        "taxi_data.columns"
      ],
      "execution_count": null,
      "outputs": [
        {
          "output_type": "execute_result",
          "data": {
            "text/plain": [
              "Index(['id', 'vendor_id', 'pickup_datetime', 'dropoff_datetime',\n",
              "       'passenger_count', 'pickup_longitude', 'pickup_latitude',\n",
              "       'dropoff_longitude', 'dropoff_latitude', 'store_and_fwd_flag',\n",
              "       'trip_duration'],\n",
              "      dtype='object')"
            ]
          },
          "metadata": {},
          "execution_count": 6
        }
      ]
    },
    {
      "cell_type": "code",
      "metadata": {
        "colab": {
          "base_uri": "https://localhost:8080/"
        },
        "id": "_Ee9uj4USw6Y",
        "outputId": "fc31b7ea-6bcf-4855-8760-8ee2712f6293"
      },
      "source": [
        "taxi_data.info()"
      ],
      "execution_count": null,
      "outputs": [
        {
          "output_type": "stream",
          "name": "stdout",
          "text": [
            "<class 'pandas.core.frame.DataFrame'>\n",
            "RangeIndex: 1458644 entries, 0 to 1458643\n",
            "Data columns (total 11 columns):\n",
            " #   Column              Non-Null Count    Dtype  \n",
            "---  ------              --------------    -----  \n",
            " 0   id                  1458644 non-null  object \n",
            " 1   vendor_id           1458644 non-null  int64  \n",
            " 2   pickup_datetime     1458644 non-null  object \n",
            " 3   dropoff_datetime    1458644 non-null  object \n",
            " 4   passenger_count     1458644 non-null  int64  \n",
            " 5   pickup_longitude    1458644 non-null  float64\n",
            " 6   pickup_latitude     1458644 non-null  float64\n",
            " 7   dropoff_longitude   1458644 non-null  float64\n",
            " 8   dropoff_latitude    1458644 non-null  float64\n",
            " 9   store_and_fwd_flag  1458644 non-null  object \n",
            " 10  trip_duration       1458644 non-null  int64  \n",
            "dtypes: float64(4), int64(3), object(4)\n",
            "memory usage: 122.4+ MB\n"
          ]
        }
      ]
    },
    {
      "cell_type": "code",
      "metadata": {
        "colab": {
          "base_uri": "https://localhost:8080/",
          "height": 69
        },
        "id": "3X5RhbvFSrH8",
        "outputId": "d1bb73c1-385d-40c7-d388-d6896ca2cc96"
      },
      "source": [
        "taxi_data[taxi_data.duplicated() == True]"
      ],
      "execution_count": null,
      "outputs": [
        {
          "output_type": "execute_result",
          "data": {
            "text/html": [
              "<div>\n",
              "<style scoped>\n",
              "    .dataframe tbody tr th:only-of-type {\n",
              "        vertical-align: middle;\n",
              "    }\n",
              "\n",
              "    .dataframe tbody tr th {\n",
              "        vertical-align: top;\n",
              "    }\n",
              "\n",
              "    .dataframe thead th {\n",
              "        text-align: right;\n",
              "    }\n",
              "</style>\n",
              "<table border=\"1\" class=\"dataframe\">\n",
              "  <thead>\n",
              "    <tr style=\"text-align: right;\">\n",
              "      <th></th>\n",
              "      <th>id</th>\n",
              "      <th>vendor_id</th>\n",
              "      <th>pickup_datetime</th>\n",
              "      <th>dropoff_datetime</th>\n",
              "      <th>passenger_count</th>\n",
              "      <th>pickup_longitude</th>\n",
              "      <th>pickup_latitude</th>\n",
              "      <th>dropoff_longitude</th>\n",
              "      <th>dropoff_latitude</th>\n",
              "      <th>store_and_fwd_flag</th>\n",
              "      <th>trip_duration</th>\n",
              "    </tr>\n",
              "  </thead>\n",
              "  <tbody>\n",
              "  </tbody>\n",
              "</table>\n",
              "</div>"
            ],
            "text/plain": [
              "Empty DataFrame\n",
              "Columns: [id, vendor_id, pickup_datetime, dropoff_datetime, passenger_count, pickup_longitude, pickup_latitude, dropoff_longitude, dropoff_latitude, store_and_fwd_flag, trip_duration]\n",
              "Index: []"
            ]
          },
          "metadata": {},
          "execution_count": 8
        }
      ]
    },
    {
      "cell_type": "code",
      "metadata": {
        "colab": {
          "base_uri": "https://localhost:8080/"
        },
        "id": "Fjkgwr36TDVT",
        "outputId": "0d4e6ce9-0317-420a-ceeb-7cc0ccc9017c"
      },
      "source": [
        "taxi_data.store_and_fwd_flag.unique()"
      ],
      "execution_count": null,
      "outputs": [
        {
          "output_type": "execute_result",
          "data": {
            "text/plain": [
              "array(['N', 'Y'], dtype=object)"
            ]
          },
          "metadata": {},
          "execution_count": 9
        }
      ]
    },
    {
      "cell_type": "code",
      "metadata": {
        "colab": {
          "base_uri": "https://localhost:8080/"
        },
        "id": "V4gZlODgx5KS",
        "outputId": "a11d6476-6026-4169-9a0d-3a2e8300ff65"
      },
      "source": [
        "taxi_data.passenger_count.unique()"
      ],
      "execution_count": null,
      "outputs": [
        {
          "output_type": "execute_result",
          "data": {
            "text/plain": [
              "array([1, 6, 4, 2, 3, 5, 0, 7, 9, 8])"
            ]
          },
          "metadata": {},
          "execution_count": 10
        }
      ]
    },
    {
      "cell_type": "code",
      "metadata": {
        "colab": {
          "base_uri": "https://localhost:8080/",
          "height": 297
        },
        "id": "U-GidLXsWEop",
        "outputId": "0db3e117-1d31-488a-b053-099b170f1e6a"
      },
      "source": [
        "taxi_data.describe()"
      ],
      "execution_count": null,
      "outputs": [
        {
          "output_type": "execute_result",
          "data": {
            "text/html": [
              "<div>\n",
              "<style scoped>\n",
              "    .dataframe tbody tr th:only-of-type {\n",
              "        vertical-align: middle;\n",
              "    }\n",
              "\n",
              "    .dataframe tbody tr th {\n",
              "        vertical-align: top;\n",
              "    }\n",
              "\n",
              "    .dataframe thead th {\n",
              "        text-align: right;\n",
              "    }\n",
              "</style>\n",
              "<table border=\"1\" class=\"dataframe\">\n",
              "  <thead>\n",
              "    <tr style=\"text-align: right;\">\n",
              "      <th></th>\n",
              "      <th>vendor_id</th>\n",
              "      <th>passenger_count</th>\n",
              "      <th>pickup_longitude</th>\n",
              "      <th>pickup_latitude</th>\n",
              "      <th>dropoff_longitude</th>\n",
              "      <th>dropoff_latitude</th>\n",
              "      <th>trip_duration</th>\n",
              "    </tr>\n",
              "  </thead>\n",
              "  <tbody>\n",
              "    <tr>\n",
              "      <th>count</th>\n",
              "      <td>1.458644e+06</td>\n",
              "      <td>1.458644e+06</td>\n",
              "      <td>1.458644e+06</td>\n",
              "      <td>1.458644e+06</td>\n",
              "      <td>1.458644e+06</td>\n",
              "      <td>1.458644e+06</td>\n",
              "      <td>1.458644e+06</td>\n",
              "    </tr>\n",
              "    <tr>\n",
              "      <th>mean</th>\n",
              "      <td>1.534950e+00</td>\n",
              "      <td>1.664530e+00</td>\n",
              "      <td>-7.397349e+01</td>\n",
              "      <td>4.075092e+01</td>\n",
              "      <td>-7.397342e+01</td>\n",
              "      <td>4.075180e+01</td>\n",
              "      <td>9.594923e+02</td>\n",
              "    </tr>\n",
              "    <tr>\n",
              "      <th>std</th>\n",
              "      <td>4.987772e-01</td>\n",
              "      <td>1.314242e+00</td>\n",
              "      <td>7.090186e-02</td>\n",
              "      <td>3.288119e-02</td>\n",
              "      <td>7.064327e-02</td>\n",
              "      <td>3.589056e-02</td>\n",
              "      <td>5.237432e+03</td>\n",
              "    </tr>\n",
              "    <tr>\n",
              "      <th>min</th>\n",
              "      <td>1.000000e+00</td>\n",
              "      <td>0.000000e+00</td>\n",
              "      <td>-1.219333e+02</td>\n",
              "      <td>3.435970e+01</td>\n",
              "      <td>-1.219333e+02</td>\n",
              "      <td>3.218114e+01</td>\n",
              "      <td>1.000000e+00</td>\n",
              "    </tr>\n",
              "    <tr>\n",
              "      <th>25%</th>\n",
              "      <td>1.000000e+00</td>\n",
              "      <td>1.000000e+00</td>\n",
              "      <td>-7.399187e+01</td>\n",
              "      <td>4.073735e+01</td>\n",
              "      <td>-7.399133e+01</td>\n",
              "      <td>4.073588e+01</td>\n",
              "      <td>3.970000e+02</td>\n",
              "    </tr>\n",
              "    <tr>\n",
              "      <th>50%</th>\n",
              "      <td>2.000000e+00</td>\n",
              "      <td>1.000000e+00</td>\n",
              "      <td>-7.398174e+01</td>\n",
              "      <td>4.075410e+01</td>\n",
              "      <td>-7.397975e+01</td>\n",
              "      <td>4.075452e+01</td>\n",
              "      <td>6.620000e+02</td>\n",
              "    </tr>\n",
              "    <tr>\n",
              "      <th>75%</th>\n",
              "      <td>2.000000e+00</td>\n",
              "      <td>2.000000e+00</td>\n",
              "      <td>-7.396733e+01</td>\n",
              "      <td>4.076836e+01</td>\n",
              "      <td>-7.396301e+01</td>\n",
              "      <td>4.076981e+01</td>\n",
              "      <td>1.075000e+03</td>\n",
              "    </tr>\n",
              "    <tr>\n",
              "      <th>max</th>\n",
              "      <td>2.000000e+00</td>\n",
              "      <td>9.000000e+00</td>\n",
              "      <td>-6.133553e+01</td>\n",
              "      <td>5.188108e+01</td>\n",
              "      <td>-6.133553e+01</td>\n",
              "      <td>4.392103e+01</td>\n",
              "      <td>3.526282e+06</td>\n",
              "    </tr>\n",
              "  </tbody>\n",
              "</table>\n",
              "</div>"
            ],
            "text/plain": [
              "          vendor_id  passenger_count  ...  dropoff_latitude  trip_duration\n",
              "count  1.458644e+06     1.458644e+06  ...      1.458644e+06   1.458644e+06\n",
              "mean   1.534950e+00     1.664530e+00  ...      4.075180e+01   9.594923e+02\n",
              "std    4.987772e-01     1.314242e+00  ...      3.589056e-02   5.237432e+03\n",
              "min    1.000000e+00     0.000000e+00  ...      3.218114e+01   1.000000e+00\n",
              "25%    1.000000e+00     1.000000e+00  ...      4.073588e+01   3.970000e+02\n",
              "50%    2.000000e+00     1.000000e+00  ...      4.075452e+01   6.620000e+02\n",
              "75%    2.000000e+00     2.000000e+00  ...      4.076981e+01   1.075000e+03\n",
              "max    2.000000e+00     9.000000e+00  ...      4.392103e+01   3.526282e+06\n",
              "\n",
              "[8 rows x 7 columns]"
            ]
          },
          "metadata": {},
          "execution_count": 11
        }
      ]
    },
    {
      "cell_type": "code",
      "metadata": {
        "id": "vU67TLqDYmcV"
      },
      "source": [
        "taxi_data['dropoff_datetime']= pd.to_datetime(taxi_data['dropoff_datetime'])\n",
        "taxi_data['pickup_datetime']= pd.to_datetime(taxi_data['pickup_datetime'])"
      ],
      "execution_count": null,
      "outputs": []
    },
    {
      "cell_type": "code",
      "metadata": {
        "id": "xweBdM95bboc"
      },
      "source": [
        "value= {'store_and_fwd_flag':{'N':0,'Y':1}}\n",
        "taxi_data= taxi_data.replace(value)"
      ],
      "execution_count": null,
      "outputs": []
    },
    {
      "cell_type": "code",
      "metadata": {
        "colab": {
          "base_uri": "https://localhost:8080/",
          "height": 69
        },
        "id": "QIiCYpnQTvHI",
        "outputId": "3be34936-4690-47f1-b43c-a164592e013c"
      },
      "source": [
        "taxi_data[taxi_data.dropoff_longitude==0]"
      ],
      "execution_count": null,
      "outputs": [
        {
          "output_type": "execute_result",
          "data": {
            "text/html": [
              "<div>\n",
              "<style scoped>\n",
              "    .dataframe tbody tr th:only-of-type {\n",
              "        vertical-align: middle;\n",
              "    }\n",
              "\n",
              "    .dataframe tbody tr th {\n",
              "        vertical-align: top;\n",
              "    }\n",
              "\n",
              "    .dataframe thead th {\n",
              "        text-align: right;\n",
              "    }\n",
              "</style>\n",
              "<table border=\"1\" class=\"dataframe\">\n",
              "  <thead>\n",
              "    <tr style=\"text-align: right;\">\n",
              "      <th></th>\n",
              "      <th>id</th>\n",
              "      <th>vendor_id</th>\n",
              "      <th>pickup_datetime</th>\n",
              "      <th>dropoff_datetime</th>\n",
              "      <th>passenger_count</th>\n",
              "      <th>pickup_longitude</th>\n",
              "      <th>pickup_latitude</th>\n",
              "      <th>dropoff_longitude</th>\n",
              "      <th>dropoff_latitude</th>\n",
              "      <th>store_and_fwd_flag</th>\n",
              "      <th>trip_duration</th>\n",
              "    </tr>\n",
              "  </thead>\n",
              "  <tbody>\n",
              "  </tbody>\n",
              "</table>\n",
              "</div>"
            ],
            "text/plain": [
              "Empty DataFrame\n",
              "Columns: [id, vendor_id, pickup_datetime, dropoff_datetime, passenger_count, pickup_longitude, pickup_latitude, dropoff_longitude, dropoff_latitude, store_and_fwd_flag, trip_duration]\n",
              "Index: []"
            ]
          },
          "metadata": {},
          "execution_count": 14
        }
      ]
    },
    {
      "cell_type": "code",
      "metadata": {
        "id": "wMIw6e6xh5uf"
      },
      "source": [
        "import geopy.distance"
      ],
      "execution_count": null,
      "outputs": []
    },
    {
      "cell_type": "code",
      "metadata": {
        "id": "jECs_9VMbzq-"
      },
      "source": [
        "def calculate_distance(df):\n",
        "#dist_list= []\n",
        "  for k in range(taxi_data.shape[0]):\n",
        "\n",
        "      # Point one\n",
        "      lat1 = taxi_data.pickup_latitude[k]\n",
        "      lon1 = taxi_data.pickup_longitude[k]\n",
        "\n",
        "      # Point two\n",
        "      lat2 = taxi_data.dropoff_latitude[k]\n",
        "      lon2 = taxi_data.dropoff_longitude[k]\n",
        "\n",
        "      # calculate distance between two points\n",
        "      coords_1 = (lat1,lon1)\n",
        "      coords_2 = (lat2,lon2)\n",
        "      return geopy.distance.vincenty(coords_1, coords_2).km  # gives distance\n",
        "      #dist_list.append(distance)\n",
        "\n",
        "# adding distance column to the dataset \n",
        "#taxi_data['distance']= dist_list"
      ],
      "execution_count": null,
      "outputs": []
    },
    {
      "cell_type": "code",
      "metadata": {
        "id": "y8f1AnV2vl-m"
      },
      "source": [
        "taxi_data['distance'] = taxi_data.apply(lambda df : calculate_distance(df), axis =1)\n"
      ],
      "execution_count": null,
      "outputs": []
    },
    {
      "cell_type": "code",
      "metadata": {
        "colab": {
          "base_uri": "https://localhost:8080/",
          "height": 416
        },
        "id": "1k-MHKgvjuse",
        "outputId": "05c1c3d8-bfc6-40c6-a151-c021ac3ea7d4"
      },
      "source": [
        "f, ax = plt.subplots(figsize=(10, 5))\n",
        "sns.despine(f)\n",
        "sns.distplot(\n",
        "    taxi_data['passenger_count'].value_counts()\n",
        "    )\n"
      ],
      "execution_count": null,
      "outputs": [
        {
          "output_type": "stream",
          "name": "stderr",
          "text": [
            "/usr/local/lib/python3.7/dist-packages/seaborn/distributions.py:2619: FutureWarning: `distplot` is a deprecated function and will be removed in a future version. Please adapt your code to use either `displot` (a figure-level function with similar flexibility) or `histplot` (an axes-level function for histograms).\n",
            "  warnings.warn(msg, FutureWarning)\n"
          ]
        },
        {
          "output_type": "execute_result",
          "data": {
            "text/plain": [
              "<matplotlib.axes._subplots.AxesSubplot at 0x7fdb3dc30090>"
            ]
          },
          "metadata": {},
          "execution_count": 18
        },
        {
          "output_type": "display_data",
          "data": {
            "image/png": "[encoded data removed]",
            "text/plain": [
              "<Figure size 720x360 with 1 Axes>"
            ]
          },
          "metadata": {
            "needs_background": "light"
          }
        }
      ]
    },
    {
      "cell_type": "code",
      "metadata": {
        "colab": {
          "base_uri": "https://localhost:8080/"
        },
        "id": "4GHTpL0s3Rbw",
        "outputId": "c98381d4-a49e-459c-98a6-49200f5b624e"
      },
      "source": [
        "taxi_data['passenger_count'].value_counts()"
      ],
      "execution_count": null,
      "outputs": [
        {
          "output_type": "execute_result",
          "data": {
            "text/plain": [
              "1    1033540\n",
              "2     210318\n",
              "5      78088\n",
              "3      59896\n",
              "6      48333\n",
              "4      28404\n",
              "0         60\n",
              "7          3\n",
              "9          1\n",
              "8          1\n",
              "Name: passenger_count, dtype: int64"
            ]
          },
          "metadata": {},
          "execution_count": 19
        }
      ]
    },
    {
      "cell_type": "code",
      "metadata": {
        "id": "zF4mJDmKrlmA"
      },
      "source": [
        "import datetime\n",
        "taxi_data['pickup_year'] = taxi_data['pickup_datetime'].dt.year\n",
        "taxi_data['pickup_month'] = taxi_data['pickup_datetime'].dt.month\n",
        "taxi_data['pickup_date'] = taxi_data['pickup_datetime'].dt.day\n",
        "taxi_data['pickup_hour'] = taxi_data['pickup_datetime'].dt.hour\n",
        "taxi_data['pickup_minute'] = taxi_data['pickup_datetime'].dt.minute\n",
        "taxi_data['pickup_second'] = taxi_data['pickup_datetime'].dt.second\n",
        "taxi_data['pickup_day'] = taxi_data['pickup_datetime'].dt.day_name()"
      ],
      "execution_count": null,
      "outputs": []
    },
    {
      "cell_type": "markdown",
      "metadata": {
        "id": "q1fE4Y7vdYpw"
      },
      "source": [
        "Number of Trips count by week days"
      ]
    },
    {
      "cell_type": "code",
      "metadata": {
        "colab": {
          "base_uri": "https://localhost:8080/",
          "height": 367
        },
        "id": "nv-D6cl6TAxJ",
        "outputId": "d995d9e8-c215-4aea-a638-7be3915ac652"
      },
      "source": [
        "weekdays_number= taxi_data.pickup_day.value_counts().reset_index()\n",
        "# Plotting graph\n",
        "f, ax = plt.subplots(figsize=(10, 5))\n",
        "sns.despine(f)\n",
        "sns.set_theme(style=\"whitegrid\")\n",
        "ax= sns.barplot(x='index',y='pickup_day',data=weekdays_number )\n",
        "ax.set_ylabel(\"Trip_number\")\n",
        "ax.set_xlabel(\"Week days\")\n",
        "plt.title(\"Number of trips in week days\")"
      ],
      "execution_count": null,
      "outputs": [
        {
          "output_type": "execute_result",
          "data": {
            "text/plain": [
              "Text(0.5, 1.0, 'Number of trips in week days')"
            ]
          },
          "metadata": {},
          "execution_count": 23
        },
        {
          "output_type": "display_data",
          "data": {
            "image/png": "[encoded data removed]",
            "text/plain": [
              "<Figure size 720x360 with 1 Axes>"
            ]
          },
          "metadata": {
            "needs_background": "light"
          }
        }
      ]
    },
    {
      "cell_type": "markdown",
      "metadata": {
        "id": "sXtpPyUzddZB"
      },
      "source": [
        "Avg duration of trips by week days"
      ]
    },
    {
      "cell_type": "code",
      "metadata": {
        "id": "oo733VH5jOY7"
      },
      "source": [
        "avg_duration_day= taxi_data.groupby(['pickup_day'])['trip_duration'].mean().reset_index().rename(columns={'trip_duration':'avg_trip_duration'}).sort_values(by = \"avg_trip_duration\" , ascending=False ,ignore_index=True)\n"
      ],
      "execution_count": null,
      "outputs": []
    },
    {
      "cell_type": "code",
      "metadata": {
        "colab": {
          "base_uri": "https://localhost:8080/",
          "height": 266
        },
        "id": "qm4Tx7PkjaYg",
        "outputId": "f23ef2a0-251d-4ce1-c855-ed41b9db43dc"
      },
      "source": [
        "avg_duration_day"
      ],
      "execution_count": null,
      "outputs": [
        {
          "output_type": "execute_result",
          "data": {
            "text/html": [
              "<div>\n",
              "<style scoped>\n",
              "    .dataframe tbody tr th:only-of-type {\n",
              "        vertical-align: middle;\n",
              "    }\n",
              "\n",
              "    .dataframe tbody tr th {\n",
              "        vertical-align: top;\n",
              "    }\n",
              "\n",
              "    .dataframe thead th {\n",
              "        text-align: right;\n",
              "    }\n",
              "</style>\n",
              "<table border=\"1\" class=\"dataframe\">\n",
              "  <thead>\n",
              "    <tr style=\"text-align: right;\">\n",
              "      <th></th>\n",
              "      <th>pickup_day</th>\n",
              "      <th>avg_trip_duration</th>\n",
              "    </tr>\n",
              "  </thead>\n",
              "  <tbody>\n",
              "    <tr>\n",
              "      <th>0</th>\n",
              "      <td>Thursday</td>\n",
              "      <td>1006.528654</td>\n",
              "    </tr>\n",
              "    <tr>\n",
              "      <th>1</th>\n",
              "      <td>Friday</td>\n",
              "      <td>990.224200</td>\n",
              "    </tr>\n",
              "    <tr>\n",
              "      <th>2</th>\n",
              "      <td>Tuesday</td>\n",
              "      <td>983.463124</td>\n",
              "    </tr>\n",
              "    <tr>\n",
              "      <th>3</th>\n",
              "      <td>Wednesday</td>\n",
              "      <td>975.450494</td>\n",
              "    </tr>\n",
              "    <tr>\n",
              "      <th>4</th>\n",
              "      <td>Saturday</td>\n",
              "      <td>948.051175</td>\n",
              "    </tr>\n",
              "    <tr>\n",
              "      <th>5</th>\n",
              "      <td>Sunday</td>\n",
              "      <td>901.639395</td>\n",
              "    </tr>\n",
              "    <tr>\n",
              "      <th>6</th>\n",
              "      <td>Monday</td>\n",
              "      <td>897.947839</td>\n",
              "    </tr>\n",
              "  </tbody>\n",
              "</table>\n",
              "</div>"
            ],
            "text/plain": [
              "  pickup_day  avg_trip_duration\n",
              "0   Thursday        1006.528654\n",
              "1     Friday         990.224200\n",
              "2    Tuesday         983.463124\n",
              "3  Wednesday         975.450494\n",
              "4   Saturday         948.051175\n",
              "5     Sunday         901.639395\n",
              "6     Monday         897.947839"
            ]
          },
          "metadata": {},
          "execution_count": 25
        }
      ]
    },
    {
      "cell_type": "code",
      "metadata": {
        "colab": {
          "base_uri": "https://localhost:8080/",
          "height": 509
        },
        "id": "Xiq63yHWjfvj",
        "outputId": "6afb0a98-e18c-4f3e-9bc6-9bbb1d13c53c"
      },
      "source": [
        "fig_1 = plt.figure(figsize=(8,5),dpi=100)\n",
        "axes_1 = fig_1.add_axes([0.1,0.1,0.9,0.9])\n",
        "\n",
        "explode = [0]*7\n",
        "explode[0] = 0.2\n",
        "colors = sns.color_palette('bright')[0:6]\n",
        "z= avg_duration_day['pickup_day'].to_list()\n",
        "plt.rcParams['text.color'] = 'black'\n",
        "plt.pie(x=avg_duration_day['avg_trip_duration'],explode=explode,labels=z,labeldistance=1.1,colors=colors,shadow=True,textprops=dict(color=\"black\"),autopct='%1.0f%%')\n",
        "plt.title(\"Percentage of trips taken in each day of week \")\n",
        "plt.show()"
      ],
      "execution_count": null,
      "outputs": [
        {
          "output_type": "display_data",
          "data": {
            "image/png": "[encoded data removed]",
            "text/plain": [
              "<Figure size 800x500 with 1 Axes>"
            ]
          },
          "metadata": {}
        }
      ]
    },
    {
      "cell_type": "markdown",
      "metadata": {
        "id": "J7OPSeDbBnT9"
      },
      "source": [
        "we will use number of to replace these days."
      ]
    },
    {
      "cell_type": "code",
      "metadata": {
        "id": "Fk_osuW0Bm8a"
      },
      "source": [
        "# one Hot encoding\n",
        "encode_day= {'pickup_day':{'Monday':1,'Tuesday':2,'Wednesday':3,'Tuesday':4,'Thursday':4,'Friday':5,'Saturday':6,'Sunday':7},}\n",
        "# replacing the date name with number\n",
        "taxi_data=taxi_data.replace(encode_day)"
      ],
      "execution_count": null,
      "outputs": []
    },
    {
      "cell_type": "code",
      "metadata": {
        "colab": {
          "base_uri": "https://localhost:8080/",
          "height": 372
        },
        "id": "x-a7n1VTdlRo",
        "outputId": "5893c51e-10ec-44c5-8909-9ea797bd349a"
      },
      "source": [
        "plt.figure(figsize=(10,5))\n",
        "ax=sns.countplot(x=taxi_data['pickup_hour'])\n",
        "ax.set_title(\"Pickup Hours Distribution\")"
      ],
      "execution_count": null,
      "outputs": [
        {
          "output_type": "execute_result",
          "data": {
            "text/plain": [
              "Text(0.5, 1.0, 'Pickup Hours Distribution')"
            ]
          },
          "metadata": {},
          "execution_count": 29
        },
        {
          "output_type": "display_data",
          "data": {
            "image/png": "[encoded data removed]",
            "text/plain": [
              "<Figure size 720x360 with 1 Axes>"
            ]
          },
          "metadata": {}
        }
      ]
    },
    {
      "cell_type": "code",
      "metadata": {
        "id": "rBWTIKYYPNsx"
      },
      "source": [
        "taxi_data['avg_speed(km/hr)']= round((((taxi_data['distance']*1000)/taxi_data['trip_duration'])*3600)/1000,2)"
      ],
      "execution_count": null,
      "outputs": []
    },
    {
      "cell_type": "code",
      "metadata": {
        "colab": {
          "base_uri": "https://localhost:8080/"
        },
        "id": "jMLWPNwg1LNq",
        "outputId": "c1632902-0f14-4aaf-afef-c911e92be485"
      },
      "source": [
        "taxi_data.columns"
      ],
      "execution_count": null,
      "outputs": [
        {
          "output_type": "execute_result",
          "data": {
            "text/plain": [
              "Index(['id', 'vendor_id', 'pickup_datetime', 'dropoff_datetime',\n",
              "       'passenger_count', 'pickup_longitude', 'pickup_latitude',\n",
              "       'dropoff_longitude', 'dropoff_latitude', 'store_and_fwd_flag',\n",
              "       'trip_duration', 'distance', 'pickup_year', 'pickup_month',\n",
              "       'pickup_date', 'pickup_hour', 'pickup_minute', 'pickup_second',\n",
              "       'pickup_day', 'avg_speed(km/hr)'],\n",
              "      dtype='object')"
            ]
          },
          "metadata": {},
          "execution_count": 31
        }
      ]
    },
    {
      "cell_type": "code",
      "metadata": {
        "colab": {
          "base_uri": "https://localhost:8080/",
          "height": 609
        },
        "id": "_nGq0M74Zvof",
        "outputId": "2f797b03-7af0-4aba-ef9b-f63aa2792def"
      },
      "source": [
        "taxi_data[taxi_data['avg_speed(km/hr)']>180] "
      ],
      "execution_count": null,
      "outputs": [
        {
          "output_type": "execute_result",
          "data": {
            "text/html": [
              "<div>\n",
              "<style scoped>\n",
              "    .dataframe tbody tr th:only-of-type {\n",
              "        vertical-align: middle;\n",
              "    }\n",
              "\n",
              "    .dataframe tbody tr th {\n",
              "        vertical-align: top;\n",
              "    }\n",
              "\n",
              "    .dataframe thead th {\n",
              "        text-align: right;\n",
              "    }\n",
              "</style>\n",
              "<table border=\"1\" class=\"dataframe\">\n",
              "  <thead>\n",
              "    <tr style=\"text-align: right;\">\n",
              "      <th></th>\n",
              "      <th>id</th>\n",
              "      <th>vendor_id</th>\n",
              "      <th>pickup_datetime</th>\n",
              "      <th>dropoff_datetime</th>\n",
              "      <th>passenger_count</th>\n",
              "      <th>pickup_longitude</th>\n",
              "      <th>pickup_latitude</th>\n",
              "      <th>dropoff_longitude</th>\n",
              "      <th>dropoff_latitude</th>\n",
              "      <th>store_and_fwd_flag</th>\n",
              "      <th>trip_duration</th>\n",
              "      <th>distance</th>\n",
              "      <th>pickup_year</th>\n",
              "      <th>pickup_month</th>\n",
              "      <th>pickup_date</th>\n",
              "      <th>pickup_hour</th>\n",
              "      <th>pickup_minute</th>\n",
              "      <th>pickup_second</th>\n",
              "      <th>pickup_day</th>\n",
              "      <th>avg_speed(km/hr)</th>\n",
              "    </tr>\n",
              "  </thead>\n",
              "  <tbody>\n",
              "    <tr>\n",
              "      <th>842</th>\n",
              "      <td>id3263580</td>\n",
              "      <td>2</td>\n",
              "      <td>2016-05-21 12:46:46</td>\n",
              "      <td>2016-05-21 12:46:49</td>\n",
              "      <td>2</td>\n",
              "      <td>-73.782372</td>\n",
              "      <td>40.648766</td>\n",
              "      <td>-73.782372</td>\n",
              "      <td>40.648746</td>\n",
              "      <td>0</td>\n",
              "      <td>3</td>\n",
              "      <td>1.502172</td>\n",
              "      <td>2016</td>\n",
              "      <td>5</td>\n",
              "      <td>21</td>\n",
              "      <td>12</td>\n",
              "      <td>46</td>\n",
              "      <td>46</td>\n",
              "      <td>6</td>\n",
              "      <td>1802.61</td>\n",
              "    </tr>\n",
              "    <tr>\n",
              "      <th>1107</th>\n",
              "      <td>id0729156</td>\n",
              "      <td>2</td>\n",
              "      <td>2016-06-23 13:36:48</td>\n",
              "      <td>2016-06-23 13:36:50</td>\n",
              "      <td>3</td>\n",
              "      <td>-73.827660</td>\n",
              "      <td>40.716175</td>\n",
              "      <td>-73.822113</td>\n",
              "      <td>40.711452</td>\n",
              "      <td>0</td>\n",
              "      <td>2</td>\n",
              "      <td>1.502172</td>\n",
              "      <td>2016</td>\n",
              "      <td>6</td>\n",
              "      <td>23</td>\n",
              "      <td>13</td>\n",
              "      <td>36</td>\n",
              "      <td>48</td>\n",
              "      <td>4</td>\n",
              "      <td>2703.91</td>\n",
              "    </tr>\n",
              "    <tr>\n",
              "      <th>1492</th>\n",
              "      <td>id2456838</td>\n",
              "      <td>1</td>\n",
              "      <td>2016-01-13 20:11:46</td>\n",
              "      <td>2016-01-13 20:11:53</td>\n",
              "      <td>1</td>\n",
              "      <td>-73.793442</td>\n",
              "      <td>40.644814</td>\n",
              "      <td>-73.795242</td>\n",
              "      <td>40.644669</td>\n",
              "      <td>0</td>\n",
              "      <td>7</td>\n",
              "      <td>1.502172</td>\n",
              "      <td>2016</td>\n",
              "      <td>1</td>\n",
              "      <td>13</td>\n",
              "      <td>20</td>\n",
              "      <td>11</td>\n",
              "      <td>46</td>\n",
              "      <td>3</td>\n",
              "      <td>772.55</td>\n",
              "    </tr>\n",
              "    <tr>\n",
              "      <th>1620</th>\n",
              "      <td>id0753277</td>\n",
              "      <td>1</td>\n",
              "      <td>2016-01-27 22:29:31</td>\n",
              "      <td>2016-01-27 22:29:58</td>\n",
              "      <td>1</td>\n",
              "      <td>-74.209854</td>\n",
              "      <td>40.816853</td>\n",
              "      <td>-74.209854</td>\n",
              "      <td>40.816853</td>\n",
              "      <td>0</td>\n",
              "      <td>27</td>\n",
              "      <td>1.502172</td>\n",
              "      <td>2016</td>\n",
              "      <td>1</td>\n",
              "      <td>27</td>\n",
              "      <td>22</td>\n",
              "      <td>29</td>\n",
              "      <td>31</td>\n",
              "      <td>3</td>\n",
              "      <td>200.29</td>\n",
              "    </tr>\n",
              "    <tr>\n",
              "      <th>1728</th>\n",
              "      <td>id2134482</td>\n",
              "      <td>1</td>\n",
              "      <td>2016-01-22 16:13:01</td>\n",
              "      <td>2016-01-22 16:13:20</td>\n",
              "      <td>1</td>\n",
              "      <td>-73.776314</td>\n",
              "      <td>40.645454</td>\n",
              "      <td>-73.776314</td>\n",
              "      <td>40.645454</td>\n",
              "      <td>0</td>\n",
              "      <td>19</td>\n",
              "      <td>1.502172</td>\n",
              "      <td>2016</td>\n",
              "      <td>1</td>\n",
              "      <td>22</td>\n",
              "      <td>16</td>\n",
              "      <td>13</td>\n",
              "      <td>1</td>\n",
              "      <td>5</td>\n",
              "      <td>284.62</td>\n",
              "    </tr>\n",
              "    <tr>\n",
              "      <th>...</th>\n",
              "      <td>...</td>\n",
              "      <td>...</td>\n",
              "      <td>...</td>\n",
              "      <td>...</td>\n",
              "      <td>...</td>\n",
              "      <td>...</td>\n",
              "      <td>...</td>\n",
              "      <td>...</td>\n",
              "      <td>...</td>\n",
              "      <td>...</td>\n",
              "      <td>...</td>\n",
              "      <td>...</td>\n",
              "      <td>...</td>\n",
              "      <td>...</td>\n",
              "      <td>...</td>\n",
              "      <td>...</td>\n",
              "      <td>...</td>\n",
              "      <td>...</td>\n",
              "      <td>...</td>\n",
              "      <td>...</td>\n",
              "    </tr>\n",
              "    <tr>\n",
              "      <th>1457540</th>\n",
              "      <td>id1191995</td>\n",
              "      <td>1</td>\n",
              "      <td>2016-04-27 19:56:25</td>\n",
              "      <td>2016-04-27 19:56:49</td>\n",
              "      <td>2</td>\n",
              "      <td>-74.006447</td>\n",
              "      <td>40.782356</td>\n",
              "      <td>-74.006332</td>\n",
              "      <td>40.782333</td>\n",
              "      <td>0</td>\n",
              "      <td>24</td>\n",
              "      <td>1.502172</td>\n",
              "      <td>2016</td>\n",
              "      <td>4</td>\n",
              "      <td>27</td>\n",
              "      <td>19</td>\n",
              "      <td>56</td>\n",
              "      <td>25</td>\n",
              "      <td>3</td>\n",
              "      <td>225.33</td>\n",
              "    </tr>\n",
              "    <tr>\n",
              "      <th>1457746</th>\n",
              "      <td>id1044471</td>\n",
              "      <td>2</td>\n",
              "      <td>2016-01-29 21:58:11</td>\n",
              "      <td>2016-01-29 21:58:23</td>\n",
              "      <td>1</td>\n",
              "      <td>-73.975708</td>\n",
              "      <td>40.733089</td>\n",
              "      <td>-73.975685</td>\n",
              "      <td>40.733101</td>\n",
              "      <td>0</td>\n",
              "      <td>12</td>\n",
              "      <td>1.502172</td>\n",
              "      <td>2016</td>\n",
              "      <td>1</td>\n",
              "      <td>29</td>\n",
              "      <td>21</td>\n",
              "      <td>58</td>\n",
              "      <td>11</td>\n",
              "      <td>5</td>\n",
              "      <td>450.65</td>\n",
              "    </tr>\n",
              "    <tr>\n",
              "      <th>1458044</th>\n",
              "      <td>id3200588</td>\n",
              "      <td>2</td>\n",
              "      <td>2016-03-12 01:35:35</td>\n",
              "      <td>2016-03-12 01:35:42</td>\n",
              "      <td>1</td>\n",
              "      <td>-74.007378</td>\n",
              "      <td>40.739441</td>\n",
              "      <td>-74.007378</td>\n",
              "      <td>40.739449</td>\n",
              "      <td>0</td>\n",
              "      <td>7</td>\n",
              "      <td>1.502172</td>\n",
              "      <td>2016</td>\n",
              "      <td>3</td>\n",
              "      <td>12</td>\n",
              "      <td>1</td>\n",
              "      <td>35</td>\n",
              "      <td>35</td>\n",
              "      <td>6</td>\n",
              "      <td>772.55</td>\n",
              "    </tr>\n",
              "    <tr>\n",
              "      <th>1458085</th>\n",
              "      <td>id1326136</td>\n",
              "      <td>2</td>\n",
              "      <td>2016-05-21 12:07:11</td>\n",
              "      <td>2016-05-21 12:07:28</td>\n",
              "      <td>1</td>\n",
              "      <td>-73.978935</td>\n",
              "      <td>40.762463</td>\n",
              "      <td>-73.977654</td>\n",
              "      <td>40.762012</td>\n",
              "      <td>0</td>\n",
              "      <td>17</td>\n",
              "      <td>1.502172</td>\n",
              "      <td>2016</td>\n",
              "      <td>5</td>\n",
              "      <td>21</td>\n",
              "      <td>12</td>\n",
              "      <td>7</td>\n",
              "      <td>11</td>\n",
              "      <td>6</td>\n",
              "      <td>318.11</td>\n",
              "    </tr>\n",
              "    <tr>\n",
              "      <th>1458602</th>\n",
              "      <td>id2089150</td>\n",
              "      <td>1</td>\n",
              "      <td>2016-05-30 14:42:12</td>\n",
              "      <td>2016-05-30 14:42:38</td>\n",
              "      <td>1</td>\n",
              "      <td>-74.015457</td>\n",
              "      <td>40.708027</td>\n",
              "      <td>-74.015396</td>\n",
              "      <td>40.708138</td>\n",
              "      <td>0</td>\n",
              "      <td>26</td>\n",
              "      <td>1.502172</td>\n",
              "      <td>2016</td>\n",
              "      <td>5</td>\n",
              "      <td>30</td>\n",
              "      <td>14</td>\n",
              "      <td>42</td>\n",
              "      <td>12</td>\n",
              "      <td>1</td>\n",
              "      <td>207.99</td>\n",
              "    </tr>\n",
              "  </tbody>\n",
              "</table>\n",
              "<p>4890 rows × 20 columns</p>\n",
              "</div>"
            ],
            "text/plain": [
              "                id  vendor_id  ... pickup_day avg_speed(km/hr)\n",
              "842      id3263580          2  ...          6          1802.61\n",
              "1107     id0729156          2  ...          4          2703.91\n",
              "1492     id2456838          1  ...          3           772.55\n",
              "1620     id0753277          1  ...          3           200.29\n",
              "1728     id2134482          1  ...          5           284.62\n",
              "...            ...        ...  ...        ...              ...\n",
              "1457540  id1191995          1  ...          3           225.33\n",
              "1457746  id1044471          2  ...          5           450.65\n",
              "1458044  id3200588          2  ...          6           772.55\n",
              "1458085  id1326136          2  ...          6           318.11\n",
              "1458602  id2089150          1  ...          1           207.99\n",
              "\n",
              "[4890 rows x 20 columns]"
            ]
          },
          "metadata": {},
          "execution_count": 32
        }
      ]
    },
    {
      "cell_type": "markdown",
      "metadata": {
        "id": "1INBN2K6yk1p"
      },
      "source": [
        "some average speed was too much , like 250 km/hour, which was practically impossible , we will analyse the trip duration. "
      ]
    },
    {
      "cell_type": "markdown",
      "metadata": {
        "id": "vYubUag9yFFX"
      },
      "source": [
        "we can see here that trip duration was so small , which was practically impossible, so we exclude rows of those, whose trip duration which was less than 30 seconds and which average speed was more than 180 km"
      ]
    },
    {
      "cell_type": "code",
      "metadata": {
        "id": "u507H7IEyg_p"
      },
      "source": [
        "taxi_data= taxi_data[taxi_data['avg_speed(km/hr)']<180]"
      ],
      "execution_count": null,
      "outputs": []
    },
    {
      "cell_type": "code",
      "metadata": {
        "id": "_KdjMgSVe8BY"
      },
      "source": [
        "taxi_data=taxi_data[taxi_data['trip_duration']>30]"
      ],
      "execution_count": null,
      "outputs": []
    },
    {
      "cell_type": "code",
      "metadata": {
        "colab": {
          "base_uri": "https://localhost:8080/",
          "height": 309
        },
        "id": "zJa7Xuxf1mrk",
        "outputId": "72b98d29-671c-4eee-892d-c5e0fef66e53"
      },
      "source": [
        "taxi_data.head()"
      ],
      "execution_count": null,
      "outputs": [
        {
          "output_type": "execute_result",
          "data": {
            "text/html": [
              "<div>\n",
              "<style scoped>\n",
              "    .dataframe tbody tr th:only-of-type {\n",
              "        vertical-align: middle;\n",
              "    }\n",
              "\n",
              "    .dataframe tbody tr th {\n",
              "        vertical-align: top;\n",
              "    }\n",
              "\n",
              "    .dataframe thead th {\n",
              "        text-align: right;\n",
              "    }\n",
              "</style>\n",
              "<table border=\"1\" class=\"dataframe\">\n",
              "  <thead>\n",
              "    <tr style=\"text-align: right;\">\n",
              "      <th></th>\n",
              "      <th>id</th>\n",
              "      <th>vendor_id</th>\n",
              "      <th>pickup_datetime</th>\n",
              "      <th>dropoff_datetime</th>\n",
              "      <th>passenger_count</th>\n",
              "      <th>pickup_longitude</th>\n",
              "      <th>pickup_latitude</th>\n",
              "      <th>dropoff_longitude</th>\n",
              "      <th>dropoff_latitude</th>\n",
              "      <th>store_and_fwd_flag</th>\n",
              "      <th>trip_duration</th>\n",
              "      <th>distance</th>\n",
              "      <th>pickup_year</th>\n",
              "      <th>pickup_month</th>\n",
              "      <th>pickup_date</th>\n",
              "      <th>pickup_hour</th>\n",
              "      <th>pickup_minute</th>\n",
              "      <th>pickup_second</th>\n",
              "      <th>pickup_day</th>\n",
              "      <th>avg_speed(km/hr)</th>\n",
              "    </tr>\n",
              "  </thead>\n",
              "  <tbody>\n",
              "    <tr>\n",
              "      <th>0</th>\n",
              "      <td>id2875421</td>\n",
              "      <td>2</td>\n",
              "      <td>2016-03-14 17:24:55</td>\n",
              "      <td>2016-03-14 17:32:30</td>\n",
              "      <td>1</td>\n",
              "      <td>-73.982155</td>\n",
              "      <td>40.767937</td>\n",
              "      <td>-73.964630</td>\n",
              "      <td>40.765602</td>\n",
              "      <td>0</td>\n",
              "      <td>455</td>\n",
              "      <td>1.502172</td>\n",
              "      <td>2016</td>\n",
              "      <td>3</td>\n",
              "      <td>14</td>\n",
              "      <td>17</td>\n",
              "      <td>24</td>\n",
              "      <td>55</td>\n",
              "      <td>1</td>\n",
              "      <td>11.89</td>\n",
              "    </tr>\n",
              "    <tr>\n",
              "      <th>1</th>\n",
              "      <td>id2377394</td>\n",
              "      <td>1</td>\n",
              "      <td>2016-06-12 00:43:35</td>\n",
              "      <td>2016-06-12 00:54:38</td>\n",
              "      <td>1</td>\n",
              "      <td>-73.980415</td>\n",
              "      <td>40.738564</td>\n",
              "      <td>-73.999481</td>\n",
              "      <td>40.731152</td>\n",
              "      <td>0</td>\n",
              "      <td>663</td>\n",
              "      <td>1.502172</td>\n",
              "      <td>2016</td>\n",
              "      <td>6</td>\n",
              "      <td>12</td>\n",
              "      <td>0</td>\n",
              "      <td>43</td>\n",
              "      <td>35</td>\n",
              "      <td>7</td>\n",
              "      <td>8.16</td>\n",
              "    </tr>\n",
              "    <tr>\n",
              "      <th>2</th>\n",
              "      <td>id3858529</td>\n",
              "      <td>2</td>\n",
              "      <td>2016-01-19 11:35:24</td>\n",
              "      <td>2016-01-19 12:10:48</td>\n",
              "      <td>1</td>\n",
              "      <td>-73.979027</td>\n",
              "      <td>40.763939</td>\n",
              "      <td>-74.005333</td>\n",
              "      <td>40.710087</td>\n",
              "      <td>0</td>\n",
              "      <td>2124</td>\n",
              "      <td>1.502172</td>\n",
              "      <td>2016</td>\n",
              "      <td>1</td>\n",
              "      <td>19</td>\n",
              "      <td>11</td>\n",
              "      <td>35</td>\n",
              "      <td>24</td>\n",
              "      <td>4</td>\n",
              "      <td>2.55</td>\n",
              "    </tr>\n",
              "    <tr>\n",
              "      <th>3</th>\n",
              "      <td>id3504673</td>\n",
              "      <td>2</td>\n",
              "      <td>2016-04-06 19:32:31</td>\n",
              "      <td>2016-04-06 19:39:40</td>\n",
              "      <td>1</td>\n",
              "      <td>-74.010040</td>\n",
              "      <td>40.719971</td>\n",
              "      <td>-74.012268</td>\n",
              "      <td>40.706718</td>\n",
              "      <td>0</td>\n",
              "      <td>429</td>\n",
              "      <td>1.502172</td>\n",
              "      <td>2016</td>\n",
              "      <td>4</td>\n",
              "      <td>6</td>\n",
              "      <td>19</td>\n",
              "      <td>32</td>\n",
              "      <td>31</td>\n",
              "      <td>3</td>\n",
              "      <td>12.61</td>\n",
              "    </tr>\n",
              "    <tr>\n",
              "      <th>4</th>\n",
              "      <td>id2181028</td>\n",
              "      <td>2</td>\n",
              "      <td>2016-03-26 13:30:55</td>\n",
              "      <td>2016-03-26 13:38:10</td>\n",
              "      <td>1</td>\n",
              "      <td>-73.973053</td>\n",
              "      <td>40.793209</td>\n",
              "      <td>-73.972923</td>\n",
              "      <td>40.782520</td>\n",
              "      <td>0</td>\n",
              "      <td>435</td>\n",
              "      <td>1.502172</td>\n",
              "      <td>2016</td>\n",
              "      <td>3</td>\n",
              "      <td>26</td>\n",
              "      <td>13</td>\n",
              "      <td>30</td>\n",
              "      <td>55</td>\n",
              "      <td>6</td>\n",
              "      <td>12.43</td>\n",
              "    </tr>\n",
              "  </tbody>\n",
              "</table>\n",
              "</div>"
            ],
            "text/plain": [
              "          id  vendor_id  ... pickup_day avg_speed(km/hr)\n",
              "0  id2875421          2  ...          1            11.89\n",
              "1  id2377394          1  ...          7             8.16\n",
              "2  id3858529          2  ...          4             2.55\n",
              "3  id3504673          2  ...          3            12.61\n",
              "4  id2181028          2  ...          6            12.43\n",
              "\n",
              "[5 rows x 20 columns]"
            ]
          },
          "metadata": {},
          "execution_count": 35
        }
      ]
    },
    {
      "cell_type": "code",
      "metadata": {
        "id": "l8gWP5OlZLYv",
        "colab": {
          "base_uri": "https://localhost:8080/",
          "height": 394
        },
        "outputId": "c9e25b3a-355c-40cd-8ddf-1e81f5d1583c"
      },
      "source": [
        "plt.figure(figsize=(12, 6))\n",
        "taxi_data.boxplot(column='avg_speed(km/hr)')"
      ],
      "execution_count": null,
      "outputs": [
        {
          "output_type": "execute_result",
          "data": {
            "text/plain": [
              "<matplotlib.axes._subplots.AxesSubplot at 0x7fdb6d9f8850>"
            ]
          },
          "metadata": {},
          "execution_count": 36
        },
        {
          "output_type": "display_data",
          "data": {
            "image/png": "[encoded data removed]",
            "text/plain": [
              "<Figure size 864x432 with 1 Axes>"
            ]
          },
          "metadata": {}
        }
      ]
    },
    {
      "cell_type": "markdown",
      "metadata": {
        "id": "nuoGz3Rv8vaU"
      },
      "source": [
        "outlier detection, "
      ]
    },
    {
      "cell_type": "code",
      "metadata": {
        "id": "AC5B2tdf8est",
        "colab": {
          "base_uri": "https://localhost:8080/",
          "height": 405
        },
        "outputId": "a82b28ee-8ebd-4713-8e17-c8120ca13090"
      },
      "source": [
        "plt.figure(figsize=(12, 6))\n",
        "taxi_data.boxplot(column='trip_duration')"
      ],
      "execution_count": null,
      "outputs": [
        {
          "output_type": "execute_result",
          "data": {
            "text/plain": [
              "<matplotlib.axes._subplots.AxesSubplot at 0x7fdb6d9616d0>"
            ]
          },
          "metadata": {},
          "execution_count": 37
        },
        {
          "output_type": "display_data",
          "data": {
            "image/png": "[encoded data removed]",
            "text/plain": [
              "<Figure size 864x432 with 1 Axes>"
            ]
          },
          "metadata": {}
        }
      ]
    },
    {
      "cell_type": "markdown",
      "metadata": {
        "id": "gdgD1Z8782DT"
      },
      "source": [
        "In trip duration, there are some of the outliers. so we will see which of duration is more than one day. "
      ]
    },
    {
      "cell_type": "code",
      "metadata": {
        "colab": {
          "base_uri": "https://localhost:8080/",
          "height": 367
        },
        "id": "09BANJGliljg",
        "outputId": "1c00abb4-d663-4880-a4f1-29857ba82967"
      },
      "source": [
        "sns.distplot(\n",
        "    taxi_data['trip_duration']\n",
        "    )"
      ],
      "execution_count": null,
      "outputs": [
        {
          "output_type": "stream",
          "name": "stderr",
          "text": [
            "/usr/local/lib/python3.7/dist-packages/seaborn/distributions.py:2619: FutureWarning: `distplot` is a deprecated function and will be removed in a future version. Please adapt your code to use either `displot` (a figure-level function with similar flexibility) or `histplot` (an axes-level function for histograms).\n",
            "  warnings.warn(msg, FutureWarning)\n"
          ]
        },
        {
          "output_type": "execute_result",
          "data": {
            "text/plain": [
              "<matplotlib.axes._subplots.AxesSubplot at 0x7fdb6d8d1990>"
            ]
          },
          "metadata": {},
          "execution_count": 38
        },
        {
          "output_type": "display_data",
          "data": {
            "image/png": "[encoded data removed]",
            "text/plain": [
              "<Figure size 432x288 with 1 Axes>"
            ]
          },
          "metadata": {}
        }
      ]
    },
    {
      "cell_type": "code",
      "metadata": {
        "id": "rUiGlBAv96Zo",
        "colab": {
          "base_uri": "https://localhost:8080/",
          "height": 261
        },
        "outputId": "720f11ad-2194-4dfb-ac00-eaa83604d909"
      },
      "source": [
        "# Outliers detection \n",
        "taxi_data[taxi_data.trip_duration>86400]"
      ],
      "execution_count": null,
      "outputs": [
        {
          "output_type": "execute_result",
          "data": {
            "text/html": [
              "<div>\n",
              "<style scoped>\n",
              "    .dataframe tbody tr th:only-of-type {\n",
              "        vertical-align: middle;\n",
              "    }\n",
              "\n",
              "    .dataframe tbody tr th {\n",
              "        vertical-align: top;\n",
              "    }\n",
              "\n",
              "    .dataframe thead th {\n",
              "        text-align: right;\n",
              "    }\n",
              "</style>\n",
              "<table border=\"1\" class=\"dataframe\">\n",
              "  <thead>\n",
              "    <tr style=\"text-align: right;\">\n",
              "      <th></th>\n",
              "      <th>id</th>\n",
              "      <th>vendor_id</th>\n",
              "      <th>pickup_datetime</th>\n",
              "      <th>dropoff_datetime</th>\n",
              "      <th>passenger_count</th>\n",
              "      <th>pickup_longitude</th>\n",
              "      <th>pickup_latitude</th>\n",
              "      <th>dropoff_longitude</th>\n",
              "      <th>dropoff_latitude</th>\n",
              "      <th>store_and_fwd_flag</th>\n",
              "      <th>trip_duration</th>\n",
              "      <th>distance</th>\n",
              "      <th>pickup_year</th>\n",
              "      <th>pickup_month</th>\n",
              "      <th>pickup_date</th>\n",
              "      <th>pickup_hour</th>\n",
              "      <th>pickup_minute</th>\n",
              "      <th>pickup_second</th>\n",
              "      <th>pickup_day</th>\n",
              "      <th>avg_speed(km/hr)</th>\n",
              "    </tr>\n",
              "  </thead>\n",
              "  <tbody>\n",
              "    <tr>\n",
              "      <th>355003</th>\n",
              "      <td>id1864733</td>\n",
              "      <td>1</td>\n",
              "      <td>2016-01-05 00:19:42</td>\n",
              "      <td>2016-01-27 11:08:38</td>\n",
              "      <td>1</td>\n",
              "      <td>-73.789650</td>\n",
              "      <td>40.643559</td>\n",
              "      <td>-73.956810</td>\n",
              "      <td>40.773087</td>\n",
              "      <td>0</td>\n",
              "      <td>1939736</td>\n",
              "      <td>1.502172</td>\n",
              "      <td>2016</td>\n",
              "      <td>1</td>\n",
              "      <td>5</td>\n",
              "      <td>0</td>\n",
              "      <td>19</td>\n",
              "      <td>42</td>\n",
              "      <td>4</td>\n",
              "      <td>0.0</td>\n",
              "    </tr>\n",
              "    <tr>\n",
              "      <th>680594</th>\n",
              "      <td>id0369307</td>\n",
              "      <td>1</td>\n",
              "      <td>2016-02-13 22:38:00</td>\n",
              "      <td>2016-03-08 15:57:38</td>\n",
              "      <td>2</td>\n",
              "      <td>-73.921677</td>\n",
              "      <td>40.735252</td>\n",
              "      <td>-73.984749</td>\n",
              "      <td>40.759979</td>\n",
              "      <td>0</td>\n",
              "      <td>2049578</td>\n",
              "      <td>1.502172</td>\n",
              "      <td>2016</td>\n",
              "      <td>2</td>\n",
              "      <td>13</td>\n",
              "      <td>22</td>\n",
              "      <td>38</td>\n",
              "      <td>0</td>\n",
              "      <td>6</td>\n",
              "      <td>0.0</td>\n",
              "    </tr>\n",
              "    <tr>\n",
              "      <th>924150</th>\n",
              "      <td>id1325766</td>\n",
              "      <td>1</td>\n",
              "      <td>2016-01-05 06:14:15</td>\n",
              "      <td>2016-01-31 01:01:07</td>\n",
              "      <td>1</td>\n",
              "      <td>-73.983788</td>\n",
              "      <td>40.742325</td>\n",
              "      <td>-73.985489</td>\n",
              "      <td>40.727676</td>\n",
              "      <td>0</td>\n",
              "      <td>2227612</td>\n",
              "      <td>1.502172</td>\n",
              "      <td>2016</td>\n",
              "      <td>1</td>\n",
              "      <td>5</td>\n",
              "      <td>6</td>\n",
              "      <td>14</td>\n",
              "      <td>15</td>\n",
              "      <td>4</td>\n",
              "      <td>0.0</td>\n",
              "    </tr>\n",
              "    <tr>\n",
              "      <th>978383</th>\n",
              "      <td>id0053347</td>\n",
              "      <td>1</td>\n",
              "      <td>2016-02-13 22:46:52</td>\n",
              "      <td>2016-03-25 18:18:14</td>\n",
              "      <td>1</td>\n",
              "      <td>-73.783905</td>\n",
              "      <td>40.648632</td>\n",
              "      <td>-73.978271</td>\n",
              "      <td>40.750202</td>\n",
              "      <td>0</td>\n",
              "      <td>3526282</td>\n",
              "      <td>1.502172</td>\n",
              "      <td>2016</td>\n",
              "      <td>2</td>\n",
              "      <td>13</td>\n",
              "      <td>22</td>\n",
              "      <td>46</td>\n",
              "      <td>52</td>\n",
              "      <td>6</td>\n",
              "      <td>0.0</td>\n",
              "    </tr>\n",
              "  </tbody>\n",
              "</table>\n",
              "</div>"
            ],
            "text/plain": [
              "               id  vendor_id  ... pickup_day avg_speed(km/hr)\n",
              "355003  id1864733          1  ...          4              0.0\n",
              "680594  id0369307          1  ...          6              0.0\n",
              "924150  id1325766          1  ...          4              0.0\n",
              "978383  id0053347          1  ...          6              0.0\n",
              "\n",
              "[4 rows x 20 columns]"
            ]
          },
          "metadata": {},
          "execution_count": 39
        }
      ]
    },
    {
      "cell_type": "markdown",
      "metadata": {
        "id": "zJjsQMnv-QCw"
      },
      "source": [
        "we can see some of these duratin are several days , so we use Log transformation of the trip duration results in a normal distribution."
      ]
    },
    {
      "cell_type": "code",
      "metadata": {
        "colab": {
          "base_uri": "https://localhost:8080/",
          "height": 405
        },
        "id": "O5LKC4ECAO8a",
        "outputId": "efcd7182-424b-413c-8ff4-ead8e8a851b5"
      },
      "source": [
        "plt.figure(figsize=(12, 6))\n",
        "taxi_data.boxplot(column='trip_duration')"
      ],
      "execution_count": null,
      "outputs": [
        {
          "output_type": "execute_result",
          "data": {
            "text/plain": [
              "<matplotlib.axes._subplots.AxesSubplot at 0x7fdb6d892e10>"
            ]
          },
          "metadata": {},
          "execution_count": 40
        },
        {
          "output_type": "display_data",
          "data": {
            "image/png": "[encoded data removed]",
            "text/plain": [
              "<Figure size 864x432 with 1 Axes>"
            ]
          },
          "metadata": {}
        }
      ]
    },
    {
      "cell_type": "code",
      "metadata": {
        "colab": {
          "base_uri": "https://localhost:8080/",
          "height": 426
        },
        "id": "Mk2b7ugN197d",
        "outputId": "2643465e-e168-4d7f-8675-6be1b4d6fb1e"
      },
      "source": [
        "#log transformation\n",
        "f, ax = plt.subplots(figsize=(10, 5))\n",
        "sns.despine(f)\n",
        "sns.distplot(\n",
        "    np.log10(taxi_data['trip_duration']))\n",
        "plt.title(\"Distribution of trip duration (sec) in Log Scale\")"
      ],
      "execution_count": null,
      "outputs": [
        {
          "output_type": "stream",
          "name": "stderr",
          "text": [
            "/usr/local/lib/python3.7/dist-packages/seaborn/distributions.py:2619: FutureWarning: `distplot` is a deprecated function and will be removed in a future version. Please adapt your code to use either `displot` (a figure-level function with similar flexibility) or `histplot` (an axes-level function for histograms).\n",
            "  warnings.warn(msg, FutureWarning)\n"
          ]
        },
        {
          "output_type": "execute_result",
          "data": {
            "text/plain": [
              "Text(0.5, 1.0, 'Distribution of trip duration (sec) in Log Scale')"
            ]
          },
          "metadata": {},
          "execution_count": 41
        },
        {
          "output_type": "display_data",
          "data": {
            "image/png": "[encoded data removed]",
            "text/plain": [
              "<Figure size 720x360 with 1 Axes>"
            ]
          },
          "metadata": {}
        }
      ]
    },
    {
      "cell_type": "code",
      "metadata": {
        "colab": {
          "base_uri": "https://localhost:8080/",
          "height": 317
        },
        "id": "hvdCXiwUDTSo",
        "outputId": "3d59868f-0b65-47bb-f74a-df3f7fd4da94"
      },
      "source": [
        "taxi_data.describe()"
      ],
      "execution_count": null,
      "outputs": [
        {
          "output_type": "execute_result",
          "data": {
            "text/html": [
              "<div>\n",
              "<style scoped>\n",
              "    .dataframe tbody tr th:only-of-type {\n",
              "        vertical-align: middle;\n",
              "    }\n",
              "\n",
              "    .dataframe tbody tr th {\n",
              "        vertical-align: top;\n",
              "    }\n",
              "\n",
              "    .dataframe thead th {\n",
              "        text-align: right;\n",
              "    }\n",
              "</style>\n",
              "<table border=\"1\" class=\"dataframe\">\n",
              "  <thead>\n",
              "    <tr style=\"text-align: right;\">\n",
              "      <th></th>\n",
              "      <th>vendor_id</th>\n",
              "      <th>passenger_count</th>\n",
              "      <th>pickup_longitude</th>\n",
              "      <th>pickup_latitude</th>\n",
              "      <th>dropoff_longitude</th>\n",
              "      <th>dropoff_latitude</th>\n",
              "      <th>store_and_fwd_flag</th>\n",
              "      <th>trip_duration</th>\n",
              "      <th>distance</th>\n",
              "      <th>pickup_year</th>\n",
              "      <th>pickup_month</th>\n",
              "      <th>pickup_date</th>\n",
              "      <th>pickup_hour</th>\n",
              "      <th>pickup_minute</th>\n",
              "      <th>pickup_second</th>\n",
              "      <th>pickup_day</th>\n",
              "      <th>avg_speed(km/hr)</th>\n",
              "    </tr>\n",
              "  </thead>\n",
              "  <tbody>\n",
              "    <tr>\n",
              "      <th>count</th>\n",
              "      <td>1.453754e+06</td>\n",
              "      <td>1.453754e+06</td>\n",
              "      <td>1.453754e+06</td>\n",
              "      <td>1.453754e+06</td>\n",
              "      <td>1.453754e+06</td>\n",
              "      <td>1.453754e+06</td>\n",
              "      <td>1.453754e+06</td>\n",
              "      <td>1.453754e+06</td>\n",
              "      <td>1.453754e+06</td>\n",
              "      <td>1453754.0</td>\n",
              "      <td>1.453754e+06</td>\n",
              "      <td>1.453754e+06</td>\n",
              "      <td>1.453754e+06</td>\n",
              "      <td>1.453754e+06</td>\n",
              "      <td>1.453754e+06</td>\n",
              "      <td>1.453754e+06</td>\n",
              "      <td>1.453754e+06</td>\n",
              "    </tr>\n",
              "    <tr>\n",
              "      <th>mean</th>\n",
              "      <td>1.535506e+00</td>\n",
              "      <td>1.665588e+00</td>\n",
              "      <td>-7.397359e+01</td>\n",
              "      <td>4.075097e+01</td>\n",
              "      <td>-7.397352e+01</td>\n",
              "      <td>4.075185e+01</td>\n",
              "      <td>5.469288e-03</td>\n",
              "      <td>9.626739e+02</td>\n",
              "      <td>1.502172e+00</td>\n",
              "      <td>2016.0</td>\n",
              "      <td>3.516618e+00</td>\n",
              "      <td>1.550372e+01</td>\n",
              "      <td>1.360905e+01</td>\n",
              "      <td>2.959175e+01</td>\n",
              "      <td>2.947344e+01</td>\n",
              "      <td>4.328214e+00</td>\n",
              "      <td>1.119911e+01</td>\n",
              "    </tr>\n",
              "    <tr>\n",
              "      <th>std</th>\n",
              "      <td>4.987379e-01</td>\n",
              "      <td>1.315093e+00</td>\n",
              "      <td>7.077490e-02</td>\n",
              "      <td>3.274119e-02</td>\n",
              "      <td>7.051487e-02</td>\n",
              "      <td>3.577066e-02</td>\n",
              "      <td>7.375215e-02</td>\n",
              "      <td>5.245945e+03</td>\n",
              "      <td>4.510704e-11</td>\n",
              "      <td>0.0</td>\n",
              "      <td>1.681022e+00</td>\n",
              "      <td>8.703442e+00</td>\n",
              "      <td>6.398809e+00</td>\n",
              "      <td>1.732457e+01</td>\n",
              "      <td>1.731987e+01</td>\n",
              "      <td>1.776650e+00</td>\n",
              "      <td>1.106863e+01</td>\n",
              "    </tr>\n",
              "    <tr>\n",
              "      <th>min</th>\n",
              "      <td>1.000000e+00</td>\n",
              "      <td>0.000000e+00</td>\n",
              "      <td>-1.219333e+02</td>\n",
              "      <td>3.435970e+01</td>\n",
              "      <td>-1.219333e+02</td>\n",
              "      <td>3.218114e+01</td>\n",
              "      <td>0.000000e+00</td>\n",
              "      <td>3.100000e+01</td>\n",
              "      <td>1.502172e+00</td>\n",
              "      <td>2016.0</td>\n",
              "      <td>1.000000e+00</td>\n",
              "      <td>1.000000e+00</td>\n",
              "      <td>0.000000e+00</td>\n",
              "      <td>0.000000e+00</td>\n",
              "      <td>0.000000e+00</td>\n",
              "      <td>1.000000e+00</td>\n",
              "      <td>0.000000e+00</td>\n",
              "    </tr>\n",
              "    <tr>\n",
              "      <th>25%</th>\n",
              "      <td>1.000000e+00</td>\n",
              "      <td>1.000000e+00</td>\n",
              "      <td>-7.399187e+01</td>\n",
              "      <td>4.073740e+01</td>\n",
              "      <td>-7.399133e+01</td>\n",
              "      <td>4.073594e+01</td>\n",
              "      <td>0.000000e+00</td>\n",
              "      <td>3.990000e+02</td>\n",
              "      <td>1.502172e+00</td>\n",
              "      <td>2016.0</td>\n",
              "      <td>2.000000e+00</td>\n",
              "      <td>8.000000e+00</td>\n",
              "      <td>9.000000e+00</td>\n",
              "      <td>1.500000e+01</td>\n",
              "      <td>1.400000e+01</td>\n",
              "      <td>3.000000e+00</td>\n",
              "      <td>5.020000e+00</td>\n",
              "    </tr>\n",
              "    <tr>\n",
              "      <th>50%</th>\n",
              "      <td>2.000000e+00</td>\n",
              "      <td>1.000000e+00</td>\n",
              "      <td>-7.398176e+01</td>\n",
              "      <td>4.075413e+01</td>\n",
              "      <td>-7.397977e+01</td>\n",
              "      <td>4.075455e+01</td>\n",
              "      <td>0.000000e+00</td>\n",
              "      <td>6.640000e+02</td>\n",
              "      <td>1.502172e+00</td>\n",
              "      <td>2016.0</td>\n",
              "      <td>4.000000e+00</td>\n",
              "      <td>1.500000e+01</td>\n",
              "      <td>1.400000e+01</td>\n",
              "      <td>3.000000e+01</td>\n",
              "      <td>2.900000e+01</td>\n",
              "      <td>4.000000e+00</td>\n",
              "      <td>8.140000e+00</td>\n",
              "    </tr>\n",
              "    <tr>\n",
              "      <th>75%</th>\n",
              "      <td>2.000000e+00</td>\n",
              "      <td>2.000000e+00</td>\n",
              "      <td>-7.396740e+01</td>\n",
              "      <td>4.076837e+01</td>\n",
              "      <td>-7.396308e+01</td>\n",
              "      <td>4.076983e+01</td>\n",
              "      <td>0.000000e+00</td>\n",
              "      <td>1.077000e+03</td>\n",
              "      <td>1.502172e+00</td>\n",
              "      <td>2016.0</td>\n",
              "      <td>5.000000e+00</td>\n",
              "      <td>2.300000e+01</td>\n",
              "      <td>1.900000e+01</td>\n",
              "      <td>4.500000e+01</td>\n",
              "      <td>4.400000e+01</td>\n",
              "      <td>6.000000e+00</td>\n",
              "      <td>1.355000e+01</td>\n",
              "    </tr>\n",
              "    <tr>\n",
              "      <th>max</th>\n",
              "      <td>2.000000e+00</td>\n",
              "      <td>9.000000e+00</td>\n",
              "      <td>-6.133553e+01</td>\n",
              "      <td>5.188108e+01</td>\n",
              "      <td>-6.133553e+01</td>\n",
              "      <td>4.392103e+01</td>\n",
              "      <td>1.000000e+00</td>\n",
              "      <td>3.526282e+06</td>\n",
              "      <td>1.502172e+00</td>\n",
              "      <td>2016.0</td>\n",
              "      <td>6.000000e+00</td>\n",
              "      <td>3.100000e+01</td>\n",
              "      <td>2.300000e+01</td>\n",
              "      <td>5.900000e+01</td>\n",
              "      <td>5.900000e+01</td>\n",
              "      <td>7.000000e+00</td>\n",
              "      <td>1.744500e+02</td>\n",
              "    </tr>\n",
              "  </tbody>\n",
              "</table>\n",
              "</div>"
            ],
            "text/plain": [
              "          vendor_id  passenger_count  ...    pickup_day  avg_speed(km/hr)\n",
              "count  1.453754e+06     1.453754e+06  ...  1.453754e+06      1.453754e+06\n",
              "mean   1.535506e+00     1.665588e+00  ...  4.328214e+00      1.119911e+01\n",
              "std    4.987379e-01     1.315093e+00  ...  1.776650e+00      1.106863e+01\n",
              "min    1.000000e+00     0.000000e+00  ...  1.000000e+00      0.000000e+00\n",
              "25%    1.000000e+00     1.000000e+00  ...  3.000000e+00      5.020000e+00\n",
              "50%    2.000000e+00     1.000000e+00  ...  4.000000e+00      8.140000e+00\n",
              "75%    2.000000e+00     2.000000e+00  ...  6.000000e+00      1.355000e+01\n",
              "max    2.000000e+00     9.000000e+00  ...  7.000000e+00      1.744500e+02\n",
              "\n",
              "[8 rows x 17 columns]"
            ]
          },
          "metadata": {},
          "execution_count": 42
        }
      ]
    },
    {
      "cell_type": "code",
      "metadata": {
        "colab": {
          "base_uri": "https://localhost:8080/",
          "height": 309
        },
        "id": "WGUI_56aKIcv",
        "outputId": "80dc0bfd-915e-4f4c-ba5c-d0fb735e15e2"
      },
      "source": [
        "taxi_data.head()"
      ],
      "execution_count": null,
      "outputs": [
        {
          "output_type": "execute_result",
          "data": {
            "text/html": [
              "<div>\n",
              "<style scoped>\n",
              "    .dataframe tbody tr th:only-of-type {\n",
              "        vertical-align: middle;\n",
              "    }\n",
              "\n",
              "    .dataframe tbody tr th {\n",
              "        vertical-align: top;\n",
              "    }\n",
              "\n",
              "    .dataframe thead th {\n",
              "        text-align: right;\n",
              "    }\n",
              "</style>\n",
              "<table border=\"1\" class=\"dataframe\">\n",
              "  <thead>\n",
              "    <tr style=\"text-align: right;\">\n",
              "      <th></th>\n",
              "      <th>id</th>\n",
              "      <th>vendor_id</th>\n",
              "      <th>pickup_datetime</th>\n",
              "      <th>dropoff_datetime</th>\n",
              "      <th>passenger_count</th>\n",
              "      <th>pickup_longitude</th>\n",
              "      <th>pickup_latitude</th>\n",
              "      <th>dropoff_longitude</th>\n",
              "      <th>dropoff_latitude</th>\n",
              "      <th>store_and_fwd_flag</th>\n",
              "      <th>trip_duration</th>\n",
              "      <th>distance</th>\n",
              "      <th>pickup_year</th>\n",
              "      <th>pickup_month</th>\n",
              "      <th>pickup_date</th>\n",
              "      <th>pickup_hour</th>\n",
              "      <th>pickup_minute</th>\n",
              "      <th>pickup_second</th>\n",
              "      <th>pickup_day</th>\n",
              "      <th>avg_speed(km/hr)</th>\n",
              "    </tr>\n",
              "  </thead>\n",
              "  <tbody>\n",
              "    <tr>\n",
              "      <th>0</th>\n",
              "      <td>id2875421</td>\n",
              "      <td>2</td>\n",
              "      <td>2016-03-14 17:24:55</td>\n",
              "      <td>2016-03-14 17:32:30</td>\n",
              "      <td>1</td>\n",
              "      <td>-73.982155</td>\n",
              "      <td>40.767937</td>\n",
              "      <td>-73.964630</td>\n",
              "      <td>40.765602</td>\n",
              "      <td>0</td>\n",
              "      <td>455</td>\n",
              "      <td>1.502172</td>\n",
              "      <td>2016</td>\n",
              "      <td>3</td>\n",
              "      <td>14</td>\n",
              "      <td>17</td>\n",
              "      <td>24</td>\n",
              "      <td>55</td>\n",
              "      <td>1</td>\n",
              "      <td>11.89</td>\n",
              "    </tr>\n",
              "    <tr>\n",
              "      <th>1</th>\n",
              "      <td>id2377394</td>\n",
              "      <td>1</td>\n",
              "      <td>2016-06-12 00:43:35</td>\n",
              "      <td>2016-06-12 00:54:38</td>\n",
              "      <td>1</td>\n",
              "      <td>-73.980415</td>\n",
              "      <td>40.738564</td>\n",
              "      <td>-73.999481</td>\n",
              "      <td>40.731152</td>\n",
              "      <td>0</td>\n",
              "      <td>663</td>\n",
              "      <td>1.502172</td>\n",
              "      <td>2016</td>\n",
              "      <td>6</td>\n",
              "      <td>12</td>\n",
              "      <td>0</td>\n",
              "      <td>43</td>\n",
              "      <td>35</td>\n",
              "      <td>7</td>\n",
              "      <td>8.16</td>\n",
              "    </tr>\n",
              "    <tr>\n",
              "      <th>2</th>\n",
              "      <td>id3858529</td>\n",
              "      <td>2</td>\n",
              "      <td>2016-01-19 11:35:24</td>\n",
              "      <td>2016-01-19 12:10:48</td>\n",
              "      <td>1</td>\n",
              "      <td>-73.979027</td>\n",
              "      <td>40.763939</td>\n",
              "      <td>-74.005333</td>\n",
              "      <td>40.710087</td>\n",
              "      <td>0</td>\n",
              "      <td>2124</td>\n",
              "      <td>1.502172</td>\n",
              "      <td>2016</td>\n",
              "      <td>1</td>\n",
              "      <td>19</td>\n",
              "      <td>11</td>\n",
              "      <td>35</td>\n",
              "      <td>24</td>\n",
              "      <td>4</td>\n",
              "      <td>2.55</td>\n",
              "    </tr>\n",
              "    <tr>\n",
              "      <th>3</th>\n",
              "      <td>id3504673</td>\n",
              "      <td>2</td>\n",
              "      <td>2016-04-06 19:32:31</td>\n",
              "      <td>2016-04-06 19:39:40</td>\n",
              "      <td>1</td>\n",
              "      <td>-74.010040</td>\n",
              "      <td>40.719971</td>\n",
              "      <td>-74.012268</td>\n",
              "      <td>40.706718</td>\n",
              "      <td>0</td>\n",
              "      <td>429</td>\n",
              "      <td>1.502172</td>\n",
              "      <td>2016</td>\n",
              "      <td>4</td>\n",
              "      <td>6</td>\n",
              "      <td>19</td>\n",
              "      <td>32</td>\n",
              "      <td>31</td>\n",
              "      <td>3</td>\n",
              "      <td>12.61</td>\n",
              "    </tr>\n",
              "    <tr>\n",
              "      <th>4</th>\n",
              "      <td>id2181028</td>\n",
              "      <td>2</td>\n",
              "      <td>2016-03-26 13:30:55</td>\n",
              "      <td>2016-03-26 13:38:10</td>\n",
              "      <td>1</td>\n",
              "      <td>-73.973053</td>\n",
              "      <td>40.793209</td>\n",
              "      <td>-73.972923</td>\n",
              "      <td>40.782520</td>\n",
              "      <td>0</td>\n",
              "      <td>435</td>\n",
              "      <td>1.502172</td>\n",
              "      <td>2016</td>\n",
              "      <td>3</td>\n",
              "      <td>26</td>\n",
              "      <td>13</td>\n",
              "      <td>30</td>\n",
              "      <td>55</td>\n",
              "      <td>6</td>\n",
              "      <td>12.43</td>\n",
              "    </tr>\n",
              "  </tbody>\n",
              "</table>\n",
              "</div>"
            ],
            "text/plain": [
              "          id  vendor_id  ... pickup_day avg_speed(km/hr)\n",
              "0  id2875421          2  ...          1            11.89\n",
              "1  id2377394          1  ...          7             8.16\n",
              "2  id3858529          2  ...          4             2.55\n",
              "3  id3504673          2  ...          3            12.61\n",
              "4  id2181028          2  ...          6            12.43\n",
              "\n",
              "[5 rows x 20 columns]"
            ]
          },
          "metadata": {},
          "execution_count": 43
        }
      ]
    },
    {
      "cell_type": "code",
      "metadata": {
        "id": "RA_FwzLmDXri"
      },
      "source": [
        "col_to_drop= ['id','pickup_longitude', 'pickup_latitude','dropoff_longitude',\n",
        "                         'dropoff_latitude','pickup_year',\n",
        "                          'pickup_datetime','dropoff_datetime']\n",
        "taxi_df= taxi_data.drop(col_to_drop, axis=1)"
      ],
      "execution_count": null,
      "outputs": []
    },
    {
      "cell_type": "code",
      "metadata": {
        "colab": {
          "base_uri": "https://localhost:8080/",
          "height": 628
        },
        "id": "z_NacSveEvJF",
        "outputId": "caf7a716-4ee7-439f-d9ee-a79cab1eef9c"
      },
      "source": [
        "taxi_df.corr()"
      ],
      "execution_count": null,
      "outputs": [
        {
          "output_type": "execute_result",
          "data": {
            "text/html": [
              "<div>\n",
              "<style scoped>\n",
              "    .dataframe tbody tr th:only-of-type {\n",
              "        vertical-align: middle;\n",
              "    }\n",
              "\n",
              "    .dataframe tbody tr th {\n",
              "        vertical-align: top;\n",
              "    }\n",
              "\n",
              "    .dataframe thead th {\n",
              "        text-align: right;\n",
              "    }\n",
              "</style>\n",
              "<table border=\"1\" class=\"dataframe\">\n",
              "  <thead>\n",
              "    <tr style=\"text-align: right;\">\n",
              "      <th></th>\n",
              "      <th>vendor_id</th>\n",
              "      <th>passenger_count</th>\n",
              "      <th>store_and_fwd_flag</th>\n",
              "      <th>trip_duration</th>\n",
              "      <th>distance</th>\n",
              "      <th>pickup_month</th>\n",
              "      <th>pickup_date</th>\n",
              "      <th>pickup_hour</th>\n",
              "      <th>pickup_minute</th>\n",
              "      <th>pickup_second</th>\n",
              "      <th>pickup_day</th>\n",
              "      <th>avg_speed(km/hr)</th>\n",
              "    </tr>\n",
              "  </thead>\n",
              "  <tbody>\n",
              "    <tr>\n",
              "      <th>vendor_id</th>\n",
              "      <td>1.000000e+00</td>\n",
              "      <td>2.872130e-01</td>\n",
              "      <td>-7.962482e-02</td>\n",
              "      <td>2.013917e-02</td>\n",
              "      <td>-1.251268e-14</td>\n",
              "      <td>-6.180852e-03</td>\n",
              "      <td>6.655810e-04</td>\n",
              "      <td>9.224111e-03</td>\n",
              "      <td>-4.429831e-04</td>\n",
              "      <td>1.086562e-03</td>\n",
              "      <td>2.053384e-03</td>\n",
              "      <td>-8.452862e-03</td>\n",
              "    </tr>\n",
              "    <tr>\n",
              "      <th>passenger_count</th>\n",
              "      <td>2.872130e-01</td>\n",
              "      <td>1.000000e+00</td>\n",
              "      <td>-2.168135e-02</td>\n",
              "      <td>8.334228e-03</td>\n",
              "      <td>-9.542180e-15</td>\n",
              "      <td>-2.167033e-03</td>\n",
              "      <td>1.993599e-03</td>\n",
              "      <td>9.004591e-03</td>\n",
              "      <td>9.369673e-04</td>\n",
              "      <td>9.774112e-04</td>\n",
              "      <td>2.429681e-02</td>\n",
              "      <td>-1.396095e-02</td>\n",
              "    </tr>\n",
              "    <tr>\n",
              "      <th>store_and_fwd_flag</th>\n",
              "      <td>-7.962482e-02</td>\n",
              "      <td>-2.168135e-02</td>\n",
              "      <td>1.000000e+00</td>\n",
              "      <td>1.847925e-03</td>\n",
              "      <td>2.427901e-14</td>\n",
              "      <td>3.238412e-04</td>\n",
              "      <td>1.168002e-03</td>\n",
              "      <td>2.322635e-03</td>\n",
              "      <td>7.698584e-05</td>\n",
              "      <td>1.428498e-03</td>\n",
              "      <td>-4.308059e-03</td>\n",
              "      <td>-8.495733e-03</td>\n",
              "    </tr>\n",
              "    <tr>\n",
              "      <th>trip_duration</th>\n",
              "      <td>2.013917e-02</td>\n",
              "      <td>8.334228e-03</td>\n",
              "      <td>1.847925e-03</td>\n",
              "      <td>1.000000e+00</td>\n",
              "      <td>-3.609899e-15</td>\n",
              "      <td>6.640097e-03</td>\n",
              "      <td>5.728918e-04</td>\n",
              "      <td>3.624653e-03</td>\n",
              "      <td>-2.359164e-03</td>\n",
              "      <td>4.593349e-05</td>\n",
              "      <td>-4.615982e-05</td>\n",
              "      <td>-9.254418e-02</td>\n",
              "    </tr>\n",
              "    <tr>\n",
              "      <th>distance</th>\n",
              "      <td>-1.251268e-14</td>\n",
              "      <td>-9.542180e-15</td>\n",
              "      <td>2.427901e-14</td>\n",
              "      <td>-3.609899e-15</td>\n",
              "      <td>1.000000e+00</td>\n",
              "      <td>-7.021432e-15</td>\n",
              "      <td>1.026985e-14</td>\n",
              "      <td>-1.004607e-14</td>\n",
              "      <td>-5.666181e-15</td>\n",
              "      <td>-5.304363e-16</td>\n",
              "      <td>-2.436334e-16</td>\n",
              "      <td>1.568654e-13</td>\n",
              "    </tr>\n",
              "    <tr>\n",
              "      <th>pickup_month</th>\n",
              "      <td>-6.180852e-03</td>\n",
              "      <td>-2.167033e-03</td>\n",
              "      <td>3.238412e-04</td>\n",
              "      <td>6.640097e-03</td>\n",
              "      <td>-7.021432e-15</td>\n",
              "      <td>1.000000e+00</td>\n",
              "      <td>-1.515562e-02</td>\n",
              "      <td>-3.448503e-03</td>\n",
              "      <td>-9.973182e-04</td>\n",
              "      <td>3.004586e-04</td>\n",
              "      <td>-1.273535e-02</td>\n",
              "      <td>-2.802687e-02</td>\n",
              "    </tr>\n",
              "    <tr>\n",
              "      <th>pickup_date</th>\n",
              "      <td>6.655810e-04</td>\n",
              "      <td>1.993599e-03</td>\n",
              "      <td>1.168002e-03</td>\n",
              "      <td>5.728918e-04</td>\n",
              "      <td>1.026985e-14</td>\n",
              "      <td>-1.515562e-02</td>\n",
              "      <td>1.000000e+00</td>\n",
              "      <td>4.460615e-04</td>\n",
              "      <td>-1.715999e-04</td>\n",
              "      <td>1.817385e-04</td>\n",
              "      <td>2.819575e-03</td>\n",
              "      <td>-7.938074e-03</td>\n",
              "    </tr>\n",
              "    <tr>\n",
              "      <th>pickup_hour</th>\n",
              "      <td>9.224111e-03</td>\n",
              "      <td>9.004591e-03</td>\n",
              "      <td>2.322635e-03</td>\n",
              "      <td>3.624653e-03</td>\n",
              "      <td>-1.004607e-14</td>\n",
              "      <td>-3.448503e-03</td>\n",
              "      <td>4.460615e-04</td>\n",
              "      <td>1.000000e+00</td>\n",
              "      <td>-3.210522e-03</td>\n",
              "      <td>1.481413e-03</td>\n",
              "      <td>-8.053157e-02</td>\n",
              "      <td>-3.944459e-02</td>\n",
              "    </tr>\n",
              "    <tr>\n",
              "      <th>pickup_minute</th>\n",
              "      <td>-4.429831e-04</td>\n",
              "      <td>9.369673e-04</td>\n",
              "      <td>7.698584e-05</td>\n",
              "      <td>-2.359164e-03</td>\n",
              "      <td>-5.666181e-15</td>\n",
              "      <td>-9.973182e-04</td>\n",
              "      <td>-1.715999e-04</td>\n",
              "      <td>-3.210522e-03</td>\n",
              "      <td>1.000000e+00</td>\n",
              "      <td>-1.034088e-03</td>\n",
              "      <td>-2.272971e-05</td>\n",
              "      <td>7.202723e-03</td>\n",
              "    </tr>\n",
              "    <tr>\n",
              "      <th>pickup_second</th>\n",
              "      <td>1.086562e-03</td>\n",
              "      <td>9.774112e-04</td>\n",
              "      <td>1.428498e-03</td>\n",
              "      <td>4.593349e-05</td>\n",
              "      <td>-5.304363e-16</td>\n",
              "      <td>3.004586e-04</td>\n",
              "      <td>1.817385e-04</td>\n",
              "      <td>1.481413e-03</td>\n",
              "      <td>-1.034088e-03</td>\n",
              "      <td>1.000000e+00</td>\n",
              "      <td>-1.035631e-03</td>\n",
              "      <td>-4.722886e-04</td>\n",
              "    </tr>\n",
              "    <tr>\n",
              "      <th>pickup_day</th>\n",
              "      <td>2.053384e-03</td>\n",
              "      <td>2.429681e-02</td>\n",
              "      <td>-4.308059e-03</td>\n",
              "      <td>-4.615982e-05</td>\n",
              "      <td>-2.436334e-16</td>\n",
              "      <td>-1.273535e-02</td>\n",
              "      <td>2.819575e-03</td>\n",
              "      <td>-8.053157e-02</td>\n",
              "      <td>-2.272971e-05</td>\n",
              "      <td>-1.035631e-03</td>\n",
              "      <td>1.000000e+00</td>\n",
              "      <td>1.872427e-02</td>\n",
              "    </tr>\n",
              "    <tr>\n",
              "      <th>avg_speed(km/hr)</th>\n",
              "      <td>-8.452862e-03</td>\n",
              "      <td>-1.396095e-02</td>\n",
              "      <td>-8.495733e-03</td>\n",
              "      <td>-9.254418e-02</td>\n",
              "      <td>1.568654e-13</td>\n",
              "      <td>-2.802687e-02</td>\n",
              "      <td>-7.938074e-03</td>\n",
              "      <td>-3.944459e-02</td>\n",
              "      <td>7.202723e-03</td>\n",
              "      <td>-4.722886e-04</td>\n",
              "      <td>1.872427e-02</td>\n",
              "      <td>1.000000e+00</td>\n",
              "    </tr>\n",
              "  </tbody>\n",
              "</table>\n",
              "</div>"
            ],
            "text/plain": [
              "                       vendor_id  ...  avg_speed(km/hr)\n",
              "vendor_id           1.000000e+00  ...     -8.452862e-03\n",
              "passenger_count     2.872130e-01  ...     -1.396095e-02\n",
              "store_and_fwd_flag -7.962482e-02  ...     -8.495733e-03\n",
              "trip_duration       2.013917e-02  ...     -9.254418e-02\n",
              "distance           -1.251268e-14  ...      1.568654e-13\n",
              "pickup_month       -6.180852e-03  ...     -2.802687e-02\n",
              "pickup_date         6.655810e-04  ...     -7.938074e-03\n",
              "pickup_hour         9.224111e-03  ...     -3.944459e-02\n",
              "pickup_minute      -4.429831e-04  ...      7.202723e-03\n",
              "pickup_second       1.086562e-03  ...     -4.722886e-04\n",
              "pickup_day          2.053384e-03  ...      1.872427e-02\n",
              "avg_speed(km/hr)   -8.452862e-03  ...      1.000000e+00\n",
              "\n",
              "[12 rows x 12 columns]"
            ]
          },
          "metadata": {},
          "execution_count": 46
        }
      ]
    },
    {
      "cell_type": "code",
      "metadata": {
        "id": "VDj5rtoqY921",
        "colab": {
          "base_uri": "https://localhost:8080/",
          "height": 711
        },
        "outputId": "91607ea1-6530-4c8e-f792-175bba4abba1"
      },
      "source": [
        "plt.figure(figsize=(15,10))\n",
        "sns.heatmap(round(taxi_df.corr(),2),annot=True,cmap='coolwarm')"
      ],
      "execution_count": null,
      "outputs": [
        {
          "output_type": "execute_result",
          "data": {
            "text/plain": [
              "<matplotlib.axes._subplots.AxesSubplot at 0x7fdb6d789e50>"
            ]
          },
          "metadata": {},
          "execution_count": 47
        },
        {
          "output_type": "display_data",
          "data": {
            "image/png": "[encoded data removed]",
            "text/plain": [
              "<Figure size 1080x720 with 2 Axes>"
            ]
          },
          "metadata": {}
        }
      ]
    },
    {
      "cell_type": "code",
      "metadata": {
        "id": "jGxr92jwa3Yn"
      },
      "source": [
        "from sklearn.preprocessing import MinMaxScaler\n",
        "from sklearn.model_selection import train_test_split\n",
        "from sklearn.linear_model import LinearRegression\n",
        "from sklearn.metrics import r2_score\n",
        "from sklearn.metrics import mean_squared_error\n",
        "from sklearn.metrics import mean_absolute_error"
      ],
      "execution_count": null,
      "outputs": []
    },
    {
      "cell_type": "code",
      "metadata": {
        "id": "zXVtva48GcGb"
      },
      "source": [
        "from scipy.stats import zscore\n"
      ],
      "execution_count": null,
      "outputs": []
    },
    {
      "cell_type": "code",
      "metadata": {
        "id": "ztgLkWjd22qR"
      },
      "source": [
        "X= taxi_df.drop(['trip_duration'],axis=1)\n",
        "y= np.log10(taxi_df['trip_duration'])"
      ],
      "execution_count": null,
      "outputs": []
    },
    {
      "cell_type": "code",
      "metadata": {
        "id": "WrxhdgBiGe_h"
      },
      "source": [
        "X=X.apply(zscore)"
      ],
      "execution_count": null,
      "outputs": []
    },
    {
      "cell_type": "code",
      "metadata": {
        "id": "AxKCH3d65any"
      },
      "source": [
        "X_train,X_test,y_train,y_test = train_test_split(X,y,test_size = 0.2,random_state = 32)"
      ],
      "execution_count": null,
      "outputs": []
    },
    {
      "cell_type": "code",
      "metadata": {
        "id": "hpwBYHA_22j4"
      },
      "source": [
        "scale = MinMaxScaler()\n",
        "X_train= scale.fit_transform(X_train)\n",
        "x_test= scale.transform(X_test)"
      ],
      "execution_count": null,
      "outputs": []
    },
    {
      "cell_type": "code",
      "metadata": {
        "colab": {
          "base_uri": "https://localhost:8080/"
        },
        "id": "iSbCHRutAW_d",
        "outputId": "7fbd82bc-00ae-4f82-e7bc-cd94112b5130"
      },
      "source": [
        "reg = LinearRegression()\n",
        "reg.fit(X_train,y_train)"
      ],
      "execution_count": null,
      "outputs": [
        {
          "output_type": "execute_result",
          "data": {
            "text/plain": [
              "LinearRegression(copy_X=True, fit_intercept=True, n_jobs=None, normalize=False)"
            ]
          },
          "metadata": {},
          "execution_count": 53
        }
      ]
    },
    {
      "cell_type": "code",
      "metadata": {
        "id": "0FRRARRU6DQ7"
      },
      "source": [
        "train_pred= reg.predict(X_train)"
      ],
      "execution_count": null,
      "outputs": []
    },
    {
      "cell_type": "code",
      "metadata": {
        "id": "CN6qHBXYAe8v"
      },
      "source": [
        "test_pred= reg.predict(X_test)"
      ],
      "execution_count": null,
      "outputs": []
    },
    {
      "cell_type": "code",
      "metadata": {
        "colab": {
          "base_uri": "https://localhost:8080/"
        },
        "id": "Mf3exVFEFTq4",
        "outputId": "83ec6277-4b7b-48c4-bf6e-7602b1753ad7"
      },
      "source": [
        "mean_squared_error(10**(y_test), 10**(test_pred))"
      ],
      "execution_count": null,
      "outputs": [
        {
          "output_type": "execute_result",
          "data": {
            "text/plain": [
              "22904562.953323014"
            ]
          },
          "metadata": {},
          "execution_count": 56
        }
      ]
    },
    {
      "cell_type": "code",
      "metadata": {
        "colab": {
          "base_uri": "https://localhost:8080/"
        },
        "id": "f8fxfIWPFofk",
        "outputId": "6e9a86ac-8b44-4f01-cce4-63f5f0912961"
      },
      "source": [
        "mean_squared_error(10**(y_train), 10**(train_pred))"
      ],
      "execution_count": null,
      "outputs": [
        {
          "output_type": "execute_result",
          "data": {
            "text/plain": [
              "28343517.52048442"
            ]
          },
          "metadata": {},
          "execution_count": 57
        }
      ]
    },
    {
      "cell_type": "code",
      "metadata": {
        "colab": {
          "base_uri": "https://localhost:8080/",
          "height": 1000
        },
        "id": "9eKZJmnsFvke",
        "outputId": "2405977e-09ac-4c4d-ec14-5990c1400806"
      },
      "source": [
        "plt.figure(figsize=(30,25))\n",
        "plt.plot(10**(test_pred))\n",
        "plt.plot(np.array(10**(y_test)))\n",
        "plt.legend([\"Predicted\",\"Actual\"])\n",
        "plt.show()"
      ],
      "execution_count": null,
      "outputs": [
        {
          "output_type": "display_data",
          "data": {
            "image/png": "[encoded data removed]",
            "text/plain": [
              "<Figure size 2160x1800 with 1 Axes>"
            ]
          },
          "metadata": {}
        }
      ]
    },
    {
      "cell_type": "code",
      "metadata": {
        "colab": {
          "base_uri": "https://localhost:8080/"
        },
        "id": "gXOe6FQMGzTf",
        "outputId": "cf152b2b-ecc0-406c-ce2e-044fdd72108c"
      },
      "source": [
        "r2_score(10**(y_train), 10**(train_pred))"
      ],
      "execution_count": null,
      "outputs": [
        {
          "output_type": "execute_result",
          "data": {
            "text/plain": [
              "0.009230355079179908"
            ]
          },
          "metadata": {},
          "execution_count": 58
        }
      ]
    },
    {
      "cell_type": "code",
      "metadata": {
        "colab": {
          "base_uri": "https://localhost:8080/"
        },
        "id": "kMJGEOJIHGNQ",
        "outputId": "fcbde6f3-5cbc-4d8c-aaef-48f63f291d44"
      },
      "source": [
        "(1- r2_score(y_train, train_pred))*(X_train.shape[0] - 1)/(X_train.shape[0] - X_train.shape[1] - 1)"
      ],
      "execution_count": null,
      "outputs": [
        {
          "output_type": "execute_result",
          "data": {
            "text/plain": [
              "0.3360656612675375"
            ]
          },
          "metadata": {},
          "execution_count": 59
        }
      ]
    },
    {
      "cell_type": "code",
      "metadata": {
        "id": "5nV4OhiGHh6T"
      },
      "source": [
        "mean_absolute_error()"
      ],
      "execution_count": null,
      "outputs": []
    },
    {
      "cell_type": "code",
      "metadata": {
        "colab": {
          "base_uri": "https://localhost:8080/"
        },
        "id": "CkjAn3VRI5hc",
        "outputId": "aa3eed32-94bc-40d6-80df-0ab50512b51c"
      },
      "source": [
        "reg.score(X_train, y_train)"
      ],
      "execution_count": null,
      "outputs": [
        {
          "output_type": "execute_result",
          "data": {
            "text/plain": [
              "0.6639375173360023"
            ]
          },
          "metadata": {},
          "execution_count": 61
        }
      ]
    },
    {
      "cell_type": "code",
      "metadata": {
        "id": "i6X1EeE7I9st"
      },
      "source": [
        ""
      ],
      "execution_count": null,
      "outputs": []
    }
  ]
}